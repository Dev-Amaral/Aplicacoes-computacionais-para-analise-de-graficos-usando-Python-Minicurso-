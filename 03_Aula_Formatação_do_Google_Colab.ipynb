{
  "nbformat": 4,
  "nbformat_minor": 0,
  "metadata": {
    "colab": {
      "provenance": [],
      "mount_file_id": "135-h5riT38VbvOTV5fgFiQP5qDkLlvkg",
      "authorship_tag": "ABX9TyNEw9IPLJ+4TMTte8Eqesce",
      "include_colab_link": true
    },
    "kernelspec": {
      "name": "python3",
      "display_name": "Python 3"
    },
    "language_info": {
      "name": "python"
    }
  },
  "cells": [
    {
      "cell_type": "markdown",
      "metadata": {
        "id": "view-in-github",
        "colab_type": "text"
      },
      "source": [
        "<a href=\"https://colab.research.google.com/github/Dev-Amaral/Aplicacoes-computacionais-para-analise-de-graficos-usando-Python-Minicurso-/blob/main/03_Aula_Formata%C3%A7%C3%A3o_do_Google_Colab.ipynb\" target=\"_parent\"><img src=\"https://colab.research.google.com/assets/colab-badge.svg\" alt=\"Open In Colab\"/></a>"
      ]
    },
    {
      "cell_type": "markdown",
      "source": [
        "---\n",
        "# **1. O que é o Google Colaboratory?**\n",
        "---"
      ],
      "metadata": {
        "id": "EnHkqKcpBg0m"
      }
    },
    {
      "cell_type": "markdown",
      "source": [
        "![colab](https://static1.anpoimages.com/wordpress/wp-content/uploads/2023/03/what-is-google-colab-hero-copy.jpg)"
      ],
      "metadata": {
        "id": "vlSP4_5DCcjt"
      }
    },
    {
      "cell_type": "markdown",
      "source": [
        "### O Google Colab, ou Google Colaboratory, é uma ferramenta online que permite que você escreva e execute código em Python diretamente no navegador. É como um caderno digital onde você pode combinar código, texto, gráficos e visualizações.\n",
        "\n",
        "### Uma ferramenta para quem quer aprender programação, fazer análises de dados ou trabalhar com inteligência artificial de maneira simples e colaborativa."
      ],
      "metadata": {
        "id": "DTBsRMYCCifc"
      }
    },
    {
      "cell_type": "markdown",
      "source": [
        "---\n",
        "\n",
        "#### Vantagens principais:\n",
        "---"
      ],
      "metadata": {
        "id": "6uICf5bBClAV"
      }
    },
    {
      "cell_type": "markdown",
      "source": [
        "- Gratuito e Online;\n",
        "- Execução de Código;\n",
        "- Integração com Google Drive\n",
        "- Colaboração;\n",
        "- Recursos de inteligência artificial;"
      ],
      "metadata": {
        "id": "uEDCCBuNCwyu"
      }
    },
    {
      "cell_type": "markdown",
      "source": [
        "---\n",
        "\n",
        "# **1.1 Um pouco sobre o Jupyter:**\n",
        "\n",
        "![jup](https://nightingalehq.ai/knowledgebase/glossary/what-is-jupyter/jupyter.jpg)\n",
        "\n",
        "---"
      ],
      "metadata": {
        "id": "Od-bosCcC57Y"
      }
    },
    {
      "cell_type": "markdown",
      "source": [
        "### Jupyter nasceu em 2014 como um projeto de código aberto, evoluindo a partir do IPython, que foi criado por Fernando Pérez em 2001. O IPython inicialmente era uma ferramenta para executar código Python, mas ao longo do tempo, a necessidade de suportar várias linguagens levou à criação do Jupyter.\n",
        "\n",
        "\n",
        "\n",
        "### O nome \"Jupyter\" é uma combinação das três linguagens suportadas inicialmente: Julia, Python e R. O Jupyter fornece um ambiente interativo que permite aos usuários misturar código, texto, visualizações e outros elementos em um único documento, chamado de notebook.\n",
        "\n",
        "\n",
        "\n",
        "### **O Google Colab foi lançado em 2017 como uma plataforma baseada em nuvem para programação em Python, inspirada na interface dos notebooks Jupyter. O Colab foi desenvolvido para facilitar o aprendizado e a prática de ciência de dados e aprendizado de máquina, permitindo que qualquer pessoa com acesso à internet pudesse usar recursos avançados sem a necessidade de configuração de ambiente local.**"
      ],
      "metadata": {
        "id": "55fgLvpQBj8S"
      }
    },
    {
      "cell_type": "markdown",
      "source": [
        "---\n",
        "\n",
        "#**1.2 Execução Local vs. Nuvem:**\n"
      ],
      "metadata": {
        "id": "yyAp9vbvDI0U"
      }
    },
    {
      "cell_type": "markdown",
      "source": [
        "### Jupyter: É geralmente executado localmente, o que requer instalação e configuração. No entanto, existem versões como o JupyterHub para empresas e escolas, que permitem o uso em um servidor centralizado.\n",
        "\n",
        "### Colab: Funciona inteiramente na nuvem, usando servidores do Google, então não depende do poder de processamento do seu computador.\n",
        "\n"
      ],
      "metadata": {
        "id": "gSwFLtJuCK37"
      }
    },
    {
      "cell_type": "markdown",
      "source": [
        "---------\n",
        "# **2. Marcação de texto no Google Colab**\n",
        "----\n",
        "\n",
        "\n"
      ],
      "metadata": {
        "id": "9SZagt__FLZc"
      }
    },
    {
      "cell_type": "markdown",
      "source": [
        "\n",
        "<center><img src=\"https://encrypted-tbn0.gstatic.com/images?q=tbn:ANd9GcTsTfXwY_1HFsyuMhX0ajaCCv_ZsKlUb9k0kA&s\" width=\"300\"</center>\n"
      ],
      "metadata": {
        "id": "Y82H8KbmDTI8"
      }
    },
    {
      "cell_type": "markdown",
      "source": [
        "\n",
        "### No Google Colab, você pode usar três tipos de marcação de texto principais para estilizar seus notebooks: **Markdown, HTML e LaTeX**. Cada um deles tem uma função específica e permite que você formate o texto de diferentes maneiras."
      ],
      "metadata": {
        "id": "yxHBBCiHZ6Gt"
      }
    },
    {
      "cell_type": "markdown",
      "source": [
        "---\n",
        "# **2.1 Inserindo Título**\n",
        "\n",
        "### Utilize o \\# para inserir cabeçalhos e títulos, quantos mais \\# menor o texto:\n"
      ],
      "metadata": {
        "id": "NMKwyMc4GIxc"
      }
    },
    {
      "cell_type": "markdown",
      "source": [
        "---\n",
        "# **2.2 Itálico, Negrito e Tachado**\n",
        "### Esta estilização é feita da seguinte forma:\n"
      ],
      "metadata": {
        "id": "U5ewVFvgGN1y"
      }
    },
    {
      "cell_type": "markdown",
      "source": [
        "\\** **negrito** \\**\n"
      ],
      "metadata": {
        "id": "O_VN06El8OC2"
      }
    },
    {
      "cell_type": "markdown",
      "source": [
        "\\* *Itálico* \\*\n"
      ],
      "metadata": {
        "id": "_w7Cp-Z18Qkz"
      }
    },
    {
      "cell_type": "markdown",
      "source": [
        "\\~ ~Tachado~ \\~"
      ],
      "metadata": {
        "id": "Mm_dkHKm8Tfg"
      }
    },
    {
      "cell_type": "markdown",
      "source": [
        "---\n",
        "# **2.3 Inserindo listas**"
      ],
      "metadata": {
        "id": "j5jkDQC3H57b"
      }
    },
    {
      "cell_type": "markdown",
      "source": [
        "### Ordenada:"
      ],
      "metadata": {
        "id": "XfV0D69RMgMh"
      }
    },
    {
      "cell_type": "markdown",
      "source": [
        "\n",
        "1. Item 1\n",
        "2. Item 2\n",
        "3. Item 3\n"
      ],
      "metadata": {
        "id": "skaqFBtQDr2m"
      }
    },
    {
      "cell_type": "markdown",
      "source": [
        "### Não ordenada:"
      ],
      "metadata": {
        "id": "1QLymuJiMiug"
      }
    },
    {
      "cell_type": "markdown",
      "source": [
        "\n",
        "- Item\n",
        "- Item\n",
        "- Item"
      ],
      "metadata": {
        "id": "hF_lqfePDuM-"
      }
    },
    {
      "cell_type": "markdown",
      "source": [
        "---\n",
        "# **2.4 Citação**\n",
        "<br>\n"
      ],
      "metadata": {
        "id": "wCk7ByqTIXpx"
      }
    },
    {
      "cell_type": "markdown",
      "source": [
        "### **2.4.1 Com 'maior que'** (\\>):"
      ],
      "metadata": {
        "id": "5CsQWxWYD0zV"
      }
    },
    {
      "cell_type": "markdown",
      "source": [
        "### \"Às vezes, é a pessoa que ninguém imagina nada fazer, que faz as coisas que ninguém consegue imaginar.\"\n",
        " >Alan Turing\n"
      ],
      "metadata": {
        "id": "oyMyoGzF_HXy"
      }
    },
    {
      "cell_type": "markdown",
      "source": [
        "### **2.4.2 Inline com crases (``) exemplo:**"
      ],
      "metadata": {
        "id": "slDGCuTnD99n"
      }
    },
    {
      "cell_type": "markdown",
      "source": [
        "\n",
        "### Para instalar a biblioteca desejada utilize `!pip install biblioteca`\n"
      ],
      "metadata": {
        "id": "LAx5HCUe_Ncy"
      }
    },
    {
      "cell_type": "markdown",
      "source": [
        "### **2.4.3 Em bloco:**"
      ],
      "metadata": {
        "id": "Kp2zZ2K6EE2S"
      }
    },
    {
      "cell_type": "markdown",
      "source": [
        "```\n",
        "git add .\n",
        "\n",
        "git commit - m \"first commit\"\n",
        "\n",
        "git push origin main\n",
        " ```\n"
      ],
      "metadata": {
        "id": "ZL_wG-24_ROR"
      }
    },
    {
      "cell_type": "markdown",
      "source": [
        " ### **2.4.4 Em bloco com linguagem específica**\n"
      ],
      "metadata": {
        "id": "4IHkL9E3ESuF"
      }
    },
    {
      "cell_type": "markdown",
      "source": [
        " ```python\n",
        " #Exemplo de código em python:\n",
        " print(\"Olá mundo!\")\n",
        " ```"
      ],
      "metadata": {
        "id": "QockN59C_U4p"
      }
    },
    {
      "cell_type": "markdown",
      "source": [
        "---\n",
        "## **2.5 Inserindo imagens**"
      ],
      "metadata": {
        "id": "WtwVsIvuM_O_"
      }
    },
    {
      "cell_type": "markdown",
      "source": [
        "### O comando para inserir imagens é:\n",
        "\n",
        "\n",
        "``` markdown\n",
        "![Altdaimagem](URL_da_imagem)\n",
        "```"
      ],
      "metadata": {
        "id": "SIbOz0AlNSPr"
      }
    },
    {
      "cell_type": "markdown",
      "source": [
        "### Ou então utilizando tag HTML:\n",
        "\n",
        "``` html\n",
        "<img alt=\"alt da imagem\" src = \"URL_da_imagem\">\n",
        "```"
      ],
      "metadata": {
        "id": "QB_qhggQFQYG"
      }
    },
    {
      "cell_type": "markdown",
      "source": [
        "---\n",
        "## **2.6 Inserindo Links**"
      ],
      "metadata": {
        "id": "pOn5aJAXO_8W"
      }
    },
    {
      "cell_type": "markdown",
      "source": [
        "### Utilize o comando:\n",
        "\n",
        "``` markdown\n",
        "[Alt do link](URL_DO_LINK)\n",
        "```"
      ],
      "metadata": {
        "id": "ZPZaCKI-Pa4j"
      }
    },
    {
      "cell_type": "markdown",
      "source": [
        "\n",
        "### Ou então utilize a tag HTML:\n",
        "\n",
        "``` html\n",
        "<a alt = \"alt link\" hrfe =\"URL_DO_LINK\">\n",
        "```"
      ],
      "metadata": {
        "id": "-F0aX3bxFYPM"
      }
    },
    {
      "cell_type": "markdown",
      "source": [
        "----\n",
        "## **2.7 Tabelas**"
      ],
      "metadata": {
        "id": "jG5ReCnA8_H0"
      }
    },
    {
      "cell_type": "markdown",
      "source": [
        "### Em HTML (mais difícil):\n",
        "\n",
        "``` html\n",
        "\n",
        "<table>\n",
        "  <tr>\n",
        "    <th>Cabeçalho 1</th>\n",
        "    <th>Cabeçalho 2</th>\n",
        "    <th>Cabeçalho 3</th>\n",
        "  </tr>\n",
        "  <tr>\n",
        "    <td>Valor 1</td>\n",
        "    <td>Valor 2</td>\n",
        "    <td>Valor 3</td>\n",
        "  </tr>\n",
        "  <tr>\n",
        "    <td>Valor 1</td>\n",
        "    <td>Valor 2</td>\n",
        "    <td>Valor 3</td>\n",
        "  </tr>\n",
        "  \n",
        "</table>\n",
        "\n",
        "```"
      ],
      "metadata": {
        "id": "9ee1pA5eRWKF"
      }
    },
    {
      "cell_type": "markdown",
      "source": [
        "\n",
        "### Resultado:\n",
        "\n",
        "<table>\n",
        "  <tr>\n",
        "    <th>Cabeçalho 1</th>\n",
        "    <th>Cabeçalho 2</th>\n",
        "    <th>Cabeçalho 3</th>\n",
        "  </tr>\n",
        "  <tr>\n",
        "    <td>Valor 1</td>\n",
        "    <td>Valor 2</td>\n",
        "    <td>Valor 3</td>\n",
        "  </tr>\n",
        "  <tr>\n",
        "    <td>Valor 1</td>\n",
        "    <td>Valor 2</td>\n",
        "    <td>Valor 3</td>\n",
        "  </tr>\n",
        "  \n",
        "</table>"
      ],
      "metadata": {
        "id": "Bo9JLHdv9cvX"
      }
    },
    {
      "cell_type": "markdown",
      "source": [
        "### Em markdown"
      ],
      "metadata": {
        "id": "YWfQsQKsGz95"
      }
    },
    {
      "cell_type": "markdown",
      "source": [
        "\n",
        "``` markdown\n",
        "\n",
        "|Cabeçalho 1 | Cabeçalho 2 |Cabeçalho 3 |\n",
        "|---         |---          |---         |\n",
        "|Item        |Item         |Item        |\n",
        "|Item        |Item         |Item        |\n",
        "\n",
        "```"
      ],
      "metadata": {
        "id": "DxHSaSCE9UH9"
      }
    },
    {
      "cell_type": "markdown",
      "source": [
        "### Resultado:\n"
      ],
      "metadata": {
        "id": "IeRWY5v8Mxm5"
      }
    },
    {
      "cell_type": "markdown",
      "source": [
        "\n",
        "|Cabeçalho 1 | Cabeçalho 2 |Cabeçalho 3 |\n",
        "|---         |---          |---         |\n",
        "|Item        |Item         |Item        |\n",
        "|Item        |Item         |Item        |"
      ],
      "metadata": {
        "id": "bTd1VYuxArZc"
      }
    },
    {
      "cell_type": "markdown",
      "source": [
        "---\n",
        "# **3. LaTeX**\n",
        "---\n",
        "\n",
        "<center><img src=\"https://apexsolutionsltd.com/wp-content/uploads/2021/09/LaTeX-editor-insights-that-might-be-useful-for-your-Business-800x400.png\" width = \"500\"</center>\n"
      ],
      "metadata": {
        "id": "Kx_np-yw-cIK"
      }
    },
    {
      "cell_type": "markdown",
      "source": [
        "### LaTeX (pronunciado \"Lay-tech\"Lá-tex\") é uma linguagem de marcação usada para criar documentos de alta qualidade, especialmente aqueles que envolvem matemática, fórmulas científicas e estruturas complexas de documentos. Ele é muito popular entre cientistas, engenheiros, matemáticos e acadêmicos, porque facilita a criação de textos com fórmulas matemáticas, citações bibliográficas, tabelas, figuras e muito mais de forma precisa e profissional.\n",
        "\n",
        "### Como funciona?\n",
        "\n",
        "<br>\n",
        "\n",
        "### O LaTeX não é um programa, mas uma linguagem de formatação de documentos. Em vez de formatar um documento clicando em botões (como em processadores de texto convencionais, como o Word), você escreve o texto e as instruções de formatação diretamente no código."
      ],
      "metadata": {
        "id": "xd8Sjt-0E-b8"
      }
    },
    {
      "cell_type": "markdown",
      "source": [
        "## **3.1 Polinômio, frações, raízes:**"
      ],
      "metadata": {
        "id": "cW5FpoBoFu2Q"
      }
    },
    {
      "cell_type": "markdown",
      "source": [
        "### Para incorporar as fórmulas matemáticas, funciona da mesma forma que o LaTeX:\n",
        "\n",
        "### Utilize o comando o cifrão ($) da seguinte forma: `$formula aqui dentro$`\n"
      ],
      "metadata": {
        "id": "m_BrW44M7jQS"
      }
    },
    {
      "cell_type": "markdown",
      "source": [
        "### Fração:\n",
        "\n",
        "``` latex\n",
        "$ k = frac{a}{b} $\n",
        "```\n"
      ],
      "metadata": {
        "id": "Drqc4FvI93Al"
      }
    },
    {
      "cell_type": "markdown",
      "source": [
        "### Resultado:"
      ],
      "metadata": {
        "id": "SSig68mtM--p"
      }
    },
    {
      "cell_type": "markdown",
      "source": [
        "---\n",
        "\n",
        "### Polinômio:\n",
        "\n",
        "```latex\n",
        "$ax^2+bx+c$\n",
        "```\n"
      ],
      "metadata": {
        "id": "3tuWp2jR-Cb2"
      }
    },
    {
      "cell_type": "markdown",
      "source": [
        "\n",
        "### Calculamos suas raízes usando:\n",
        "\n",
        "```latex\n",
        "$x = \\frac{-b \\pm \\sqrt{b^2 - 4.a.c}}{2.a}$\n",
        "```"
      ],
      "metadata": {
        "id": "MUDxr57B_mfE"
      }
    },
    {
      "cell_type": "markdown",
      "source": [
        "---\n",
        "## **3.2 Derivadas, integrais**\n"
      ],
      "metadata": {
        "id": "34s6T3b9BxD2"
      }
    },
    {
      "cell_type": "markdown",
      "source": [
        "---\n",
        "## **3.2.1 Derivada:**\n",
        "---\n",
        "### **Notação de Lagrange:**\n",
        "### Existem algumas maneiras de usar derivadas no LaTeX. Uma dessas, a mais fácil, é usando o apóstrofo/linha:\n"
      ],
      "metadata": {
        "id": "Ai9VI9RnGc7c"
      }
    },
    {
      "cell_type": "markdown",
      "source": [
        "` $f'(x)$ `\n",
        "\n",
        "` $y'$ `"
      ],
      "metadata": {
        "id": "vmX17ryP__Mg"
      }
    },
    {
      "cell_type": "markdown",
      "source": [
        "### Resultado:"
      ],
      "metadata": {
        "id": "O4rpFFYbNRln"
      }
    },
    {
      "cell_type": "markdown",
      "source": [
        "\n",
        "\n",
        "$f'(x), f''(x), f'''(x) \\rightarrow y', y'', y''' ...$\n"
      ],
      "metadata": {
        "id": "oYDexagvADyL"
      }
    },
    {
      "cell_type": "markdown",
      "source": [
        "### **Notação de parentêses (ou Notação de Ordem):**\n",
        "### Para quem já estudou cálculo sabe que para as derivadas de ordem superior, geralmente a partir da quarta derivada da função representamos da seguinte forma:\n",
        "\n"
      ],
      "metadata": {
        "id": "4eh69fC0AR4B"
      }
    },
    {
      "cell_type": "markdown",
      "source": [
        "$f^{(4)}(x)$"
      ],
      "metadata": {
        "id": "DNzuW3xdNVVS"
      }
    },
    {
      "cell_type": "markdown",
      "source": [
        "\n",
        "que se obtêm utilizando o comando  \n",
        "\n",
        "` $f^{(4)}(x)$ `\n",
        "\n",
        "\n",
        "\n",
        "\n",
        "\n"
      ],
      "metadata": {
        "id": "x_EgTyoCATrA"
      }
    },
    {
      "cell_type": "markdown",
      "source": [
        "### **Notação de Leibniz:**\n",
        "### As vezes também chamada de Notação diferencial (dy/dx) também muito simples de usar, temos que apenas utilizar o comando `$\\frac$`"
      ],
      "metadata": {
        "id": "gY8G-5smAimq"
      }
    },
    {
      "cell_type": "markdown",
      "source": [
        "Exemplo 1:  ` $\\frac{d}{dx}f(x)$ `"
      ],
      "metadata": {
        "id": "tp78ci7wDif1"
      }
    },
    {
      "cell_type": "markdown",
      "source": [
        "Exemplo 2:  ` $\\frac{dy}{dx}$ `"
      ],
      "metadata": {
        "id": "WPBXJsskDunE"
      }
    },
    {
      "cell_type": "markdown",
      "source": [
        "Exemplo 3 (2ª ordem):  ` $\\frac{d^2y}{dx^2}$ `"
      ],
      "metadata": {
        "id": "V41TEqzXD8Ur"
      }
    },
    {
      "cell_type": "markdown",
      "source": [
        "\n",
        "Exemplo 4 (ordem n):  ` $\\frac{d^ny}{dx^n}$ `  "
      ],
      "metadata": {
        "id": "qH7WkkFNAk9M"
      }
    },
    {
      "cell_type": "markdown",
      "source": [
        "---\n",
        "# **3.2.2 Integral:**\n",
        "---"
      ],
      "metadata": {
        "id": "vgZitqSgC1FY"
      }
    },
    {
      "cell_type": "markdown",
      "source": [
        "\n",
        "### Comando: ` $\\int$ `  $\\rightarrow  \\int$  \n"
      ],
      "metadata": {
        "id": "jYV0s2-Ivd5t"
      }
    },
    {
      "cell_type": "markdown",
      "source": [
        "`$ \\int ln(x) dx \\ = \\ ln(sec(x) + tg(x) ) + c $`"
      ],
      "metadata": {
        "id": "pql12Vxcvjwd"
      }
    },
    {
      "cell_type": "markdown",
      "source": [
        "### Resultado:\n"
      ],
      "metadata": {
        "id": "Xj6bnkXoNiyh"
      }
    },
    {
      "cell_type": "markdown",
      "source": [
        "\n",
        "$\\int ln(x) dx  =  ln(sec(x) + tg(x) ) + c$\n"
      ],
      "metadata": {
        "id": "ngXz7hy-vqdN"
      }
    },
    {
      "cell_type": "markdown",
      "source": [
        "### **Integral definida:**\n",
        "\n",
        "`$\\int_{a}^{b} f(x) dx$`\n"
      ],
      "metadata": {
        "id": "ZH8IB6gbv2I2"
      }
    },
    {
      "cell_type": "markdown",
      "source": [
        "\n",
        "### Resultado:"
      ],
      "metadata": {
        "id": "zKBniAjIv5PF"
      }
    },
    {
      "cell_type": "markdown",
      "source": [
        "### **Integral dupla:**\n",
        "\n",
        "`$\\iint f(x) dx$`\n"
      ],
      "metadata": {
        "id": "943VWoxywFrO"
      }
    },
    {
      "cell_type": "markdown",
      "source": [
        "### Resultado:"
      ],
      "metadata": {
        "id": "wzBd6IfFNzbp"
      }
    },
    {
      "cell_type": "markdown",
      "source": [
        "### **Integral dupla definida:**\n",
        "\n",
        "`$\\int_{a}^{b} \\int_{c}^{d} = f(x,y) \\ dx \\ dy$`\n"
      ],
      "metadata": {
        "id": "tEDx8zgNwRwd"
      }
    },
    {
      "cell_type": "markdown",
      "source": [
        "### Resultado:"
      ],
      "metadata": {
        "id": "ohc3nVc3wXC9"
      }
    },
    {
      "cell_type": "markdown",
      "source": [
        "---\n",
        "## **3.3 Matrizes e sistema de equações**\n",
        "---"
      ],
      "metadata": {
        "id": "gdjkaIDMQCsv"
      }
    },
    {
      "cell_type": "markdown",
      "source": [
        "### **Matriz com colchetes [  ]:**\n",
        "\n",
        "``` latex\n",
        "\\begin{bmatrix}\n",
        "    a & b \\\\\n",
        "    c & d\n",
        "\\end{bmatrix}\n",
        "```\n",
        "\n",
        "\n",
        "\n",
        "\n",
        "\n"
      ],
      "metadata": {
        "id": "dI17FqBfQOSj"
      }
    },
    {
      "cell_type": "markdown",
      "source": [
        "### Saída:\n"
      ],
      "metadata": {
        "id": "w-HPgabmOCpQ"
      }
    },
    {
      "cell_type": "markdown",
      "source": [
        "\n",
        "\\begin{bmatrix}\n",
        "    a & b \\\\\n",
        "    c & d\n",
        "\\end{bmatrix}"
      ],
      "metadata": {
        "id": "vAoJlPmGwr5G"
      }
    },
    {
      "cell_type": "markdown",
      "source": [
        "## **Matriz com parênteses ( ):**\n",
        "\n",
        "```latex\n",
        "\n",
        "\\begin{pmatrix}\n",
        "    a & b \\\\\n",
        "    c & d\n",
        "\\end{pmatrix}\n",
        "\n",
        "```\n",
        "\n",
        "\n"
      ],
      "metadata": {
        "id": "UgYHIfo0SZEo"
      }
    },
    {
      "cell_type": "markdown",
      "source": [
        "\n",
        "\\begin{pmatrix}\n",
        "    a & b \\\\\n",
        "    c & d\n",
        "\\end{pmatrix}"
      ],
      "metadata": {
        "id": "2LGcTcePwz7l"
      }
    },
    {
      "cell_type": "markdown",
      "source": [
        "## **Determinante | |:**\n",
        "\n",
        "```latex\n",
        "\\begin{vmatrix}\n",
        "    a & b \\\\\n",
        "    c & d\n",
        "\\end{vmatrix}\n",
        "```"
      ],
      "metadata": {
        "id": "SMB8vbTNS20d"
      }
    },
    {
      "cell_type": "markdown",
      "source": [
        "\\begin{vmatrix}\n",
        "    a & b \\\\\n",
        "    c & d\n",
        "\\end{vmatrix}"
      ],
      "metadata": {
        "id": "WadAK1k0xbyW"
      }
    },
    {
      "cell_type": "markdown",
      "source": [
        "## **Sistema de equações:**\n",
        "\n",
        "```latex\n",
        "\\begin{cases}\n",
        "    x + y = 1 \\\\\n",
        "    2x - y = 3\n",
        "\\end{cases}\n",
        "```"
      ],
      "metadata": {
        "id": "frH7tZGKTHPu"
      }
    },
    {
      "cell_type": "markdown",
      "source": [
        "\n",
        "\\begin{cases}\n",
        "    x + y = 1 \\\\\n",
        "    2x - y = 3\n",
        "\\end{cases}\n"
      ],
      "metadata": {
        "id": "PR9nDy28xhIN"
      }
    },
    {
      "cell_type": "markdown",
      "source": [
        "---\n",
        "# **4. Python**\n",
        "---\n",
        "\n",
        "### Python é uma linguagem de programação poderosa, versátil e muito popular em diversas áreas, incluindo ciência de dados, inteligência artificial, desenvolvimento web e automação. Uma das razões para sua popularidade é a simplicidade da sintaxe, que torna o código mais legível e acessível tanto para iniciantes quanto para desenvolvedores experientes.\n",
        "\n",
        "### Python pode ser executado em várias plataformas, e uma das maneiras mais práticas de usá-lo é com o Google Colab."
      ],
      "metadata": {
        "id": "n0lT_qMqYq6d"
      }
    },
    {
      "cell_type": "markdown",
      "source": [
        "\n",
        "<center><img src=\"https://github.com/ProfAllanIFBA/Metodos_Matematicos_Para_Engenharia/blob/main/Capitulo004_Transformada_de_Fourier_Continua/python_gif.gif?raw=1\" width=\"250\"> </center>\n"
      ],
      "metadata": {
        "id": "fsajjgpgxmvV"
      }
    },
    {
      "cell_type": "markdown",
      "source": [
        "\n",
        "### Para utilizar não tem segredo, basta clicar em \"+Código\" na barra superior, ou usar o atalho \"Ctrl + M + B\" e meter a mão na massa executando seus códigos.\n",
        "\n",
        "### **Sei que parece óbivio mas só tem como aprender a programar, programando!**\n",
        ">Bons estudos 😀"
      ],
      "metadata": {
        "id": "zdbhDDV6x5Il"
      }
    }
  ]
}