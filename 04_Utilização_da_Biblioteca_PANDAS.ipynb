{
  "nbformat": 4,
  "nbformat_minor": 0,
  "metadata": {
    "colab": {
      "provenance": [],
      "include_colab_link": true
    },
    "kernelspec": {
      "name": "python3",
      "display_name": "Python 3"
    },
    "language_info": {
      "name": "python"
    }
  },
  "cells": [
    {
      "cell_type": "markdown",
      "metadata": {
        "id": "view-in-github",
        "colab_type": "text"
      },
      "source": [
        "<a href=\"https://colab.research.google.com/github/Dev-Amaral/Aplicacoes-computacionais-para-analise-de-graficos-usando-Python-Minicurso-/blob/main/04_Utiliza%C3%A7%C3%A3o_da_Biblioteca_PANDAS.ipynb\" target=\"_parent\"><img src=\"https://colab.research.google.com/assets/colab-badge.svg\" alt=\"Open In Colab\"/></a>"
      ]
    },
    {
      "cell_type": "markdown",
      "source": [
        "# **IMPORTANDO A BIBLIOTECA PANDAS**"
      ],
      "metadata": {
        "id": "IO-BMTm6ZWds"
      }
    },
    {
      "cell_type": "code",
      "execution_count": null,
      "metadata": {
        "id": "lr2aZ-_rXSJ1"
      },
      "outputs": [],
      "source": [
        "import pandas as pd\n",
        "venda = {'data': [\"15/02/2024\", \"16/02/2024\",\"17/02/2024\"],\n",
        "         'valor': [\"500 R$\",\"600 R$\",\"400 R$\"],\n",
        "         'produto': [\"arroz\", \"feijão\", \"batata\"],\n",
        "         'quantidade': [50, 70, 60]}"
      ]
    },
    {
      "cell_type": "markdown",
      "source": [
        "# **MÉTODO DE VISUALIZAÇÃO DOS DADOS**\n",
        "*   Print\n",
        "*   Display"
      ],
      "metadata": {
        "id": "_l5LN08saEDb"
      }
    },
    {
      "cell_type": "code",
      "source": [
        "vendas_df = pd.DataFrame(venda)\n",
        "# Informações em um bloco de texto\n",
        "print(vendas_df)\n",
        "# Informações em uma tabela bem estruturada\n",
        "display(vendas_df)"
      ],
      "metadata": {
        "collapsed": true,
        "id": "__NVta8maHVk"
      },
      "execution_count": null,
      "outputs": []
    },
    {
      "cell_type": "markdown",
      "source": [
        "# **IMPORTANDO ARQUIVOS E BASES DE DADOS**"
      ],
      "metadata": {
        "id": "IqRZ9mgbcI_D"
      }
    },
    {
      "cell_type": "code",
      "source": [
        "# Importa uma planilha excel para o google colab\n",
        "from google.colab import files\n",
        "uploaded = files.upload()\n",
        "# Mostrar a tabela que foi importada\n",
        "vendas_df = pd.read_excel('pandas.xlsx')\n",
        "display(vendas_df)"
      ],
      "metadata": {
        "id": "dx-S16juc8ES"
      },
      "execution_count": null,
      "outputs": []
    },
    {
      "cell_type": "markdown",
      "source": [
        "# **ALGUNS MÉTODOS DE VISUALIZAÇÃO DE DADOS SIMPLES E ÚTEIS**\n",
        "\n",
        "*   head\n",
        "*   shape\n",
        "*   describe\n"
      ],
      "metadata": {
        "id": "T8Zg-ghgi6yg"
      }
    },
    {
      "cell_type": "code",
      "source": [
        "# Exibe, no mínimo, as 5 primeiras linhas da tabela\n",
        "display(vendas_df.head(3))\n",
        "# Mostra a quantidade de linhas e colunas, respectivamente\n",
        "display(vendas_df.shape)\n",
        "# Mostra as linhas e colunas com números\n",
        "display(vendas_df.describe())"
      ],
      "metadata": {
        "id": "bT1-2eA5r7Ul"
      },
      "execution_count": null,
      "outputs": []
    },
    {
      "cell_type": "markdown",
      "source": [
        "# **PEGAR 1 COLUNA (pd.Series)**"
      ],
      "metadata": {
        "id": "_fjUeKlCvY9b"
      }
    },
    {
      "cell_type": "code",
      "source": [
        "# Pega uma série do DataFrame, logo, pega uma coluna da tabela\n",
        "# Mas, é possível pegar mais séries, transformando em um dataframe\n",
        "total = vendas_df[['Produto', \"Quantidade\", \"Valor Final\"]]\n",
        "display(total)"
      ],
      "metadata": {
        "id": "aTQzCJ8PveAi"
      },
      "execution_count": null,
      "outputs": []
    },
    {
      "cell_type": "markdown",
      "source": [
        "# **MÉTODO .loc**\n",
        "*   Pegar 1 linha\n",
        "*   Pegar linhas de acordo com alguma condição\n",
        "*   Pegar linhas e colunas específicas\n",
        "*   Pegar 1 valor específico"
      ],
      "metadata": {
        "id": "m6nlVht4wTNq"
      }
    },
    {
      "cell_type": "code",
      "source": [
        "# Pegar uma linha ou mais\n",
        "display(vendas_df.loc[10:14])\n",
        "\n",
        "# Pegar linhas que correspondem a uma condição\n",
        "display(vendas_df.loc[vendas_df[\"Supermercados\"] == \"Carrefour\"])\n",
        "\n",
        "# Pegar várias linhas e colunas usando o loc\n",
        "display(vendas_df.loc[vendas_df[\"Supermercados\"] == \"Mix Matheus\", [\"Supermercados\", \"Produto\", \"Quantidade\", \"Valor Unitário\"]])\n",
        "\n"
      ],
      "metadata": {
        "id": "ilbsaDJ712gh"
      },
      "execution_count": null,
      "outputs": []
    },
    {
      "cell_type": "markdown",
      "source": [
        "# **ADICIONAR COLUNAS**"
      ],
      "metadata": {
        "id": "bjbpC2ua5_wr"
      }
    },
    {
      "cell_type": "code",
      "source": [
        "# A partir de uma coluna que existe\n",
        "vendas_df['Imposto'] = vendas_df['Valor Final'] * 0.05\n",
        "display(vendas_df)\n",
        "\n",
        "# Criar colunas com valor padrão\n",
        "vendas_df.loc[[7,8,9],\"Imposto\"] = 0\n",
        "display(vendas_df)"
      ],
      "metadata": {
        "id": "PunmPmTq6J8i"
      },
      "execution_count": null,
      "outputs": []
    },
    {
      "cell_type": "markdown",
      "source": [
        "# **ADICIONAR LINHAS**"
      ],
      "metadata": {
        "id": "iozQEJpOVoAo"
      }
    },
    {
      "cell_type": "code",
      "source": [
        "# Pegar a mesma variável da tabela anterior e combinar com novas linhas criadas manualmente\n",
        "novas_linhas = [\n",
        "    {'Produto': 'Arroz', 'Quantidade': 15, 'Valor Unitário': 6},\n",
        "    {'Produto': 'Carne', 'Quantidade': 20, 'Valor Unitário': 40},\n",
        "    {'Produto': 'Feijão', 'Quantidade': 30, 'Valor Unitário': 5.5},\n",
        "]\n",
        "\n",
        "vendas_df = pd.concat([vendas_df, pd.DataFrame(novas_linhas)], ignore_index=True)\n",
        "display(vendas_df)"
      ],
      "metadata": {
        "id": "UJma9Ajvgeyi"
      },
      "execution_count": null,
      "outputs": []
    },
    {
      "cell_type": "markdown",
      "source": [
        "# **EXCLUIR LINHAS OU COLUNAS**"
      ],
      "metadata": {
        "id": "gUYzwqHMmNoQ"
      }
    },
    {
      "cell_type": "code",
      "source": [
        "# Excluir linha ou coluna manualmente\n",
        "vendas_df = vendas_df.drop(\"Imposto\", axis=1)\n",
        "display(vendas_df)"
      ],
      "metadata": {
        "id": "ai6Sjw8Smwgo"
      },
      "execution_count": null,
      "outputs": []
    },
    {
      "cell_type": "markdown",
      "source": [
        "# **VALORES VAZIOS**\n",
        "\n",
        "*   Deletar linhas/Colunas\n",
        "*   Deletar linhas que possuem valores vazios\n",
        "*   Preencher valores vazios (média e último valor)\n",
        "\n"
      ],
      "metadata": {
        "id": "I0bReCDaof9_"
      }
    },
    {
      "cell_type": "code",
      "source": [
        "# Deletar linhas com todos os valores vazios\n",
        "vendas_df = vendas_df.dropna(how='all')\n",
        "\n",
        "# # Para colunas\n",
        "vendas_df = vendas_df.dropna(how = 'all', axis = 1)\n",
        "\n",
        "# Nesse caso, não existe linha ou coluna com todos os valores vazios\n",
        "\n",
        "# Para deletar linhas que possuem pelo menos um valor vazio\n",
        "vendas_df = vendas_df.dropna()\n",
        "\n",
        "# Preencher valores vazios com a média da coluna\n",
        "vendas_df['Imposto'] = vendas_df['Imposto'].fillna(vendas_df['Imposto'].mean())\n",
        "\n",
        "# Preencer com o último valor\n",
        "vendas_df = vendas_df.ffill()\n",
        "display(vendas_df)"
      ],
      "metadata": {
        "id": "wp7WF6jVrbE_"
      },
      "execution_count": null,
      "outputs": []
    },
    {
      "cell_type": "markdown",
      "source": [
        "# **CALCULAR INDICADORES**\n"
      ],
      "metadata": {
        "id": "zywAx11QUxwN"
      }
    },
    {
      "cell_type": "code",
      "source": [
        "# Para saber quantas transações tive por Supermercado\n",
        "transacoes_loja = vendas_df['Produto'].value_counts()\n",
        "display(transacoes_loja)\n"
      ],
      "metadata": {
        "id": "MM1e1R-MVPUM"
      },
      "execution_count": null,
      "outputs": []
    },
    {
      "cell_type": "markdown",
      "source": [
        "# **COMO LER AS AS ABAS DENTRO DE UM EXCEL**"
      ],
      "metadata": {
        "id": "Td7J_Z5jZmqk"
      }
    },
    {
      "cell_type": "markdown",
      "source": [
        "\n",
        "\n",
        "##   **Leitura \"padrão\"**\n",
        "\n",
        "\n"
      ],
      "metadata": {
        "id": "-VpGIReBBDpS"
      }
    },
    {
      "cell_type": "code",
      "source": [
        "from google.colab import files\n",
        "uploaded = files.upload()\n",
        "\n",
        "tabela = pd.read_excel('tabela.xlsx')\n",
        "display(tabela)"
      ],
      "metadata": {
        "id": "c2ESaK3-1iH_"
      },
      "execution_count": null,
      "outputs": []
    },
    {
      "cell_type": "markdown",
      "source": [
        "\n",
        "##   **Lendo uma planilha (\"aba\") específica:**\n"
      ],
      "metadata": {
        "id": "I-1N6HHiCIGM"
      }
    },
    {
      "cell_type": "code",
      "source": [
        "tabela = pd.read_excel('tabela.xlsx', sheet_name = 'Planilha5')\n",
        "display(tabela)"
      ],
      "metadata": {
        "id": "nxhFxoTIG-TJ"
      },
      "execution_count": null,
      "outputs": []
    },
    {
      "cell_type": "markdown",
      "source": [
        "\n",
        "##   **Lendo uma planilha (\"aba\") específica, com índice da aba:**\n"
      ],
      "metadata": {
        "id": "ZwkqD2s-Gm44"
      }
    },
    {
      "cell_type": "code",
      "source": [
        "tabela = pd.read_excel('tabela.xlsx', sheet_name = 4)\n",
        "display(tabela)"
      ],
      "metadata": {
        "id": "UjYBaki_HNW4"
      },
      "execution_count": null,
      "outputs": []
    },
    {
      "cell_type": "markdown",
      "source": [
        "\n",
        "##   **Selecionando as colunas, pelo índice ou nome da coluna:**\n"
      ],
      "metadata": {
        "id": "rk3IqGmHHU4F"
      }
    },
    {
      "cell_type": "code",
      "source": [
        "tabela = pd.read_excel('tabela.xlsx', sheet_name = 'Planilha3', usecols  = [0,1])\n",
        "display(tabela)"
      ],
      "metadata": {
        "id": "rsct6qYYH69p"
      },
      "execution_count": null,
      "outputs": []
    },
    {
      "cell_type": "markdown",
      "source": [
        "##   **Buscando todas as informações de um arquivo ou de uma aba:**"
      ],
      "metadata": {
        "id": "pCuY47_-JY_P"
      }
    },
    {
      "cell_type": "code",
      "source": [
        "tabela = pd.read_excel('tabela.xlsx', sheet_name = None)\n",
        "display(tabela)"
      ],
      "metadata": {
        "id": "73cb4ZA9Jfhw"
      },
      "execution_count": null,
      "outputs": []
    },
    {
      "cell_type": "markdown",
      "source": [
        "##   **Buscando informações de uma tabela pulando as linhas e colunas:**"
      ],
      "metadata": {
        "id": "SMlB-VAuJ68_"
      }
    },
    {
      "cell_type": "code",
      "source": [
        "tabela = pd.read_excel('tabela.xlsx', sheet_name = 'Planilha4', usecols = 'G:H', skiprows = 7)\n",
        "display(tabela)"
      ],
      "metadata": {
        "id": "6w3VM6CAKRT_"
      },
      "execution_count": null,
      "outputs": []
    },
    {
      "cell_type": "markdown",
      "source": [
        "\n",
        "\n",
        "##   **Limitando a quantidade de linhas a serem mostradas**\n",
        "\n",
        "\n"
      ],
      "metadata": {
        "id": "GzgQuWn7LiZm"
      }
    },
    {
      "cell_type": "code",
      "source": [
        "tabela = pd.read_excel('tabela.xlsx', sheet_name = 'Planilha5', nrows = 19)\n",
        "display(tabela)"
      ],
      "metadata": {
        "id": "S_c7X-2GLQ1u"
      },
      "execution_count": null,
      "outputs": []
    }
  ]
}