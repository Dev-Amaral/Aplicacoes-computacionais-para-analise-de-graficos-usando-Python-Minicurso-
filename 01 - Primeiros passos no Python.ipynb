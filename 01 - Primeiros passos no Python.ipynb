{
  "nbformat": 4,
  "nbformat_minor": 0,
  "metadata": {
    "colab": {
      "provenance": [],
      "include_colab_link": true
    },
    "kernelspec": {
      "name": "python3",
      "display_name": "Python 3"
    },
    "language_info": {
      "name": "python"
    }
  },
  "cells": [
    {
      "cell_type": "markdown",
      "metadata": {
        "id": "view-in-github",
        "colab_type": "text"
      },
      "source": [
        "<a href=\"https://colab.research.google.com/github/Dev-Amaral/Aplicacoes-computacionais-para-analise-de-graficos-usando-Python-Minicurso-/blob/main/01%20-%20Primeiros%20passos%20no%20Python.ipynb\" target=\"_parent\"><img src=\"https://colab.research.google.com/assets/colab-badge.svg\" alt=\"Open In Colab\"/></a>"
      ]
    },
    {
      "cell_type": "markdown",
      "source": [
        "\n",
        "#  **Fundamentos de Python**\n",
        "\n",
        "## A linguagem de programação Python é conhecida por ser uma linguagem simples, clara e objetiva, ou seja, vai deireto ao ponto. Embora seja reconhecida pela sua simplicidade, é uma linguagem de programação poderosa, que é usada para administrar grandes sistemas e até desenvolver projetos. Dentre suas diversas funcionalidades, está a **Análise de Dados**, que consiste em inspecionar, limpar, transformar e modelar dados com o objetivo de descobrir informações úteis, apoiar a tomada de decisões e resolver problemas.\n",
        "## Esta linguagem é bastante utilizada na **ciência e análise de dados** devido a algumas razões, tais como:\n",
        "\n",
        "\n",
        "*   **Sintaxe Simples e Legível;**\n",
        "*   **Ampla Comunidade e Suporte;**\n",
        "*   **Grande Variedade de Bibliotecas;**\n",
        "*   **Versatilidade;**\n",
        "*  **Ferramentas Interativas como o Jupyter Notebook e Google Colab;**\n",
        "*  **Popularidade no Mercado de Trabalho.**\n",
        "\n",
        "\n",
        "## **OBJETIVO**: Aprender os comandos básicos da linguagem de programação Python, para compreensão das aplicações futuras.\n"
      ],
      "metadata": {
        "id": "PcjHD0NQUBhI"
      }
    },
    {
      "cell_type": "markdown",
      "source": [
        "# **Introdução**\n",
        "\n",
        "\n",
        "\n",
        "\n",
        "\n",
        "\n",
        "\n",
        "\n",
        "\n",
        "\n",
        "\n"
      ],
      "metadata": {
        "id": "vNG9CgqOUPGA"
      }
    },
    {
      "cell_type": "markdown",
      "source": [
        "### <div style=\"margin-top: -20px;\">\n",
        "<hr style=\"border: 2px solid blue;\">\n",
        "\n",
        "<font color='blue'><span style=\"font-size: 22px;\"><strong>Variáveis</strong></span></font>\n",
        "\n",
        "<hr style=\"border: 2px solid blue;\">\n",
        "</div>\n",
        "\n",
        "Uma *variável* é uma \"caixa\" onde é atribuído um valor específico, permitindo que ele seja armazenado  de uma forma temporária na memória RAM e utilizado posteriormente no código.\n",
        "\n",
        "Em Python, a forma de criar uma variável e imputar um valor a ela é simples:"
      ],
      "metadata": {
        "id": "2E_0m2krVMEl"
      }
    },
    {
      "cell_type": "code",
      "source": [
        "idade = 25\n",
        "nome = 'jhon'\n",
        "time = 'flamengo'\n",
        "\n",
        "print(idade)"
      ],
      "metadata": {
        "id": "jqrwFG54n-DD"
      },
      "execution_count": null,
      "outputs": []
    },
    {
      "cell_type": "markdown",
      "source": [
        "Quando escrevemos idade = 25, estamos dando uma ordem : \"Armazene o valor 25 na variável idade!\"; ou ainda estamos dizendo : \"idade recebe 25\". Logo, o sinal \"=\", em Python, quer dizer \"atribuição\".\n",
        "\n",
        "\n",
        "\n",
        "\n",
        "\n"
      ],
      "metadata": {
        "id": "LQ91sOMnn_Ha"
      }
    },
    {
      "cell_type": "markdown",
      "source": [
        "Existem regras ao criar uma variável:\n",
        "\n",
        "\n",
        "*   Não é possível colocar espaços em branco no nome;\n",
        "*   Não é possível colocar caracteres especiais, como \"\\,/,+,-,...\";\n",
        "*   Não é possível começar com números, mas é permitido por em outro espaço .\n",
        "\n",
        "\n",
        "\n"
      ],
      "metadata": {
        "id": "WDzYY71zpdFp"
      }
    },
    {
      "cell_type": "markdown",
      "source": [
        "Veja abaixo alguns erros:"
      ],
      "metadata": {
        "id": "Tck5Z1wTryap"
      }
    },
    {
      "cell_type": "code",
      "source": [
        "abc = 2"
      ],
      "metadata": {
        "id": "oJhCARIprN98"
      },
      "execution_count": null,
      "outputs": []
    },
    {
      "cell_type": "code",
      "source": [
        "+nome = 2"
      ],
      "metadata": {
        "colab": {
          "base_uri": "https://localhost:8080/",
          "height": 106
        },
        "id": "f_x40MEYrW2j",
        "outputId": "30277a6a-3784-4f97-e29a-378a484beb09"
      },
      "execution_count": null,
      "outputs": [
        {
          "output_type": "error",
          "ename": "SyntaxError",
          "evalue": "invalid syntax (<ipython-input-6-2b9dbb0ef30c>, line 1)",
          "traceback": [
            "\u001b[0;36m  File \u001b[0;32m\"<ipython-input-6-2b9dbb0ef30c>\"\u001b[0;36m, line \u001b[0;32m1\u001b[0m\n\u001b[0;31m    .nome = 2\u001b[0m\n\u001b[0m    ^\u001b[0m\n\u001b[0;31mSyntaxError\u001b[0m\u001b[0;31m:\u001b[0m invalid syntax\n"
          ]
        }
      ]
    },
    {
      "cell_type": "code",
      "source": [
        "Número = 2"
      ],
      "metadata": {
        "id": "ABROzSIirldi"
      },
      "execution_count": null,
      "outputs": []
    },
    {
      "cell_type": "code",
      "source": [
        "acb = 9"
      ],
      "metadata": {
        "id": "d51ZrnU9rtay"
      },
      "execution_count": null,
      "outputs": []
    },
    {
      "cell_type": "code",
      "source": [
        "Número_2 = 21   # podemos utilizar acentos gráficos na variável"
      ],
      "metadata": {
        "id": "SEoujaGmr9eZ"
      },
      "execution_count": null,
      "outputs": []
    },
    {
      "cell_type": "markdown",
      "source": [
        "É possível criar mais de uma variável em uma mesma linha:"
      ],
      "metadata": {
        "id": "SJVlAY64euBZ"
      }
    },
    {
      "cell_type": "code",
      "source": [
        "a, b, c = 1, 2, 3"
      ],
      "metadata": {
        "id": "UfAJ2XRNe1si"
      },
      "execution_count": null,
      "outputs": []
    },
    {
      "cell_type": "markdown",
      "source": [
        "Para visualizar esta variável, é possível utilizar o console do Google Colab:"
      ],
      "metadata": {
        "id": "3gRja4BufLcQ"
      }
    },
    {
      "cell_type": "code",
      "source": [
        "A = 2"
      ],
      "metadata": {
        "id": "g9pKtPOJfdu_"
      },
      "execution_count": null,
      "outputs": []
    },
    {
      "cell_type": "code",
      "source": [
        "A"
      ],
      "metadata": {
        "colab": {
          "base_uri": "https://localhost:8080/"
        },
        "id": "Ks9f5XfCfhaQ",
        "outputId": "ecf5d26c-7056-4757-e8df-144264388db0"
      },
      "execution_count": null,
      "outputs": [
        {
          "output_type": "execute_result",
          "data": {
            "text/plain": [
              "2"
            ]
          },
          "metadata": {},
          "execution_count": 10
        }
      ]
    },
    {
      "cell_type": "code",
      "source": [
        "B = 90"
      ],
      "metadata": {
        "id": "yP4SYhH2f7iv"
      },
      "execution_count": null,
      "outputs": []
    },
    {
      "cell_type": "code",
      "source": [
        "B"
      ],
      "metadata": {
        "id": "JjznGT20f7K6",
        "colab": {
          "base_uri": "https://localhost:8080/"
        },
        "outputId": "713cefe9-8a0e-4996-adac-ac23d41b4551"
      },
      "execution_count": null,
      "outputs": [
        {
          "output_type": "execute_result",
          "data": {
            "text/plain": [
              "90"
            ]
          },
          "metadata": {},
          "execution_count": 14
        }
      ]
    },
    {
      "cell_type": "markdown",
      "source": [
        "Além de nome e conteúdo, uma variável possui outras propriedades, como o seu 'tipo', que define a natureza dos dados que ela armazena. Durante este material, vamos ver algumas. Python possui vários tipos de dados, mas os mais comuns são as variáveis numéricas. Dentre elas, o números inteiros, flutuantes e complexos. Além disso, podemos ter variáveis que armazenam valores como 'verdadeiro' ou 'falso', e letras."
      ],
      "metadata": {
        "id": "ECmHDKcjgAgH"
      }
    },
    {
      "cell_type": "markdown",
      "source": [
        "**OBS**: Para descobrir qual o tipo de uma variável qualquer, podemos utilizar uma função específica da própria linguagem, chamada *Type*( )."
      ],
      "metadata": {
        "id": "NatBeTrXj12B"
      }
    },
    {
      "cell_type": "code",
      "source": [
        "B = 99\n",
        "Altura = 1.76\n",
        "opção = True\n",
        "nome = 'Jhon'\n",
        "I = 5 + 2j\n"
      ],
      "metadata": {
        "id": "4w4ymwrNkSu9"
      },
      "execution_count": null,
      "outputs": []
    },
    {
      "cell_type": "code",
      "source": [
        "type(B)"
      ],
      "metadata": {
        "id": "xYznjWw4kYC9",
        "colab": {
          "base_uri": "https://localhost:8080/"
        },
        "outputId": "c5e8a3eb-08dc-4a6a-8769-71aaa87aed69"
      },
      "execution_count": null,
      "outputs": [
        {
          "output_type": "execute_result",
          "data": {
            "text/plain": [
              "int"
            ]
          },
          "metadata": {},
          "execution_count": 16
        }
      ]
    },
    {
      "cell_type": "code",
      "source": [
        "type(Altura)"
      ],
      "metadata": {
        "id": "ZkorNkHulBL9",
        "colab": {
          "base_uri": "https://localhost:8080/"
        },
        "outputId": "3d78bc57-b99b-4aa6-9c3c-0550848c75cd"
      },
      "execution_count": null,
      "outputs": [
        {
          "output_type": "execute_result",
          "data": {
            "text/plain": [
              "float"
            ]
          },
          "metadata": {},
          "execution_count": 17
        }
      ]
    },
    {
      "cell_type": "code",
      "source": [
        "type(opção)"
      ],
      "metadata": {
        "id": "EXMOcFfMkyfy",
        "colab": {
          "base_uri": "https://localhost:8080/"
        },
        "outputId": "1498524a-0052-4acf-901b-855d648f3086"
      },
      "execution_count": null,
      "outputs": [
        {
          "output_type": "execute_result",
          "data": {
            "text/plain": [
              "bool"
            ]
          },
          "metadata": {},
          "execution_count": 18
        }
      ]
    },
    {
      "cell_type": "code",
      "source": [
        "type(nome)"
      ],
      "metadata": {
        "id": "0S9OxCH4kyLT",
        "colab": {
          "base_uri": "https://localhost:8080/"
        },
        "outputId": "80435dd0-b090-45b4-fe70-f335c40767f4"
      },
      "execution_count": null,
      "outputs": [
        {
          "output_type": "execute_result",
          "data": {
            "text/plain": [
              "str"
            ]
          },
          "metadata": {},
          "execution_count": 19
        }
      ]
    },
    {
      "cell_type": "code",
      "source": [
        "type(I)"
      ],
      "metadata": {
        "id": "Uc-VoXbGn5XY",
        "colab": {
          "base_uri": "https://localhost:8080/"
        },
        "outputId": "4fb238fd-3e7a-4efd-f2eb-6493eb2c1547"
      },
      "execution_count": null,
      "outputs": [
        {
          "output_type": "execute_result",
          "data": {
            "text/plain": [
              "complex"
            ]
          },
          "metadata": {},
          "execution_count": 20
        }
      ]
    },
    {
      "cell_type": "code",
      "source": [
        "nome = 'Kaio'\n",
        "\n",
        "type(nome)"
      ],
      "metadata": {
        "colab": {
          "base_uri": "https://localhost:8080/"
        },
        "id": "55h6jaTGYBf7",
        "outputId": "bc3108cd-19c1-4a13-ccd4-183d4f6f3d68"
      },
      "execution_count": null,
      "outputs": [
        {
          "output_type": "execute_result",
          "data": {
            "text/plain": [
              "str"
            ]
          },
          "metadata": {},
          "execution_count": 21
        }
      ]
    },
    {
      "cell_type": "markdown",
      "source": [
        "Mais à frente, vamos estudar cada uma dessas variáveis, como também suas particularidades."
      ],
      "metadata": {
        "id": "htqExQvvlKXE"
      }
    },
    {
      "cell_type": "markdown",
      "source": [
        "### <div style=\"margin-top: -20px;\">\n",
        "<hr style=\"border: 2px solid blue;\">\n",
        "\n",
        "<font color='blue'><span style=\"font-size: 22px;\"><strong>Função Print</strong></span></font>\n",
        "\n",
        "<hr style=\"border: 2px solid blue;\">\n",
        "</div>"
      ],
      "metadata": {
        "id": "2ER10a9Yncor"
      }
    },
    {
      "cell_type": "markdown",
      "source": [
        "A função **print** é uma das mais utilizadas em Python. Ela nos permite imprimir informações na tela do computador como textos, números, variáveis, resultados de operações matemáticas, entre outros. Sempre quando quisermos mostrar algo para o usuário, como uma mensagem, uma pergunta ou o resultado de uma expressão aritmética, será utilizado o **print**.\n",
        "\n",
        "Para utilizá-la, basta chamar:"
      ],
      "metadata": {
        "id": "BC_IR6QiYVmf"
      }
    },
    {
      "cell_type": "code",
      "source": [
        "print('Oi')"
      ],
      "metadata": {
        "id": "aTW2gt3PT4pq",
        "colab": {
          "base_uri": "https://localhost:8080/"
        },
        "outputId": "6595ae23-9fdb-4ce6-8b5b-778b5d1b6d88"
      },
      "execution_count": null,
      "outputs": [
        {
          "output_type": "stream",
          "name": "stdout",
          "text": [
            "Oi\n"
          ]
        }
      ]
    },
    {
      "cell_type": "code",
      "source": [
        "nome = 'python'\n",
        "print(nome)"
      ],
      "metadata": {
        "collapsed": true,
        "id": "mxvhp0LmVLLe",
        "colab": {
          "base_uri": "https://localhost:8080/"
        },
        "outputId": "c345ead2-56f9-4444-a2a4-c1b71c5f7d33"
      },
      "execution_count": null,
      "outputs": [
        {
          "output_type": "stream",
          "name": "stdout",
          "text": [
            "python\n"
          ]
        }
      ]
    },
    {
      "cell_type": "code",
      "source": [
        "A = 10\n",
        "B = 20\n",
        "\n",
        "print('O valor de A é',A)\n",
        "print('Olá mundo, o valor de B é',B)"
      ],
      "metadata": {
        "id": "q57gChnoVK52",
        "colab": {
          "base_uri": "https://localhost:8080/"
        },
        "outputId": "9b9a01e5-683c-4a86-8b31-828d76e298d0"
      },
      "execution_count": null,
      "outputs": [
        {
          "output_type": "stream",
          "name": "stdout",
          "text": [
            "O valor de A é 10\n",
            "Olá mundo, o valor de B é 20\n"
          ]
        }
      ]
    },
    {
      "cell_type": "code",
      "source": [
        "nome = 'Davi'\n",
        "\n",
        "print('Olá',nome)"
      ],
      "metadata": {
        "colab": {
          "base_uri": "https://localhost:8080/"
        },
        "id": "1Lq7W5IsYdJx",
        "outputId": "3e0703eb-8aa2-4575-d6ca-2a71e6b82bce"
      },
      "execution_count": null,
      "outputs": [
        {
          "output_type": "stream",
          "name": "stdout",
          "text": [
            "Olá Davi\n"
          ]
        }
      ]
    },
    {
      "cell_type": "markdown",
      "source": [
        "Os textos impressos ainda aceitam caracteres especiais:"
      ],
      "metadata": {
        "id": "ld6ILe2uf7X8"
      }
    },
    {
      "cell_type": "code",
      "source": [
        "\n",
        "print('Olá\\nMundo')    # \\n no meio do texto, quebra-o em duas linhas"
      ],
      "metadata": {
        "id": "MAYyN0gTgVtk",
        "colab": {
          "base_uri": "https://localhost:8080/"
        },
        "outputId": "c94630fc-0dee-4b2e-c23f-d714504523e0"
      },
      "execution_count": null,
      "outputs": [
        {
          "output_type": "stream",
          "name": "stdout",
          "text": [
            "Olá\n",
            "Mundo\n"
          ]
        }
      ]
    },
    {
      "cell_type": "code",
      "source": [
        "print('Olá\\tMundo')     # \\t no meio do texto, abre um espaço entre as palavras"
      ],
      "metadata": {
        "id": "d1MloVbHgtNw",
        "colab": {
          "base_uri": "https://localhost:8080/"
        },
        "outputId": "aa8cbe98-09b5-4729-dc80-c8219c01a7b3"
      },
      "execution_count": null,
      "outputs": [
        {
          "output_type": "stream",
          "name": "stdout",
          "text": [
            "Olá\tMundo\n"
          ]
        }
      ]
    },
    {
      "cell_type": "code",
      "source": [
        "a = int(5)\n",
        "b = int(2)\n",
        "soma = a + b\n",
        "\n",
        "print(soma)"
      ],
      "metadata": {
        "id": "YDlk2iklZc3Q"
      },
      "execution_count": null,
      "outputs": []
    },
    {
      "cell_type": "markdown",
      "source": [
        "Há várias formas de **formatar** a saída do comando print em Python, o que torna essa função bastante versátil. Você pode utilizar métodos como \"**.format( )**\" e \"**f-strings**\" para inserir valores em meio aos seus textos."
      ],
      "metadata": {
        "id": "GKHs9WHDWoKk"
      }
    },
    {
      "cell_type": "markdown",
      "source": [
        "#### Método .format()"
      ],
      "metadata": {
        "id": "Kdf5T7M7XZpz"
      }
    },
    {
      "cell_type": "markdown",
      "source": [
        "O método .format() é uma forma de inserir variáveis ou valores dentro de um texto, substituindo marcadores { } (chaves) por esses valores. Além disso, no caso de números flutuantes, podemos usar a especificação ( :.nf) para fazer uma aproximação conforme o número de casas decimais desejadas."
      ],
      "metadata": {
        "id": "m05OL5PvXqbq"
      }
    },
    {
      "cell_type": "markdown",
      "source": [
        "##### Exemplo 1 : Inserindo variáveis no texto\n",
        "Como funciona ?\n",
        "\n",
        "1 - Você cria uma string que contém chaves ({}), que são os espaços reservados para os valores.\n",
        "\n",
        "2 - Depois, chama o método .format() e passa os valores que deseja inserir nos lugares das chaves."
      ],
      "metadata": {
        "id": "WCDl-tosZtfu"
      }
    },
    {
      "cell_type": "code",
      "source": [
        "time = 'flamengo'\n",
        "time2 = 'vasco'\n",
        "print(\" Meu time de coração é o {} e eu não gosto do {}\".format(time,time2))"
      ],
      "metadata": {
        "id": "b6Yjd0xFcTD6"
      },
      "execution_count": null,
      "outputs": []
    },
    {
      "cell_type": "code",
      "source": [
        "nome = \"Alice\"\n",
        "idade = 25\n",
        "\n",
        "print(\"Meu nome é {} e eu tenho {} anos.\".format(nome, idade))\n"
      ],
      "metadata": {
        "id": "ywtVeZpPZdm3"
      },
      "execution_count": null,
      "outputs": []
    },
    {
      "cell_type": "markdown",
      "source": [
        "##### Exemplo 2 : Utilizando o especificador ( :.nf)"
      ],
      "metadata": {
        "id": "AQwVX_PxaGa2"
      }
    },
    {
      "cell_type": "code",
      "source": [
        "pi = 3.14159\n",
        "\n",
        "print('O valor de pi é aproximadamente {:.3f}'.format(pi)) #arredondamento!"
      ],
      "metadata": {
        "id": "1STi2k91aGO9",
        "colab": {
          "base_uri": "https://localhost:8080/"
        },
        "outputId": "9ab67fd5-954f-43f5-8733-81762c7bed50"
      },
      "execution_count": null,
      "outputs": [
        {
          "output_type": "stream",
          "name": "stdout",
          "text": [
            "O valor de pi é aproximadamente 3.142\n"
          ]
        }
      ]
    },
    {
      "cell_type": "code",
      "source": [
        "A = 1.9879597865874\n",
        "\n",
        "print('O valor é {:.3f}'.format(A))"
      ],
      "metadata": {
        "colab": {
          "base_uri": "https://localhost:8080/"
        },
        "id": "QkjGyuLhNH79",
        "outputId": "963759fe-0b66-4a44-9cd0-ee0bf1789f34"
      },
      "execution_count": null,
      "outputs": [
        {
          "output_type": "stream",
          "name": "stdout",
          "text": [
            "O valor é 1.988\n"
          ]
        }
      ]
    },
    {
      "cell_type": "markdown",
      "source": [
        "#### Método f-strings\n",
        "\n",
        "Este método é mais recente no python. As f-strings permitem o usuário inserir dentro das chaves as variáveis e expressões."
      ],
      "metadata": {
        "id": "V2JMf7VqXkCS"
      }
    },
    {
      "cell_type": "markdown",
      "source": [
        "##### Exemplo: Inserindo variáveis em uma frase"
      ],
      "metadata": {
        "id": "CyBLqOUOdLo6"
      }
    },
    {
      "cell_type": "code",
      "source": [],
      "metadata": {
        "id": "DQEcZmXoN31l"
      },
      "execution_count": null,
      "outputs": []
    },
    {
      "cell_type": "code",
      "source": [
        "nome = \"Alice\"\n",
        "idade = 25\n",
        "\n",
        "print(f'Meu nome é {nome} e eu tenho {idade}')"
      ],
      "metadata": {
        "id": "5VRMsiWkde5M",
        "colab": {
          "base_uri": "https://localhost:8080/"
        },
        "outputId": "10c4bebd-c73a-46e5-f233-2f77a8f14cc9"
      },
      "execution_count": null,
      "outputs": [
        {
          "output_type": "stream",
          "name": "stdout",
          "text": [
            "Meu nome é Alice e eu tenho 25\n"
          ]
        }
      ]
    },
    {
      "cell_type": "code",
      "source": [
        "e0 = 8.85955892\n",
        "\n",
        "print(f'A variável é igual a {e0:.5f}')"
      ],
      "metadata": {
        "id": "1XJePT2iXjvR",
        "colab": {
          "base_uri": "https://localhost:8080/"
        },
        "outputId": "46650fae-7eb9-44d0-948b-76d6af947584"
      },
      "execution_count": null,
      "outputs": [
        {
          "output_type": "stream",
          "name": "stdout",
          "text": [
            "A variável é igual a 8.85956\n"
          ]
        }
      ]
    },
    {
      "cell_type": "markdown",
      "source": [
        "#### ***Exercícios de Fixação***"
      ],
      "metadata": {
        "id": "_sVXV59Ifz-a"
      }
    },
    {
      "cell_type": "markdown",
      "metadata": {
        "id": "1a60c6ee"
      },
      "source": [
        "**1-**imprima os dados referentes a um cadastro  **Aluno: João da Silva, Peso: 67.75671 kg, Idade: 22 anos** de modo que sejam utilizadas as variáveis ***nome***, ***peso*** e ***idade*** definidas anteriormente à função print. Além disso, exiba o peso com apenas uma casa decimal."
      ]
    },
    {
      "cell_type": "code",
      "execution_count": null,
      "metadata": {
        "id": "d7ef8d54",
        "colab": {
          "base_uri": "https://localhost:8080/"
        },
        "outputId": "4c3c7c0c-c287-491d-c28f-39cdbff112a5"
      },
      "outputs": [
        {
          "output_type": "stream",
          "name": "stdout",
          "text": [
            "Meu nome é João da Silva e eu tenho 22 anos e meu peso é 67.8 \n"
          ]
        }
      ],
      "source": [
        "# Sua resposta:\n",
        "Aluno = 'João da Silva'\n",
        "Peso = 67.75671\n",
        "idade = 22\n",
        "\n",
        "print(f'Meu nome é {Aluno} e eu tenho {idade} anos e meu peso é {Peso:.1f} ')\n",
        "\n"
      ]
    },
    {
      "cell_type": "markdown",
      "metadata": {
        "id": "120d28b8"
      },
      "source": [
        "**2-**Imprima a frase **Maria tem 19 anos e estuda no IFBA.** de modo que sejam utilizadas as variáveis ***nome***, ***idade*** e ***instituicao*** definidas anteriormente à função print. Tente resolver este exercício de ao menos duas formas."
      ]
    },
    {
      "cell_type": "code",
      "execution_count": null,
      "metadata": {
        "id": "x57UcDJYgxo7"
      },
      "outputs": [],
      "source": [
        "# Sua resposta:\n",
        "\n",
        "\n"
      ]
    },
    {
      "cell_type": "markdown",
      "source": [
        "### <div style=\"margin-top: -20px;\">\n",
        "<hr style=\"border: 2px solid blue;\">\n",
        "\n",
        "<font color='blue'><span style=\"font-size: 22px;\"><strong>Entrada de Dados</strong></span></font>\n",
        "\n",
        "<hr style=\"border: 2px solid blue;\">\n",
        "</div>"
      ],
      "metadata": {
        "id": "IAe_HNtpbgEU"
      }
    },
    {
      "cell_type": "markdown",
      "source": [
        "Até aqui, os códigos criados trabalharam apenas com valores conhecidos, declarados no próprio código. Entretanto, no mundo da programação é possível escrever a solução de um problema e aplicá-lo várias vezes. Para tal fim, é preciso modificar/melhorar os programas de forma a permitir que os valores sejam fornecidos durante a sua execução, sem alterar os códigos em si.\n",
        "\n",
        "**Entrada de dados** é o exato momento em que sua variável recebe valores por um dispositivo de entrada de dados. Assim, vamos ver uma função que é utilizada para solicitar os dados do usuário."
      ],
      "metadata": {
        "id": "DwtGpVN9UE2O"
      }
    },
    {
      "cell_type": "markdown",
      "source": [
        "#### Função input"
      ],
      "metadata": {
        "id": "AxBuyJ00UEmf"
      }
    },
    {
      "cell_type": "markdown",
      "source": [
        "A função **input** é utilizada para solicitar dados do usuário. Primeiro, precisa-se digitar seu parâmetro, que é a mensagem a ser exibida e, em seguida, essa mensagem é retornada pela própria função."
      ],
      "metadata": {
        "id": "Vb-yPE0PXcE3"
      }
    },
    {
      "cell_type": "code",
      "source": [
        "x = input(\"Digite um número: \")\n",
        "print(x)"
      ],
      "metadata": {
        "id": "ERUIQeKOigP0",
        "colab": {
          "base_uri": "https://localhost:8080/"
        },
        "outputId": "58de7be1-24a2-4ae9-f8a1-e0f2c6db26fa"
      },
      "execution_count": null,
      "outputs": [
        {
          "output_type": "stream",
          "name": "stdout",
          "text": [
            "Digite um número: 8\n",
            "8\n"
          ]
        }
      ]
    },
    {
      "cell_type": "code",
      "source": [
        "nome = input(\"Digite o seu nome:\\n\")\n",
        "print(f'Voce digitou o nome {nome}')"
      ],
      "metadata": {
        "id": "RkfclPpvif0u",
        "colab": {
          "base_uri": "https://localhost:8080/"
        },
        "outputId": "1f8a1c50-20b2-425d-b092-7fec3002e1f7"
      },
      "execution_count": null,
      "outputs": [
        {
          "output_type": "stream",
          "name": "stdout",
          "text": [
            "Digite o seu nome:\n",
            "roberto\n",
            "Voce digitou o nome roberto\n"
          ]
        }
      ]
    },
    {
      "cell_type": "code",
      "source": [
        "a = input(\"Qual a sua idade?\")\n"
      ],
      "metadata": {
        "id": "RJXEzoaZkxOZ",
        "colab": {
          "base_uri": "https://localhost:8080/"
        },
        "outputId": "a4798f2e-16e6-4117-af5d-a0a5663636a8"
      },
      "execution_count": null,
      "outputs": [
        {
          "name": "stdout",
          "output_type": "stream",
          "text": [
            "Qual a sua idade?22\n"
          ]
        }
      ]
    },
    {
      "cell_type": "code",
      "source": [
        "print(f'Você tem {a} anos')"
      ],
      "metadata": {
        "id": "xPOZJnz8kw9p",
        "colab": {
          "base_uri": "https://localhost:8080/"
        },
        "outputId": "85d08ac0-5229-4c53-f25f-363e6788b29f"
      },
      "execution_count": null,
      "outputs": [
        {
          "output_type": "stream",
          "name": "stdout",
          "text": [
            "Você tem 22 anos\n"
          ]
        }
      ]
    },
    {
      "cell_type": "markdown",
      "source": [
        "### <div style=\"margin-top: -20px;\">\n",
        "<hr style=\"border: 2px solid blue;\">\n",
        "\n",
        "<font color='blue'><span style=\"font-size: 22px;\"><strong> Tipos Primitivos</strong></span></font>\n",
        "\n",
        "<hr style=\"border: 2px solid blue;\">\n",
        "</div>\n"
      ],
      "metadata": {
        "id": "e1p2qyRqWqzY"
      }
    },
    {
      "cell_type": "markdown",
      "source": [
        "Os tipos primitivos (ou tipos de dados) ajudam a definir como os dados são armazenados e manipulados no programa.\n",
        "Os tipos de dados mais comuns são as variáveis numéricas, strings e do tipo lógico.\n"
      ],
      "metadata": {
        "id": "BhlHbwV7YRL7"
      }
    },
    {
      "cell_type": "markdown",
      "source": [
        "#### *int*  \n",
        "\n"
      ],
      "metadata": {
        "id": "KShqOeA0XYtu"
      }
    },
    {
      "cell_type": "markdown",
      "source": [
        "Os **números inteiros** são aqueles sem parte decimal, podendo ir de $-\\infty$ a $+\\infty$, como 1, 0, -5, -47."
      ],
      "metadata": {
        "id": "ZEBKJ9VParRu"
      }
    },
    {
      "cell_type": "code",
      "source": [
        "a = 8\n",
        "_K = 9\n",
        "N = -9"
      ],
      "metadata": {
        "id": "rPrQ1B8ebgpl"
      },
      "execution_count": null,
      "outputs": []
    },
    {
      "cell_type": "code",
      "source": [],
      "metadata": {
        "id": "tgYxg96Lbzqs"
      },
      "execution_count": null,
      "outputs": []
    },
    {
      "cell_type": "markdown",
      "source": [
        "#### *float*"
      ],
      "metadata": {
        "id": "J2XcXdz5Ym1n"
      }
    },
    {
      "cell_type": "markdown",
      "source": [
        "Os **números flutuantes** ou decimais são aqueles sem a parte decimal, como 1.8, 9.555, 2.7."
      ],
      "metadata": {
        "id": "_dcnQeI3b7zb"
      }
    },
    {
      "cell_type": "code",
      "source": [
        "N1 = 1.14\n",
        "N2 = 4.9\n",
        "N3 = 30.9"
      ],
      "metadata": {
        "id": "fINPwxyKa9-O"
      },
      "execution_count": null,
      "outputs": []
    },
    {
      "cell_type": "code",
      "source": [
        "massa = 70.5    # Kg\n"
      ],
      "metadata": {
        "id": "U8zm-Jpzcwjl"
      },
      "execution_count": null,
      "outputs": []
    },
    {
      "cell_type": "markdown",
      "metadata": {
        "id": "132d2d99"
      },
      "source": [
        "####  Conversão de variável float em variável int"
      ]
    },
    {
      "cell_type": "code",
      "source": [
        "# Operação de float para int\n",
        "\n",
        "massa_Kg_float = 98.5\n",
        "\n",
        "massa_Kg_int = int(massa_Kg_float)\n",
        "\n",
        "print(massa_Kg_float),\n",
        "\n",
        "print(massa_Kg_int)\n",
        "\n",
        "\n"
      ],
      "metadata": {
        "id": "XxhI7COubfJw",
        "colab": {
          "base_uri": "https://localhost:8080/"
        },
        "outputId": "4b998940-bb9a-4af0-9b12-636cda5fa061"
      },
      "execution_count": null,
      "outputs": [
        {
          "output_type": "stream",
          "name": "stdout",
          "text": [
            "98.5\n",
            "98\n"
          ]
        }
      ]
    },
    {
      "cell_type": "markdown",
      "metadata": {
        "id": "eTZyLVfybPCs"
      },
      "source": [
        "####  Conversão de variável float em variável int"
      ]
    },
    {
      "cell_type": "code",
      "source": [
        "# Operação int para float\n",
        "\n",
        "idade_int = 22\n"
      ],
      "metadata": {
        "id": "lksLq8uUdpmd"
      },
      "execution_count": null,
      "outputs": []
    },
    {
      "cell_type": "code",
      "source": [
        "print(float(idade_int))\n",
        "type(float(idade_int))\n"
      ],
      "metadata": {
        "id": "lLf2oSXjeZse",
        "colab": {
          "base_uri": "https://localhost:8080/"
        },
        "outputId": "6261ba6f-c6d8-40c2-b6a4-a0b77c782af8"
      },
      "execution_count": null,
      "outputs": [
        {
          "output_type": "stream",
          "name": "stdout",
          "text": [
            "22.0\n"
          ]
        },
        {
          "output_type": "execute_result",
          "data": {
            "text/plain": [
              "float"
            ]
          },
          "metadata": {},
          "execution_count": 49
        }
      ]
    },
    {
      "cell_type": "markdown",
      "source": [],
      "metadata": {
        "id": "vyi8eddEbgVZ"
      }
    },
    {
      "cell_type": "markdown",
      "source": [
        "#### *bool*"
      ],
      "metadata": {
        "id": "FA6sC9kDYxXz"
      }
    },
    {
      "cell_type": "markdown",
      "source": [
        "A **variável bool** (ou booleana) é do tipo lógico. Em Python, escrevemos **True** para verdadeiro e **False** para falso."
      ],
      "metadata": {
        "id": "PRfN8_S_dGrc"
      }
    },
    {
      "cell_type": "code",
      "source": [
        "resultado = True\n",
        "aprovado = False"
      ],
      "metadata": {
        "id": "e4ynv3OMdGOA"
      },
      "execution_count": null,
      "outputs": []
    },
    {
      "cell_type": "markdown",
      "source": [
        "#### *complex*"
      ],
      "metadata": {
        "id": "5lEVPrxnaCh3"
      }
    },
    {
      "cell_type": "markdown",
      "source": [
        "Os **números complexos** são uma extensão dos números reais que incluem uma unidade imaginária *i*. Entretanto, em Python, essa unidade é expressada por *j*.\n"
      ],
      "metadata": {
        "id": "OtIxPnk4f-gD"
      }
    },
    {
      "cell_type": "code",
      "source": [
        "a = 1+2j\n",
        "print(a)"
      ],
      "metadata": {
        "id": "OgTFS-LmheDQ",
        "colab": {
          "base_uri": "https://localhost:8080/"
        },
        "outputId": "65330466-4163-436f-e35f-43a8b7781957"
      },
      "execution_count": null,
      "outputs": [
        {
          "output_type": "stream",
          "name": "stdout",
          "text": [
            "(1+2j)\n"
          ]
        }
      ]
    },
    {
      "cell_type": "markdown",
      "source": [
        "Podemos acessar as partes reais e imaginárias de forma independente."
      ],
      "metadata": {
        "id": "szI6ems2hzxZ"
      }
    },
    {
      "cell_type": "code",
      "source": [
        "a.real"
      ],
      "metadata": {
        "id": "iWxz-4uLhzOh",
        "colab": {
          "base_uri": "https://localhost:8080/"
        },
        "outputId": "b3bce2c9-a3b6-45dc-93e0-e8dee552a00a"
      },
      "execution_count": null,
      "outputs": [
        {
          "output_type": "execute_result",
          "data": {
            "text/plain": [
              "1.0"
            ]
          },
          "metadata": {},
          "execution_count": 52
        }
      ]
    },
    {
      "cell_type": "code",
      "source": [
        "a.imag"
      ],
      "metadata": {
        "id": "-mnPDXqahotn",
        "colab": {
          "base_uri": "https://localhost:8080/"
        },
        "outputId": "c06dabdb-644c-488f-a89a-c9a63f7df956"
      },
      "execution_count": null,
      "outputs": [
        {
          "output_type": "execute_result",
          "data": {
            "text/plain": [
              "2.0"
            ]
          },
          "metadata": {},
          "execution_count": 53
        }
      ]
    },
    {
      "cell_type": "markdown",
      "source": [
        "Podemos somar números complexos:"
      ],
      "metadata": {
        "id": "GZfgc5C3ifip"
      }
    },
    {
      "cell_type": "code",
      "source": [
        "z = 9 + 8j     #    a     +    z\n",
        "soma = a + z   # (1 + 2j) + (9 + 8j) = (1+9) + (2j + 8j)\n",
        "\n",
        "print(soma)"
      ],
      "metadata": {
        "id": "ebFwk88YhohY",
        "colab": {
          "base_uri": "https://localhost:8080/"
        },
        "outputId": "67e597c4-4c6f-486b-9f0e-d424a7eee84b"
      },
      "execution_count": null,
      "outputs": [
        {
          "output_type": "stream",
          "name": "stdout",
          "text": [
            "(10+10j)\n"
          ]
        }
      ]
    },
    {
      "cell_type": "code",
      "source": [
        "\n",
        "z1 = 3 + 4j  # Primeiro número complexo\n",
        "z2 = 1 - 2j  # Segundo número complexo\n",
        "\n",
        "# Multiplicação\n",
        "produto = z1 * z2\n",
        "\n",
        "# Mostrando os resultados\n",
        "print(f\"z1 = {z1}\")\n",
        "print(f\"z2 = {z2}\")\n",
        "print(f\"Multiplicação (z1 * z2): {produto}\")\n"
      ],
      "metadata": {
        "id": "HZu4UxrkXcvX",
        "colab": {
          "base_uri": "https://localhost:8080/"
        },
        "outputId": "72f6f021-21d8-4cd9-ddbf-6deac4b1c79a"
      },
      "execution_count": null,
      "outputs": [
        {
          "output_type": "stream",
          "name": "stdout",
          "text": [
            "z1 = (3+4j)\n",
            "z2 = (1-2j)\n",
            "Multiplicação (z1 * z2): (11-2j)\n"
          ]
        }
      ]
    },
    {
      "cell_type": "markdown",
      "source": [
        "#### *string*"
      ],
      "metadata": {
        "id": "xpccRvDcZB1i"
      }
    },
    {
      "cell_type": "markdown",
      "source": [
        "Além de números, em Python podemos também manipular strings (conjunto de caracteres). Elas podem ser expressadas por aspas simples ('') ou duplas (\" \"). Chamamos conjunto de caracteres uma sequência de símbolos como letras, números, sinais de pontuação, entre outros. Exemplo: 'João e Maria comem pão'. Nesse caso, João é uma sequência com as letras J,o,ã,o.\n",
        "Uma string pode ser imaginada como uma sequência de blocos, em que cada letra, número ou espaço em branco ocupa uma posição."
      ],
      "metadata": {
        "id": "35_xQT4dTvQj"
      }
    },
    {
      "cell_type": "markdown",
      "source": [
        "![Captura de tela_8-12-2024_14747_www.scientecheasy.com.jpeg](data:image/jpeg;base64,/9j/4AAQSkZJRgABAQAAAQABAAD/2wBDAAEBAQEBAQEBAQEBAQEBAQEBAQEBAQEBAQEBAQEBAQEBAQEBAQEBAQEBAQEBAQEBAQEBAQEBAQEBAQEBAQEBAQH/2wBDAQEBAQEBAQEBAQEBAQEBAQEBAQEBAQEBAQEBAQEBAQEBAQEBAQEBAQEBAQEBAQEBAQEBAQEBAQEBAQEBAQEBAQH/wAARCABrAmIDASIAAhEBAxEB/8QAHwABAAMBAQEAAwEBAAAAAAAAAAcJCggGBQEECwMC/8QATRAAAAUEAQADDQQIAggFBQAAAwQFBgcAAQIICRlZ1QoREhMUFRYXGldYlZY5l5jXITh3eHm0trc1dRgjJScxNzq1IiYyQVFGVGFlcf/EABwBAQABBQEBAAAAAAAAAAAAAAAFAQIDBAYHCP/EADMRAAICAgICAQIDBwQCAwAAAAIDAQQABQYREhMHFCEVMWEiIyQyQVHBCBZxoSXRM0Ji/9oADAMBAAIRAxEAPwDfxSuI9xN9of0kceqTYlVtyS4D+4WyrG1ZjMaPkdrqpNDkGQBMw0ZYfQjjeLTGTGaWyDvdTUEAu51sG17eSt47fv2t25VwgRpKwMTKBuPoEyP5YuVqtC6+vP8AX2KqbTXvKOuvC2qYmZmYgX7JisvsZoC0Iz+c12vs1ltj/wDBPp2lRP5+SDjr7RMqUqvLZTfT/R53c0B039VPpf8A6cyhPZH1jenPo/6rvUewCL58b6Iehy36bek/lvmvwPSho+ZfF+W+GreH5JgUBOsVqq48n22GquvuI9jF132zHyKYAPGvWczsyEZ8PCJkyASugClVl0R+7p1LF6yXcfu6tRROsN678j9axIvBcEw+ugAimIyw2lKVbluKUpTGKUpTGKUr8ZX8HHLLvd/wcb373/Dv963f71WkUAJGU9CIyRT1M9QMTMz1Hcz1EflETP8AbH55+aVXJxf8gPSRa+vKdvVL6mfRGf5egz0W9PPWJ5w9VSuSSvSjz56GMXyTz95Z4/zJ5oM+a/F+K87qPh+Mxsbq4f2lVXx91XaNDZVi/L20tpSRsaLvGf2g99O0h3rZANV5+ty1tEwGwWAZ2VjPZ072w1tiOpj13dVesa2+nuYiD9F2pYT7FySW+v2JYxRgwlKUpl+KUpTGKUpTGKUpTGKVFxubobITAla9npUj4nOy6xjUmosOGXehASYqx0SVhkI0+E9kiHsXEbaoCyWNpea4An5p3lpI+XsYuIRN4gyjTGKUrnLa/bKBdJINd+xeyb6Lx/FbKsngqaxknKi2pKCssnQkxBbreQEMmoLK+4V1THAIpaWmkxxhBM8jA9y5EubNl8bnKQsmuMVrHxiSKf8A7GUAAjEdyRsMhWsBiTYwhABIyiJvWpjjFagIzLvxEY7meomZn9IEYkiKeoEYkimIiZjo2lVA6nc1Ose086N7W1XiLb7UmZZDRFl0wkz91NfFeBhtgmo3ymSkruOGFAwtOJLdBEok43WLEzxxFWzCZYU0VSR8Spyxe36tliWqBTGLIAeBGkpj9k4W1iGxE/l5pepqHrno0vUxLRBqzCMANWZsADEjVIQyBnvqGLFqij+hLaowalg9rashYsiCYnFKUrFmTFKUpjFKVXNyH8qenPGAz2y59qHk6k9XfxR0Go0j1gsNyvp8SJkyg0gw6gEEJNJhNZIshk1xPPHVB8Oloo2JYTLxamINh4m+JrlIGCacBBF4hH3k2H4kXgsBiTYyREihaxI5gSmBnqcypQ2wfrSsmFAkcwMdwIDHZsOf5QWA9kxhyIAMSRkIxM5YzSoG1c2IZW22ukLbNxwlulEYU7Ry2JOaKQ9iSSmu5OQXYmgqicUcZBCW3IjFFcEuPhgdLpi+rkgxrZYgKBnC1hLzzWy1TEtYloSDVMNTAL+YGLKQMC/USiYn9YzWU1blLco4NTVg1Zj/ACmtgwYGP6EMxMfpOKUpWPMmKUpTGKUriTeDf6CdBWSzXPLxCUXs6pRdWTEhqFYKjdelma5le4ZERUGaseMlDxBDOqJdMBGOmDS2rIKMBhiEXEVMTxwgUNY2NWmBJheMG1KFx1JEx1hoIQlYDEkxrnMBSlhBGxhiAxJTEZkWpjSkVjJSK2tL8oEFIWbntYUzArUlKza5pyIKUBsMhASmO26VXDobyia8cgKrKbFYTTnaDZ0g8REvL+tO08WHYYnyPk9z4DitlbXGWZU10iKjrgAFhyxtIXlPIkGaTrLAKYKqJoZux6s5rNcLkojxcpb0mJCa2paPktqmBJAxZx+RARR3EjM+QlEYAYBywRn9tLCS4CiRYpoxEktqygTWfiQnAmIzIGBxEgYlKlKVZl+KUpTGKVzntdtREGl8HO3YOcVBxEWC0RkNPFLtBouF9uxecLrXU9rNBrNlqtggoKqqvOl0K6SgJIVwi6fgfUS4imoJxDEc6DxHplzH64blT6var4xDtzqxsekso3JiRDG5cAK8GvZ7RsROlU8y+meWyWXMnHEPEwdLXBAVlFGXDpe5o2RRzJVMVRiNURNlrk1/3rUAw2gH3kfTX+rcET+RuTT/AI1yAknKpRNxixrRLYo6fp1rc6JWppgCzIZ8ZlrxqrKeonxWy0YVQaXSismFeDlxQE20UpSqZXFKUpjFKUpjFKVUdKPNRp1FvJLFXFkZLSm89lJSujlxFViITKVYwjdXXkVYciY3ZKcCrIKG5klfHbqUCuiJyAzHNmXTFxAHMZhXP5YAUCfZZqUw/btXnxXqIH7se6RkoAIj9I/mLoYKRGS8jCCH+7rW7h/sVqKJs23F9gQgSEZYc/2iSj7REl15FEeIlMW40pSq4xSlKYxSlKYxSuJt/t7ox46tf8tiJYYUxSY3RJAYcZpjJgdrN95yYvOyR1myC2CCC23I72QRVBDSpmEV8lLrd1IcUcABPIHjAuIN4a0r5OP9NCUF2Mej25PtT/MTIUXt6wt1NTvUTF6x5vW2+i+iKE7PT50+cHue8/8AnZOQPN4PlKIiuA/5Xh5t8UNSqUXm2k1ZhzKTHKtDE+MJbX16Nq5ZEfiMsDX2a9qQGZKVuVERJmIyd/DionfsQ8FsV395NbbLaazgR7KAO0hyYKYiPNTPv0MzFn1KUquMUpSmMUpSmMUpSmMUpSmMUpSmMzad0F/83ODH+MbrN/Nma44aWikI8gXOxzcw/syPITmgtKj7SpZW4daUkviMGu+3aeh4mUa7lfKlGy81XS47MAsUXMmy11FcGZoii5jastt9VUExFGIaf9g9Q9d9qFeC16eY99O1XWuY2zP8KGvSx8Nj0LlxnZ5Ztx2+IZrlbxZx+bss8r+YXYCvNk53+8fRjVrWtb/qP9RdeYt2EnbaliR95inrZhNYSRNr89LHwp+mqdGKRmhMcv6LrLlUGY2/MiUJmV8c0m6gjqXf8eriqBm1hrWoGAV6miLAnY80uGExBgQcg4lwjS6qfE4691PbcXfeYXUTVGNfbqMbbEl1to7JQi2CCNbnavjlBZxPjAnquYbHe34OYmZ9FnWXfpAjove0nV3rCsUtPDOm7ETqhdzwxpEY06SYzIuPctJjRaU53DeCqE/Iu02tJSmaUQzT+FMeUIyUn4YkWwKoGsgEAFqD4soYh5oUQSOXcrx0a060E50OEOIdOHQ60JnLpDbd5LcAqc2P6XWszjZ6DlEAjLDcTn67XacZJ6W7YHS69klmSCG7c2WQOpaeB5nOZCaXWnxpaNsvWeTNOkfXtsndapidjvfUjRS7V17P5HcTwfKmTW3C4rKj6c7jciOp3W05OWkQwgrSXdqLBAiqNSyKfKFzAcPQBwrcYGrLyhiRIB1Oa8avvX9efjni53JD3lg84Exckpu4NJ3nXKqLj+VTcj2NNzDzSkFJKFdxJqFxB7tMsiCmBxBNnUWHVb9C/fax1pX4Za2t5ZS25trYfH9Di+zrWTdKybWnkVa7yOvYc5kWW7Oy9mupbOSuHr2PFmv21FQitNqvzClrqcD66VBW45Xud1prqwTIemyvR39fxy4iusIqVNVWSq5stXDdW/Ei4WvuXv3InJxPbw0akLZue4V2Xn+Pol23F5ao80zA44U5gDDJbMS2tr68HW108u3mcElguBXdbmET20/C4R8MFRT1smuuMayvk/eG38CsDiV2ygewxjmseOnciRlNTRZQzPlMtLuv7V1+Mvma368nGy3SZaLutFDxJJr+jZbQHGupi471z/YeLo8kT04XSNsZwr8W22k3FtjdgtNozkCZAzZQ+pO/JQe7WDdx0iEVLlTUitllutuNGThwihIoSuJIaC58hCBcIgLfMnj4iuoUbSrV9vbAJW0KLEqSnTW3oOJ62Ndxl1l1Wb7Qg8go4KhaPmXG2S9lGLNTLGwg8RzzXZyStGyWGKYbUx0y3klRia7R0Ou1JWCU2ojXKc9YhJS/W8Y3WosW0FWDXIVPKrexCryZa6CblvTW731u02+wr02lsttCW7tbKULtV3FsZBD4Fc+nZbzT3kVHQwL5sHjVSgdvjzCslSq7mrTOlp9TVtWhVx3wbx3rzH/FzqcNrW4DT0Z0iR8XlV4yAs5lxnc/JkfYwitL68+BwDJ3L0sKPy6y2j5EwfPjIRdAJN7y00EkhD55ndfOPaB91I27obfWwx+UXQXgTfneB2QWzG9Kb5YDKjSV200VF4WmIBuMhbQkl7P04YLthKBHkkk8UZESGsWLISQn5LC8Io7PdXtStfdMI4PRDrOwLxjGZ56OuQPQ0u63u6EZMcz2P2VHKK3QXu5HKI1kU8o+GcAabaFSWmlDjGREhEIXNGfG+UjPRPVSHm7s4045iz0dQNyH3IUl7IEPTiR1f1jPaVEjJBfq15Uuu9TOtDz8k55FPNrDMtdJS+/49GIJxm1hrZORRY2jd5a1vr19nY8W2+s1gScwGn2t+7xy/rwrPWnyChpT07a9K6iuiyC0UHI19UiJFWmhavV1NbSuEy8FTlWp2t95AJHt9Zr6vJqt1t1bWFDdjuZ3Fa3sKrmvrPa7YqsXrIdMt5I0qVH1LsF9yIy5LTqPuZzqeyfmFxvdzqgxtSWT6WQDZrdHXFlVNDG1ReVU5uFAzR84ZGOKynYUcXPMyatjn2c5l9DXOezl6Loyumqo7d4ZSCAvBJ5wubERlwEFOUhkhTwAEzuSUgk9UTjohMxYMxgWPFRsg7YDh5ZXavjie495K1GjnRR+62t51atxFmANGMcrDvkoypsU2XMqpoNQbUmemmMsJipfNcWABlUu+cVEwnqJpLMGhU0W5Sv2IW4qOP3XVxup2whrc3I2X3zBA2tTwONt1SKXCckPGlM2sn0JYTx3iYTTriVFU8aPrEkDE8pNWTIvjFR4G74B+BZySoG6/wB1QgyUG03fyZudTDYiC8+dfGNngtNOxkZZ6BoXWRaszWi0TKtiSWXuo+jYw2krP1tfjn1LBsW6Gi+ONPtSEi9fs4V8gf7xvWKZkMHanYVnPr1/eFL12ELhsSu0TqeHgLWVEivgp4peRdiSVM7a3VSdiori6PppSpWfgBSL4odU5yah3jZlRaK4TETEG2CAmE1JYyFZgym8FoRTHdR9TS1MZHDvMgzW2PdBe6QmTCOuCtKKNHuynG8+ZnnxJfExylKw0rTElSwtJAUnu0/JTtdJw67hCzaKXxOYDBFU7y1YARSaYSVDZUS8ZQ4udFFTVWKNJT0G+P1ihB4N5+xfGXrMmEL0YdjVcau7UFW9MwZBDkFa8gcK6qqHkLhdasmmvKvJDpMwRALFgZtV9RNeV7adrbrKse+VbNMqJFOC2zJfpY+APNkVrK2fcak1vQ0s5QY/OeUrKmeOee1BqG3GD4/ycBXCKhAgBzFu2TdntbdcmKrXeUc22ddffga9JyfhFLSooGIFIAxvJ02N3uELMkWmsDaOfe2cyAKVZ6tX9DbJTmDxbhusV4R2he74/wA7sb25eEZWvwQHFmL0WmYK/bST7dRWr6/UmRMwXae6LaXz/wAPvJjtFNEov71+apTxuo+4TOkNh5AZiNrHILaJXdEdLDTjVvvBHZZZyyq6SpEuaXnO21lZcd8CiW3DpE0mYZYTLu5slujtFCHc+EFPuNH7tEytuNY16SJ6gEptGj6YCbnSG22SgEEVqvuf10ylk08GyUok38Za/lYZh+qTk8jSy/n8VDUE3TOf7nv4bVYVBMq+i0crBxvP1zyWWPrDvltWUlV1PBQwVF+7wUlGQzJ9+toyfwuYJsR7mHCxUbIUzgitxPDNmsBu49mdE9QdxoaS9fdk9f49lCIW9gSxajPUE4whYMfJNTMkRPHj9baZtAcbANkUbPNIKHWYsIRsumZZEAh8Sl7hVD1kmnX6iuyBaOur8HS/T/uC1NlnGOLbHQ7GzLLlK6r2bS/ep7iI/CAMn6DWRZc1pA6jMG6CubBoEaztv565W58T/FUK5ZvaW01lOFV7FU4RpqlS1QA07VTADc3yrQowFj8ZiRFu2kDcY3P3D0oa8G9StXkaDY4WoA1VWN7Yu3mVtcHOopuQUhMgu6Wk9nG+2igOkoE2Xujoz+QkC+RY+H5rNL+QZ1TE0qcMGhsEawaqwdOzQLvFzz9sVqvraam6X3/IT+ey+8w0pglFxtoqclOx0LreYjVaeLlNorca7FTG+kFEQmlljYB4wRCN1PUb8SfHVEGrsqaaRlq80GVrvOCZkjy8z0JwyAVccjEL3tcIN2ytd3Zy8sDEsfCCTDpp+ZnUouKOWTTBQuOMGJ3RHrBacVMJkxgwknzCxo6aTdYzNQ/LlJU8ztZppBRCQEvzmsnFFYUPIEogUK+WqqgeUTXivHnTZkzmINnIg0l29xZlpube1HCNUi6YmN5iuOq5qvZBdayxZYQOXyLV1a5jYad5GvNmwFdgAKxEmhjfoAIEpqou8luvoqkPpBfsmcTnVOqpVVqqE1lotjdtjKQhF6/5oO1LGNV7CqUeSCLOd17Tg11njA2T0viCAy0UIia7WlsUhLam+FGYAXc+Ta+4EoymwFKBYNrm2YbYCYQAEcxLPFWTFsXNFLYCYHz911Kw5u5lTDhruvcjkKKJtpxXq3eCEsGVEbL0wxEzxvjljcLMvrIm3wFz8HxYdzJkMvawmVxbY+DYQP8Ayuwe6+yuN72m7i0Ur3tnfwbJLqDyxva2N8cbXvERDHv5fpth38r42vfLxmWNvBvbVjSmMypeZu6+Sdsr+lnFgq3zvha2PkzvDuFa1s+/fH/y0m43tl/4bZ+FkLfv+B4FrW8Zev8AvM/3XwSyEzxROK1WthbG2IWArzDxFvllhe98LiK6Zna+Fr5Wy8aKHa+Ns/Atnl4u99VVKp19piZme5/v1MfpEj1PX/f95nGfyaOYp/czXS16zqc/EWWgcjDRiCKkfX4nowWdKieFRDUlS4sMoslEcDrhU1p4KjgcT1JLaWBY0kKjXMFElUTjBIZUBH/qAabGtnD2rEDG9ziDOS9pjEatwScCDCEBEbJd9ZFbeccS1yeQiUGp5A+TCOMBAFHbBZyZqxdrGDDdCTBhPWmdcYEOT0Q2jNxBHxrYtKYGcWJc0GWwmDyImx6IpHVYRpkHMKBkoE0kQ8pKIuYRcUMTII+dK5C3KGhwBJqquMVmr7pb8BIiTjZf7rxsHCka8rGqbtnVTOhZZN1DYQIjrJZrDqMZZYkyCGAfNgFhjihkAUxMGy4GRsIQcMEzpUqPJXiSMJ2jx0xNMzAaMoRm9k3JJdbGfKCmuVsLpDIQMfAJQSFUuaJjZljQIB0kPcKxgieLljxMUA2XAGDsk3JdQuV1oa/W7fS7hKLUkNewzTbaltQrOMFuJa7M04QbRS6VQyWQlsj6yyrlchdQ4nLVf1e41TWV5j3JXt9Vc1ZuACJYu9I25aVYmKC0AFXNyRbLQzsc0y6lPvkG4AmdEq+hrMyj7tGJQTQ2+cKqa1aA0hvIinJbiDMJxrxoTOU20UMXFPXFumKYJUUUPBRCIjgX01VXDp7xF8cOgz3ccl6maqsaKJCdIB0mpPa6w+X26CacpCYiqKO2FuS3W8lBlIR/LALE6gs4dCRjQQJcEciICXADDserMoU1qR1Uk05s7jYb2yTRARTZv6/SaqKVWBI5OsipoKbjcfqKzsLV+xFasDQUOqcNbd+qZ4CKdVQ1CREpKWqpXtxsitt7AZSx9jd2FDUE7AV69ZH8S5jGyKlKVZmXFKUpjFV3csgaNhxr78HDgaZgq4aY7KlE40ZxK4qGIRqKXLYwWJDi2sZxDMiYF7DAgZWxGzwBtnjlljh3rEar03k4qdCeSQ/G6punA/rnPRGTdJCPR/WhM0dej5R6DIJhyheKiiRGKCrechmyiZ+MXA1IUn5F4KfmVwMm8TGhs6h36NqgMgsbta3TY8pmSrhZqPR7lLgenmJmAyom14lZML3djC2SOpuhrdlQ2RgTp112leCuMwEWDqXEWPSbp8vQJgs5h0JsSLICPTMFJh4DhIMFx+I/jrwBHBGzA1IhYMfAIXATIET0QIW8AXHDK9w8+/a9vBztbL9F/wBH6L1aVXAOjXFzopxtWku2lkGepi0v3ad5F/3mzDIvpFdjekXot/zYkF9eafNfpY4P8C82eW+X/wC0fK/JSXk3f1Tuyem3ftW0e3wttK0QNAAJTrE+56BkGNhq0OM1KsT6isKAHnXrEyULgqFc6lOtUOQKKiEVgYMz24EJWuGmEjHpMyEplUG6Bjxn2lMzAqUpWjm5ilKUxiq7OR7fOO9C40j52qkXOKfJ3lWSE+JtUoCZBdPs95Wm90px4gkoSSvKQBkmyEbFPMnMXc9hwTGKK3zJsEBPWTx4miKNidcMbwca+lPI+gMJr7nwv65UKMFhZXmMR9Y0sx55jVnASKJyub8pil9sY4peVkyJUHxCwYUCwHivGFgQRcxM89a0D2AoETA93KE2Z9gqb9AF1B7CKrTrXFqvHRGwFFrazkptklzVsWsgLPXJIGZOAWRFe1KQYBtTNz6Z0UZsrVZpuZUG76CuLRbrPZWhoJcppAY8icZ2i2x8fzrslyLb4r7FG3P2+Q2M0lCK4k8eLFmusNMIAO7TipJXTOeZp9Ou+QScZeztMZmSAismWAb5s4RGMqChdFVbOkfENx4ccrzecg6Z69+px3yC2CzNd6v62JwkLzu2yiqXWy6b5BKklvhMIeLUyoBryxMJEj+fi/E5msi+WYWVk1SDSR6qSawChFWrFddRSYTXqQL3nK0FL3tsy8mTet3LEjatbG3ddZ97jO3Zjq4PFtxliYa2xZFpW5bBvuQNOogWPUFasmpNcUxQq060MrV9dTpAgkh1UrKUpWDNrFKUpjOZtrNnIH1ajlMdE+zQ14IRpDeaDD7DfTtIDKiWXlN9WOF2SDkSwJnCeXkx4mKsGDS3ci3U8klmjy+qpiWAYOBZp4bSdj9OefXU9nbq7Ttfk4lnbXVCWo7iybE2JG/rs9NU2iwRFCS1UPKGYrcqtFJpoywMRETzT0Pkc3mfGTbYEFhOSEpRTHNqXnKB4b2Xi90wrPsbNKWoqehUAo5mM9kkBYQlTAoaBPkDGQA1rCFFFMUCxZRSVUiKVU0lRLFlBNNlThcEfDj7TTiP45+Pt3OZ/wComrrQiV8u4kOlrLyycUgv90YpBocIybRURelB3vVUayGcHLlhTiI1zSOlG8ixXykmLYsBYO7XTFbZhesDBAgdkAQMRY99a7x7ZahVYE2IgdTaC5tLNmzute6bNzXQrUtqemGsfbfiX61tKtMidhdLyI5JH09ypvaG1i7Lq8+WxqxW11VKtJeT9Ou6Db0XYl4KrWN0pSrcuxSlKYxSlKYzmbcyX5LgLVSfZkhmJXTO0tR7GTmcEbRCy0Naczlfr2AJ5ANtCT0BuEFNfVcBFUcqYPk0dPNqIiaXOeSA5jWwr+fq1Ni1HXWXeJd7Shx3cthja8HceZtodwnnKGmJxsyPt1OskxcImLrb1pRlR7FlORSkeBZ4EG0zxyjKAQWOTyWgklKNKh5Mw/pR1z7LerMDzrJMAy7KjF9KZD1eeS3IEFuH0neSH6DO5xId22sq3mluOFIQ3N5Yi5XJeQPBMcCYX7/lBUkAb/19ay0tVskXgMZiL3F2n5RMNq1NHyBe8t/SFEzDJvPr62y+k3117lvRagXvUtUmORxg7X2KRLjs6fIFhMFMA+xttDZ01aLPX3BddVq6gLKxN1WvtNgxKmskFlNDbWvSNuoDh80rSD5+RUta8xuQh5rcSN50IgHvNK+meNH83LSd4/yNVIePG8kPAjl/GieL8O/2qUrcYQEwyWHrAjIgX5SfrCSmRDzL7l4x0PlP3LrufvOYFiYrWLD9rBARNnjAew4GII/AexDzLsvGPsPfUfaMUpSrMvxSlKYym/m7iCJp21ciSOJZ3Ka2j4B7b7XNbYUruhrlHoGuSa3nWOeZDESW0fcjaTzaqrrHiVXBRVjB9AbxRDNuBxpoiCmqJkrX9r6e2K0k52o70iSt8Nn934G2b1PkSeZRae0b+acqOuDH03VhUFb7qbao20FrFI6ZrjETw0ZCZjeazVa2ZdwZA2ILgpJCOIuiqf8AXWDNqYucMK7FxYzZhix0hhYrTMe6QCqpYw5bK4hJSJZ5eAdR1tNGv5QkryMaILSSatiaTT5UxjiLbmbSriy0B47jDoUNOdamhDi49CeCa5nUGtPZ+PZUSAzmKhihZPiTnQ9HeVb1z4YB0RvkVssiimyhEyKQzGIE8wKawV0rj3kMAptrc3HLWIWR2TdpxSvx1arIWh7o/S2qGp2k2KbjFp6XXAFNFkHXm2bGDs1QWkol/o09WDbEpmmvWclbu2OQxJFFsn07my1yq9quB152d5s3nV2rpJsApSlVy/FKUpjFKUpjFKUpjFKUpjFKUpjFKUpjFKUpjFKUpjFKUpjFKUpjFKUpjFKUpjFKUpjFKUpjFKUpjFKUpjK21jmK4qm8rKiAvcheoiMuIaieR1lHVJzYRBTSlVMMiklFNUSJlZCMkzxE4AMVNlDAYY5cwEICLhgJhljb53TQ8SvWO6bff9HnblZtu59OMjQfdWKeQWTNqtXIxm9+tzk+2VYqG6HqRUjKmmtAg24tcBNALiElMkHYgXWXGuKIeGQeWdjCmZyvnfHLHHG/7oBuGzq94B+Ur/b9MZJfTQ8SvWO6bff9HnblOmh4lesd02+/6PO3KjToBuGzq94B+Ur/AG/ToBuGzq94B+Ur/b9MZJfTQ8SvWO6bff8AR525TpoeJXrHdNvv+jztyo06Abhs6veAflK/2/ToBuGzq94B+Ur/AG/TGSX00PEr1jum33/R525X6p7mt4j04kcUDHI1qAIARKmDg4ZGb2SqHcwSoOY4mBNMTFQ2pKJrLDDLEuRTyho6bGvgXKFxhxAw8o+6Abhs6veAflK/2/UST/wQ8QTZgibHIg6CwQlrrfiSSFtFUyqWvYGk5WSmcsn04+WyyXsrYjkzhcEwDlfHK1hA8b3te1u9TGdFN/nC4hnMQupJ3IrqkWL2HELXDcEroDTP+MCxwyyyslOoZGVLgXsJjYM1YncqNlbPEIbPIIS2H3Omh4lesd02+/6PO3KzxdzicSnG7tdxOwbNmxeoMSS3Kzjek3J64+XYQVjC2pEm7LbsQ0QuZFKKxQC4aakkShEvbEDG9gAMLZXyytfK96XQDcNnV7wD8pX+36YyS+mh4lesd02+/wCjztynTQ8SvWO6bff9HnblRp0A3DZ1e8A/KV/t+nQDcNnV7wD8pX+36YyS+mh4lesd02+/6PO3KdNDxK9Y7pt9/wBHnblRp0A3DZ1e8A/KV/t+nQDcNnV7wD8pX+36YyS+mh4lesd02+/6PO3K+A4ucXiEa5IJQU+RXVU0AMawJ4Bt2U0R4HbDCAjj45ipjSEW1IArbAuJjmeHKBkghsgC4hjAc0WDF8n0A3DZ1e8A/KV/t+s7/dPPFZx46fcY4sv6y6nRVDUmW2Didr2eTPIKhdYs31sm8BFZKsIcVTgNip7MgTyHt4nw73L4eDnjbv8AfYzTVjzR8SmWOOVuR3Te1srWytbKfI9xy717d+3hY5Ldssb/APzjla2Vr/ova17XtX56aHiV6x3Tb7/o87cqJUrgL4cB0tNHF4+YCzFGIExRc7pK938xBC4eeeV+8v2t38sr3vfvWtbv3/Rav3+gG4bOr3gH5Sv9v0xkl9NDxK9Y7pt9/wBHnblOmh4lesd02+/6PO3KjToBuGzq94B+Ur/b9OgG4bOr3gH5Sv8Ab9MZJfTQ8SvWO6bff9HnblOmh4lesd02+/6PO3KjToBuGzq94B+Ur/b9OgG4bOr3gH5Sv9v0xkl9NDxK9Y7pt9/0eduV8Axzi8QhVwEWyJyK6q5KSiVzOFzJeU0Q23wwcMTmeWB52lBBmqlmr2Ij2wIqayUOiZZk8Ay+Wain4mvJ9ANw2dXvAPylf7frOXs/xZ8ezN7pR429SmvqjFaNrfLmokxPeSYgKJ6nZpO52IDU2oUEdeVABFQQ3dQTzjKao4Apc2BbwkQnjnjlhYXERj+36/8AqZ/xmn/poeJXrHdNvv8Ao87cp00PEr1jum33/R525UadANw2dXvAPylf7fp0A3DZ1e8A/KV/t+mMkvpoeJXrHdNvv+jztynTQ8SvWO6bff8AR525UadANw2dXvAPylf7fp0A3DZ1e8A/KV/t+mMkvpoeJXrHdNvv+jztynTQ8SvWO6bff9HnblRp0A3DZ1e8A/KV/t+nQDcNnV7wD8pX+36YyS+mh4lesd02+/6PO3K+Akc4vEItnVlPJ8iuqoI6CasTPCK8pojfJDjXGNAeGjKa8ImprjK+GTGyuebxtUJWBzKmLmLAHiQhjyfQDcNnV7wD8pX+36zpcIPFjx67E7d85LDm3U+KpHaGuXIe/oug9BcSepiko2j5Ok6dkYi1G75MqFhgkkqmNhBJghGhTOeASYB3hPCuLkI/v+n/ALiP84zTx00PEr1jum33/R525TpoeJXrHdNvv+jztyo06Abhs6veAflK/wBv06Abhs6veAflK/2/TGSX00PEr1jum33/AEeduU6aHiV6x3Tb7/o87cqNOgG4bOr3gH5Sv9v06Abhs6veAflK/wBv0xkl9NDxK9Y7pt9/0eduU6aHiV6x3Tb7/o87cqNOgG4bOr3gH5Sv9v06Abhs6veAflK/2/TGe9UubHiNSSBtSNcjOogpckBmYGDTZqZq0fzDDt38sSiUjqJ5UPj3t/6CxAmZMiX/AEBhZ3/RX+KLzc8RK+mFlYjyL6lAFTfjvFBLUwtZtKeHiDApbPylFcRxKWSXhCA55A+WEAPKS+QRsv40qOAMJWtyk8J/FPDnG5vXK8YaOwoypGjnVOcHqx3eipq2Crtl1NqP1xYQltMFFWxQwzqapEy5oDLMIQO+QfgChiBZ5h5R1wy8MvFxP3FxpRMkyaUQxIMoSDDCavvR6L6asCLLiWRFhZLCKKiIWWS4GZjMEuCHlkGCHa9g7Xvj4XfvdjLgumh4lesd02+/6PO3KdNDxK9Y7pt9/wBHnblRp0A3DZ1e8A/KV/t+nQDcNnV7wD8pX+36YyS+mh4lesd02+/6PO3KdNDxK9Y7pt9/0eduVGnQDcNnV7wD8pX+36dANw2dXvAPylf7fpjJL6aHiV6x3Tb7/o87cp00PEr1jum33/R525UadANw2dXvAPylf7fp0A3DZ1e8A/KV/t+mMnRjctPGLJr0aUcx5vtqk9X6/HIiM5ls9szYxVhxOl1ORSLI6A3kJJJLAxxSV1hUOFSCeRKhCDmjQ4QIWGWedrVYZWGflw4/NMdHOUTud4zqVrwwIIGkvfoiA/M2MWUSvpQE0Zm1KEbWKpidUT2AvmbNyL1yWWGIeQfnU3a98rCd625imMUpSmMUpSmMUpSmMUpSmMUpSmMUpSmMUpSmMUpSmMUpSmMUpSmMUpSmMUpSmMUpSmMUpSmMUpSmMy29ypfq38j/APFq2g/oOEq1JVlt7lS/Vv5H/wCLVtB/QcJVqSpjFKVVtyhzVPsSoOrTf16lHGI3TN+0DFhhWdubLZr7wJoz0JqhKw+aG9EdWIjYp6jckp5YE80w6asTuTspFwRxb3iN7uUaDWO2livatLS6jXivSGuVlzthfra6uCotWKteO7FtXmTbChFcGXlMxAz3fxn8f7T5S5xouB6bY6fUbDfMuinZ79uxTp6K9drLu2t2L7NRrNzs4SunQfMDS1d15s8ABBeUzFpNKpkQZh3R1O3E1u192Qnhn7Ux5tOG/UtvugnFTXiF7sJxMpLS1DIYVIZ9/Mx9DMDKZArbywc4bNhm1EyCKSFSAiahc3VNNuq+7RaalFqo6jedrb9K6tS7VO8hSHsQ30OsV2fubVdoOrWH12A0ZW0ui63vkf4z2Pxyzi72b/jfLtBzbjpco4nyvibd2Wl3epVvNxxu4aq/JtFxnkVCzQ3ug22tt09voddYBtSWrW2s1D2Kg/Zv9W3YT9h8sf0Ev1OFQfs3+rbsJ+w+WP6CX6mM82yjHuT/AOxK1y/aBsR/fB71o+rOD3J/9iVrl+0DYj++D3rR9TGKUrmuR9o2JFc+Qbr4628+QnBsHg6w2G8yaUjDx4ErNBLGVlFvLqsK4S66RWzRfErgmlybaUSxgZSJeNNlwLHBymrau1aX0/1bwRFu2ijXlkzAtt2ikK1eC68YZYZEKTBSPscS0hMtYsCmtDx3d8nuWNfx/W2Nreq6ndbx1SrAE8dVx3VXN5u7grIxJoa7UULuwsAqDbFaq5gLLwmM6UpXOgGzbCO7QHdTUtJd6vIqNFoMtOddT01KEYrTQDisGjpaS4FgZcAVi7mVxRy5xOSyiAdBFTjARwU6Dh4y2HRdKl2rfW1tN4WFptW6TDX3IjaoWW07qO5iIk61tDq7fHuBcpgd+QFEU3PHt1x6dYO71tnWludNQ5DqwtDAHc0u1A2a3ZLCCkxrXlBL6pMEJdXJdgBlLVMNWWDuwz7H8b96GEv5B91qfrLB3YZ9j+N+9DCX8g+62shs1GIv+DJP+WEP5UKvp18xF/wZJ/ywh/KhV9OmMUpVLeznJ5IUFb2R7r0k6/zO8oyAQHEbepNmw6bdElSiqehygtpCjA+fponJrpZ7aODJuD2OipxI2mmEV1FrCDBkQ7CQm65Dq+PxQLZtYkdjdGhXIEsdHvlLrHbIWJEK4Wg+y6mfKRiBnuZj0r4v+JuafMO62/H+DUql7Z6TivIeY3VXNhV1y/wjjdErt2FOtGC2W3/u61NEkInZeuXtr1hfZTdJSvMsty2ejOabxsguVq2djZQXLZrvNL8xvBt2XUoqqWQXWiePNeZ3Kj+Vebl1L8qM+b1QuaKePG8T4zL01TkxMTMT+cTMT/X7x+sfbPPLNZ1OzYqWQ9diq9tZ6/IT9bkMJTQ8gIgLxMSHyAiEuuxKYmJlWUfcX/q2uJX9xuef6H3RrVxWUfcX/q2uJX9xuef6H3Rqma8/mP8Az/ic1cUpSmVxSuWt4XCvtLTjaJztVcWGy5W/A8orCC4W+pnUZcRFZPZ6sZIKiQrJw5Y+mqJEyGGYJniRgEyWHDwFBFwExxytW/rJysQqwoG1TbEzHJ1cyi5GOxGw/NkFNnrjjiJHkZRTQfLUl8S8vKoZlZcRc3nYu4zKGWdVkRQxOlHCcIG0pZCTuXvcu0+s3w6HZWE0Wto0LlexZcC1WGbC9coJqgM/tQYtqdmwpFUS5ISUEYxPt3C/gL5A+Rfj65zvg2ov8pOhzA+J2eO6bX2bm0X6+ON5Ee08l/ujUS1xSr0gg7ty4xaainNMVFeLSlr2va17Xte17d+17fpte1/+F7X/APe16V1GeI4rKf3O1+vT3Rp/FMkr+8GylasKyn9ztfr090afxTJK/vBspVY/Iv8Aj/MYzVhSlKpjFK572U2giDU9gByJMK4cT00+rlG420NDTDC67Hi5j+ImZJuNVBKd4dSVDAYIwveEELEiwIWYx04WCtbO8Sa2b+wnsu8lOMEpCleI5dS0H0rEiWeWCZjp9nWt5RiV9IUklc+sJKqn2EECzyxIrA53AuJ5VmTxLhGBQYot5px2UactnSHaT4xFErCxsSZql4JgJKO7B1xKyNaO7BVRKzCpQMsjv9f8V/I+24Zf+Q9bwnkd7hOsKyN7ktbWWG6tI0iQu/YhwhMtp61lmqvZ3kgynrW2ay77652Eifb9KUqVzgMrV5lPsmuSD9yvY3+1rlqKeAX7Gzj3/YCk/wDf1+pW5lPsmuSD9yvY3+1rlqKeAX7Gzj3/AGApP/f1+mMuApSlMYpXFWxu+sG6synG0TSsWfQCzKTbdLjbSw3W8TX0W2TYAHuE3RipVawdh50ulSDLIDRRW6110VXXFJOJCCE8R8xwv2tWd5Yh2zXZFZ7Mb8psB/RWImXekezExxWM8Uwgt3MeZlbJMsoqwFiSkGX8oBBHOAKgJcwTFOpxXE0D4cKvkejbsx0y9pUPaGVoRowz+Ik6XlNoIDr/AORIiZkHfnKwNojKwMo9KZ8O/KKuFD8jnwXkUcFLWI3I8pGiZ6idVZ3b+Nr2H1ISUfSjvkTqrDevGpcdSVa9M7CjNnsulKVNZ5rmSzuhz7T3uaX9/wDVf7x6XVrTrJZ3Q59p73NL+/8Aqv8AePS6tadMYpSlMYpSlMYpSlMYpSlMYpSlMYpSlMYpSlMYpSlMYpSlMYpSlMYpSlMYpSlMYpSlMYpSlMYpSlMZlt7lS/Vv5H/4tW0H9BwlWpKstvcqX6t/I/8AxatoP6DhKtSVMYqlXmdbOD1SNFWaItuFtBu3eKKGyI42ipWRnY38F4qrpWS22FjIubxSnClYm7n0VSuVM2IqQBY1cuNYLxeV1VKgeS6MOR6d+oY/6db7Osexnql3Ya/aUtkSfAXIn+IGpNf2Q2JV7fbAnIesvTPh35Id8R/JHGvkStrPxixxs9o1Gvi6OulrthpdlqFM+rOjsgX9Kd8bfidJ4v8AR6CgIbLQr9gbjgheD5XKTmpv6ep/ltHSjqK1X5sfJmUlrjNTlIvmTPgtnINFQSZIQwTGNE8TQ5Q2cLFT6iXKmAQjo2F7AqUqQ12s1+prRT1lOvRrQw2yqusVibmzEte2YjydYbMRLXtI3MmIkzLqOoHmfPOY/Ie1Tuua8h2PItlVoV9VTffaMroauqbm19brqqQVU11BLrFl4U6SEV4sWbNj1+6w5hqg/Zv9W3YT9h8sf0Ev1OFQfs3+rbsJ+w+WP6CX63s5HKMe5P8A7ErXL9oGxH98HvWj6s4Pcn/2JWuX7QNiP74PetH1MYqsrleipwvHV8SXY8K45y7qo9GvsbHR4PEe5wqNHqkApOgMDyfHPMfC7YDUFPJPFCGLnjaOQwEDxFwAMAWa1wdt/qLLO1B0s20ra95QtB620xmlKsVM1ioimpSMRNnTwihfB+Ka2EZbASglm8UU+SKt9SKqJDAYFVwUCo2BQDl+ZU72x4/doa2m21ftSoaLVWKlaNbfQyLmt27TuHAEnW7GtUtGtSbbjkBgalgfMM9h+At7reK/L3BuU7jlep4fq+N7urudnst1q+Q7nX3tXTOC23HW6vjGr22yvTybVFd0X0rE1ddZG+VfZ7LW0muup594pUddlNL2B3yfSRZGdu4cnmFJrpeXjchEOHI2wFZrCTRcxQw7iHLiFFUEyaB8Mopkk1GUi3icTORYG3OvFxxH7VihgMyMmOnWSGewWwitFtJ1hMhsyqMgp4CaQwHMCd8U2ayAL4CHDg+WRg4azGNGM8xhhM8vaVK6XWBptTrtUthOihUUg3nJSdl8R52rZ+UzMHctG60wYnqGOKBiI6jIn5h52j5J+SOU8t19ItXorlxGu4npjmZnQ8K49Rq8e4Voe5Y2J/BeLavUa0ihhww6xs8ik5mVZYO7DPsfxv3oYS/kH3Wp+ssHdhn2P4370MJfyD7qTzzTNRiL/gyT/lhD+VCr6dfMRf8ABkn/ACwh/KhV9OmMVRtv+9knW7kX0d2xlMk4k+B2lH8wsZ0vlFbS45STdca623WloxFWDRSJwQsIqGXcnZJwF7ZG1AAqsDESxjFJN2wvJpUDv9M3cK15VbgULuq2lfa0rDas3a8PSmzVNdiqNmmblNq3LC+gtJIGEtsEULlZ+o/EPyLV+MuV3N3stA7k+k3XD+ccF5Dpau4Hj+wt6HnnFNtxTaFq94zVb1Or2dWttSt0bdjS7WuFhAC+i9RkMeUYjzRJGZLRf7azN5t97NpEdaLdQJjJyhZLX00sqEg1BPMWxMJ58IuaDDOkDGOI5M1gKWGxxFCytb1dKVPz13PUTEdz1Ez3MR/SJmIiJnr856jv+0flnm1s6zLVllNDatM7DjqVn2Btur1iYRIQ60KKo2WqVILZYGtXFxjLIQmChYqyj7i/9W1xK/uNzz/Q+6NauKyj7i/9W1xK/uNzz/Q+6NUzWn8x/wCf8TmrilKUyuchcgP6jm3P7u0uf0Ss1Tfs6SJlO5+YhuVKFi1y7E13UgLlwAgbgKJ16oA50+DcPDHxR02OeOjGjWHgjmBThoQUTPMwLfPSbSuJ5Fw4t87duDZzRPb8dpaECGpLiplT2VzYjdE4tIlhEVqFwmPTK5VDYeUlAB9FfEnz8XxZQ4FRjixbweEfPXF/m8ijfTqx208a1g62OMkv8H2EU5uDBnG6krn0wsNX4S+Jky+Uhf4Gjf5UnfygNfVpSu5YXmZn115mRdd99eUzPXfUd9d/n1H/ABnzy0/Y1jOvH2MM/HvvrzKS676jvrvrvqO/7Risp/c7X69PdGn8UySv7wbKVqwrKf3O1+vT3Rp/FMkr+8GylWx+Rf8AH+YzHmrClKVTGU/cojfdTWknR7asJkuWS4p1imBeXZeaDWSRXApJiI6i7ZCSpMwQ8MTGBwSOjLfNnyQtiVxip9QLZYKqEDmYUgoZZUkIu+3JprbsTri3nYoQhrvE0gk3/NC6z11noq6sO1NdaGlsRBHXkpPOLSgnnF0MYcpiLiGCUOOE2GH5OSF863z071rd/vWtbv379/8A8371rd+//wA371rW/wD5a1v/AGrjY4mY7tuxDZkFB3Ia/KWa+KYTYnc1tPW0oxGxJ8/+OZXpoc2oVMrEug1DeCiUUx+muM/6iUce+O9dxdnB4v8AMOOfH/yX8WcV5fHJnVNPQ4X8rWd/a5OG54aOmfG95BVPlfIR0e5DkOrrVF3ao7LU7idXQJKlKV2WfMuVq8yn2TXJB+5Xsb/a1y1FPAL9jZx7/sBSf+/r9StzKfZNckH7lexv9rXLUU8Av2NnHv8AsBSf+/r9MZcBSlKYymTawuAY5eeOCw4IQ9gmFOJgKwweAtgxwW04cwRsLZ45WwFCztbMITHvZh52tlhla9u/X+8WjjYc4uyxXAYXEsNpczjAxfETPEAUwXdEUYADiA2vYPMYHA2awBFyxvmHiZMY4ZY2GEtlcpSuT/2sEW9Lai2MTqeZb3lxjFSIm4W641v+ORSI4f2sqg7sLMXJF0uGkNaK6YbDk/SSf9Qnq4vS40XEfYNP/TvuvgSLc7/qDLb/ACje+So5bFadKUBNYrg6f8Dh5S2URsvxlUlFEFKUrrM+bcyWd0Ofae9zS/v/AKr/AHj0urWnWSzuhz7T3uaX9/8AVf7x6XVrTpjFKUpjFKUpjFKUpjFKUpjFKUpjFKUpjFKUpjFKUpjFKUpjFKUpjFKUpjFKUpjFKUpjFKUpjFKUpjMovctr3Zba155GyLjd7Xb50bli2dNhE1tfSUo0KVzZELg4GQy582ANmXzGAHCxGxwuHkICLhbK+QedraevWzFfvLj/AOsm52lVFju7lw4YX063O9nPri9VFyvFwrTqcKhjsDORLE8uOFSMq6scxJkX4WJFLGj5swPYsTLlyoFs/FFwQgcMA8fPeyj8IvwyPb8RU+/mHTGX6etmK/eXH/1k3O0qetmK/eXH/wBZNztKqC/ZR+EX4ZHt+IqffzDp7KPwi/DI9vxFT7+YdMZfp62Yr95cf/WTc7Sp62Yr95cf/WTc7Sqgv2UfhF+GR7fiKn38w6eyj8IvwyPb8RU+/mHTGX6etmK/eXH/ANZNztKoR2ZlaLhNb9gsMJJYOeecIyvhhhg8W7lnnnkw1+2OOONlG98ssr3tbHG1r3ve9rWt36p59lH4Rfhke34ip9/MOv1T3cn/AAlmyRwoX1zkBLHNFTBcBTI7ETeIdThhgcwwzxMNTe6im5mimeWJgvgoJ54lkMHhibJmgLiAZsZ5HuVWQGGgcLGu6YuvZooqkC/thMxk9WciMnHgsBpseooOQpQ4dBHDxFCyxEDyyDtbMPLHPG98b2vfRZ62Yr95cf8A1k3O0qzxM7uSfhbbKIElLUOy/Ih8McwNm5njP8jklscMbPwwyopeP1NjNywBTH/VF8gG+Cayw/SbMmhP9ZXqfZR+EX4ZHt+IqffzDpjL9PWzFfvLj/6ybnaVPWzFfvLj/wCsm52lVBfso/CL8Mj2/EVPv5h09lH4Rfhke34ip9/MOmMv09bMV+8uP/rJudpU9bMV+8uP/rJudpVQX7KPwi/DI9vxFT7+YdPZR+EX4ZHt+IqffzDpjL9PWzFfvLj/AOsm52lWXbuvN9Mhx8RY6e3nk1V4/bZuFTFyKM4UhUOWLhkXziIPcsRODjWBDyEDxzFvh4GGWeFssrXyx7/Svso/CL8Mj2/EVPv5h14579yQcMDrSAU1BiiZ4yOBKAJwRfZE+v0+rmS4QBoHNJGBkgzIKDinmBDARoYQuiF1TEwSK4l1IArmdLG2M0JIssxX5mSf95cf/wCGEP8A6ybn/wBqF/8Asq+n62Yr95cf/WTc7SqgrHuUbhGtjja+sz3yva1rXyy2Knu2WV7W718srYyDjj37/wDG/g4449+/6MbW71q/Pso/CL8Mj2/EVPv5h0xl+nrZiv3lx/8AWTc7Sp62Yr95cf8A1k3O0qoL9lH4Rfhke34ip9/MOnso/CL8Mj2/EVPv5h0xl+nrZiv3lx/9ZNztKnrZiv3lx/8AWTc7Sqgv2UfhF+GR7fiKn38w6eyj8IvwyPb8RU+/mHTGX6etmK/eXH/1k3O0qyv7fvhlme6weKBxl3e1x28Q0jncofXgV9JFRiRvNk7j4YFjapgbyIljGeR0njiCMPgJlkbLWtje44Vs+rPZR+EX4ZHt+IqffzDrxp3uR/hgNPVIdQEVTQmoSanCkjsbEp9fYjKcBkQNUwwV1c+ojqEigqIOSgUFCCQX8iJNxERLsMljBCrQauyk/wBP0n/Ex/nNE3rZiv3lx/8AWTc7Sp62Yr95cf8A1k3O0qoL9lH4Rfhke34ip9/MOnso/CL8Mj2/EVPv5h0yuX6etmK/eXH/ANZNztKnrZiv3lx/9ZNztKqC/ZR+EX4ZHt+IqffzDp7KPwi/DI9vxFT7+YdMZfp62Yr95cf/AFk3O0qetmK/eXH/ANZNztKqC/ZR+EX4ZHt+IqffzDp7KPwi/DI9vxFT7+YdMZfp62Yr95cf/WTc7SrLN3PW+WSj7wd0QnFd4tZKJrXKHJJ1HNKTgSSJZWJ3l3Y0WxtMHNGwgj5a4RkuJYcrkKFcMcHO2fgi4Xy6l9lH4Rfhke34ip9/MOvGtnuR/hgQVZ0qKpFU0PQm4FGx1JQXNPr7KpLGLWMqI90hrDM4dprptOyCOliVxXstPBW8mSE7OypY4KrG1R3/AN/9flP+P1xmib1sxX7y4/8ArJudpU9bMV+8uP8A6ybnaVUF+yj8IvwyPb8RU+/mHT2UfhF+GR7fiKn38w6Yy/T1sxX7y4/+sm52lT1sxX7y4/8ArJudpVQX7KPwi/DI9vxFT7+YdPZR+EX4ZHt+IqffzDpjL9PWzFfvLj/6ybnaVPWzFfvLj/6ybnaVUF+yj8IvwyPb8RU+/mHT2UfhF+GR7fiKn38w6YztTmHkyOFLim5F09OkBkHz53THYksTJEnWgmjZsyNGDkwBLliwB8QYccXO9sAwgsMxM8r2xxxve9rVFfArJEdpPDzx/pqq/WWmKJOBUoE2QUHShkzpUWy8vXuEYKmTwY4AlrXte+AoeOVrXtfvd69q5rW+5N+FBWR1NMIQBJTZOnyRgqVcKJsLMRhYRRxwsgwlJMAcjrcCAKdJ5ZWGLhrKGrJ2QuGNjaeaBvmFl+q2O5L+FVAQk9IVYOlR7KBLAXAy6HPsFKpRdVshDAw+AqgXZi+0WyHmXCFwJhWSm6mB5Fy4OQ4YxvIwaHYzQl62Yr95cf8A1k3O0qetmK/eXH/1k3O0qoL9lH4Rfhke34ip9/MOnso/CL8Mj2/EVPv5h0xl+nrZiv3lx/8AWTc7Sp62Yr95cf8A1k3O0qoL9lH4Rfhke34ip9/MOnso/CL8Mj2/EVPv5h0xl+nrZiv3lx/9ZNztKnrZiv3lx/8AWTc7Sqgv2UfhF+GR7fiKn38w6eyj8IvwyPb8RU+/mHTGcgc/7saro5Pe5r/RlzN9xeQ7/nvLfMSynK/kflUx6aeTeVebzJjyfyjycx4jx3geN8QN4vwvFZ+DrzqheF+5peIHX6X4unWLdenegyXDcgs+UI/WzM8TWtFkl5MRfIOZtKJhHWHydSVQAmsJhQcVPUiZkibDDyANACgiZ4XvopjFKUpjFKUpjFKUpjFKUpjFKUpjFKUpjFKUpjFKUpjFKUpjFKUpjFKUpjFKUpjFKUpjFKUpjFKUpjFKUpjFKUpjFKUpjFKUpjFKUpjFKUpjFKUpjFKUpjFKUpjFKUpjFKUpjFKUpjFKUpjFKUpjFKUpjFKUpjFKUpjFKUpjFKUpjFKUpjFKUpjFKUpjFKUpjFKUpjFKUpjFKUpjFKUpjFKUpjP/2Q==)"
      ],
      "metadata": {
        "id": "KEvYdViDPmCi"
      }
    },
    {
      "cell_type": "code",
      "source": [
        "'João e Maria comem pão'"
      ],
      "metadata": {
        "id": "u18tKp1lUhRd"
      },
      "execution_count": null,
      "outputs": []
    },
    {
      "cell_type": "code",
      "source": [
        "a = \"Bom dia!\"\n"
      ],
      "metadata": {
        "id": "aiUO6NLpUkk6"
      },
      "execution_count": null,
      "outputs": []
    },
    {
      "cell_type": "markdown",
      "source": [
        "O tipo string é muito útil e utilizado para exibir mensagens ou mesmo para gerar outros arquivos."
      ],
      "metadata": {
        "id": "At6E0a5OOFQX"
      }
    },
    {
      "cell_type": "markdown",
      "source": [
        "Uma string tem um tamanho associado, como um conteúdo que pode ser acessado caractere a caractere. Para descobrir o tamanho dessa string, utiliza-se a função **len**. Essa função retorna o número de caracteres, pois podemos substituir um texto da função por seu resultado."
      ],
      "metadata": {
        "id": "Knj1gZvWQFtB"
      }
    },
    {
      "cell_type": "code",
      "source": [
        "L = 'python'\n",
        "len(L)          # indica o comprimento da string!"
      ],
      "metadata": {
        "id": "d2rAzLfzQvTK"
      },
      "execution_count": null,
      "outputs": []
    },
    {
      "cell_type": "code",
      "source": [],
      "metadata": {
        "id": "1G97PwSJRJLv"
      },
      "execution_count": null,
      "outputs": []
    },
    {
      "cell_type": "markdown",
      "source": [
        "Para acessar os caracteres de uma string, devemos informar o índice/posição do caractere em específico entre colchete ([ ])."
      ],
      "metadata": {
        "id": "1RIf2ErNRctg"
      }
    },
    {
      "cell_type": "code",
      "source": [
        "a = 'ABCDE'\n",
        "\n",
        "a[0]\n",
        "\n"
      ],
      "metadata": {
        "id": "C6kQvkAERzsG"
      },
      "execution_count": null,
      "outputs": []
    },
    {
      "cell_type": "markdown",
      "metadata": {
        "id": "56962dd8"
      },
      "source": [
        "### <div style=\"margin-top: -20px;\">\n",
        "<hr style=\"border: 2px solid blue;\">\n",
        "\n",
        "<font color='blue'><span style=\"font-size: 22px;\"><strong>Operações Aritméticas</strong></span></font>\n",
        "\n",
        "<hr style=\"border: 2px solid blue;\">\n",
        "</div>"
      ]
    },
    {
      "cell_type": "markdown",
      "source": [
        "As operações aritméticas em Python são as mesmas da matemática básica, ou seja, <u>adição</u>, <u>subtração</u>, <u>multiplicação</u>, <u>divisão</u>, <u>divisão inteira (ou quociente da divisão inteira)</u>, <u>módulo (ou resto da divisão inteira)</u> e <u>potência</u>."
      ],
      "metadata": {
        "id": "3109FQQGik5a"
      }
    },
    {
      "cell_type": "markdown",
      "source": [
        "#### *Soma*"
      ],
      "metadata": {
        "id": "scgcYxrMaX6f"
      }
    },
    {
      "cell_type": "markdown",
      "metadata": {
        "id": "2b2aeec4"
      },
      "source": [
        "A adição de números é feita usando-se o operador \"+\"."
      ]
    },
    {
      "cell_type": "code",
      "source": [
        "1+9"
      ],
      "metadata": {
        "id": "nDCajCyIjg03"
      },
      "execution_count": null,
      "outputs": []
    },
    {
      "cell_type": "code",
      "source": [
        "99+109"
      ],
      "metadata": {
        "id": "w9AqSrUSYHy8"
      },
      "execution_count": null,
      "outputs": []
    },
    {
      "cell_type": "code",
      "source": [
        "A = 2\n",
        "B = 20\n",
        "\n",
        "print(A+B)"
      ],
      "metadata": {
        "id": "7maCRDfRYIwu"
      },
      "execution_count": null,
      "outputs": []
    },
    {
      "cell_type": "code",
      "source": [
        "print(f'A + B = {}')"
      ],
      "metadata": {
        "collapsed": true,
        "id": "YwTJ6h92YIm0"
      },
      "execution_count": null,
      "outputs": []
    },
    {
      "cell_type": "markdown",
      "source": [
        "#### *Subtração*"
      ],
      "metadata": {
        "id": "7MLcxDGQaXjn"
      }
    },
    {
      "cell_type": "markdown",
      "metadata": {
        "id": "eiD2f-7GZA2R"
      },
      "source": [
        "A subtração de números é feita usando-se o operador \" - \"."
      ]
    },
    {
      "cell_type": "code",
      "source": [
        "n0 = 3\n",
        "n1 = 9"
      ],
      "metadata": {
        "id": "aFvXcgjyZLas"
      },
      "execution_count": null,
      "outputs": []
    },
    {
      "cell_type": "code",
      "source": [
        "sub = n0 - n1\n",
        "sub2 = n1 - n0"
      ],
      "metadata": {
        "id": "1kzj9b_DZLO7"
      },
      "execution_count": null,
      "outputs": []
    },
    {
      "cell_type": "code",
      "source": [
        "print(sub)\n",
        "print(sub2)"
      ],
      "metadata": {
        "id": "4VAaPWmwZK_j"
      },
      "execution_count": null,
      "outputs": []
    },
    {
      "cell_type": "markdown",
      "source": [
        "#### *Multiplicação*"
      ],
      "metadata": {
        "id": "ZnY-os8qaXRu"
      }
    },
    {
      "cell_type": "markdown",
      "metadata": {
        "id": "d9d3a72c"
      },
      "source": [
        "A multiplicação de números é feita usando-se o operador \"*\"."
      ]
    },
    {
      "cell_type": "code",
      "source": [
        "M = 9*8"
      ],
      "metadata": {
        "id": "69FrcpOzZfLE"
      },
      "execution_count": null,
      "outputs": []
    },
    {
      "cell_type": "code",
      "source": [
        "M"
      ],
      "metadata": {
        "id": "rjZEKFFLZ3oT"
      },
      "execution_count": null,
      "outputs": []
    },
    {
      "cell_type": "markdown",
      "source": [
        "#### *Divisão*"
      ],
      "metadata": {
        "id": "Yd-WMq8IaW8O"
      }
    },
    {
      "cell_type": "markdown",
      "source": [
        "A divisão se divide em algumas subfunções. A seguir vamos ver algumas delas."
      ],
      "metadata": {
        "id": "MEXLgv7faIej"
      }
    },
    {
      "cell_type": "markdown",
      "source": [
        "##### Divisão Padrão\n"
      ],
      "metadata": {
        "id": "FOX87B2PaTdy"
      }
    },
    {
      "cell_type": "markdown",
      "metadata": {
        "id": "a893c4b4"
      },
      "source": [
        "A divisão padrão de números é feita usando-se o operador \"/\"."
      ]
    },
    {
      "cell_type": "code",
      "source": [
        "div = 18/6"
      ],
      "metadata": {
        "id": "JZ3H824qafbK"
      },
      "execution_count": null,
      "outputs": []
    },
    {
      "cell_type": "code",
      "source": [],
      "metadata": {
        "id": "Pz0O1NwkafKy"
      },
      "execution_count": null,
      "outputs": []
    },
    {
      "cell_type": "markdown",
      "source": [
        "##### Divisão Inteira\n"
      ],
      "metadata": {
        "id": "TcfZN_K-bDtq"
      }
    },
    {
      "cell_type": "markdown",
      "metadata": {
        "id": "_0kSWbqCEWox"
      },
      "source": [
        "A divisão inteira de números é feita usando-se o operador \"//\"."
      ]
    },
    {
      "cell_type": "code",
      "source": [
        "divInteira = 55//7"
      ],
      "metadata": {
        "id": "SiI6JCWLEbNs"
      },
      "execution_count": null,
      "outputs": []
    },
    {
      "cell_type": "code",
      "source": [
        "print(divInteira)"
      ],
      "metadata": {
        "id": "LiCFEcldEzTK"
      },
      "execution_count": null,
      "outputs": []
    },
    {
      "cell_type": "markdown",
      "source": [
        "##### Módulo ou Resto\n"
      ],
      "metadata": {
        "id": "K8g0QCbjE8H6"
      }
    },
    {
      "cell_type": "markdown",
      "source": [
        "O módulo da divisão inteira de números é feita usando-se o operador \"%\"."
      ],
      "metadata": {
        "id": "wDpOzgDaFRrJ"
      }
    },
    {
      "cell_type": "markdown",
      "metadata": {
        "id": "MxFfUtlLEsSS"
      },
      "source": [
        "<img src=\"https://gracianotorrao.files.wordpress.com/2014/10/divisaoi.png\" />"
      ]
    },
    {
      "cell_type": "code",
      "source": [
        "resto = 17%2\n"
      ],
      "metadata": {
        "id": "4pQsjMw9FPKB"
      },
      "execution_count": null,
      "outputs": []
    },
    {
      "cell_type": "code",
      "source": [
        "print(resto)"
      ],
      "metadata": {
        "id": "uoO258liF0Jy"
      },
      "execution_count": null,
      "outputs": []
    },
    {
      "cell_type": "markdown",
      "source": [
        "#### *Exponencial ou Potenciação*"
      ],
      "metadata": {
        "id": "_6-xYE4wa8w1"
      }
    },
    {
      "cell_type": "markdown",
      "metadata": {
        "id": "841e5cfb"
      },
      "source": [
        "A potência de números é feita usando-se o operador \"**\"."
      ]
    },
    {
      "cell_type": "code",
      "source": [
        "pot = 9**2    # 9^2\n",
        "\n",
        "print(pot)"
      ],
      "metadata": {
        "id": "RBMxhUGRGCcg"
      },
      "execution_count": null,
      "outputs": []
    },
    {
      "cell_type": "code",
      "source": [
        "P = 9**(1/2)\n",
        "print(P)"
      ],
      "metadata": {
        "id": "saEp_dy8GWV3"
      },
      "execution_count": null,
      "outputs": []
    },
    {
      "cell_type": "code",
      "source": [],
      "metadata": {
        "id": "jUfqpOAKHCAX"
      },
      "execution_count": null,
      "outputs": []
    },
    {
      "cell_type": "markdown",
      "metadata": {
        "id": "55be496a"
      },
      "source": [
        "### <div style=\"margin-top: -20px;\">\n",
        "<hr style=\"border: 2px solid blue;\">\n",
        "\n",
        "<font color='blue'><span style=\"font-size: 18px;\"><strong> Ordem das Operações Aritméticas</strong></span></font>\n",
        "\n",
        "<hr style=\"border: 2px solid blue;\">\n",
        "</div>"
      ]
    },
    {
      "cell_type": "markdown",
      "metadata": {
        "id": "58c797c8"
      },
      "source": [
        "É importante observar que em Python, a ordem de precedência das operações aritméticas é a mesma da matemática básica:\n",
        "\n",
        "1. Parênteses: $()$\n",
        "2. Potenciação: $**$\n",
        "3. Multiplicação e Divisão: $*, /$\n",
        "4. Adição e Subtração: $+, -$\n",
        "\n",
        "Os colchetes e as chaves são reservados para outras funções específicas da linguagem como escrita de listas, matrizes, dicionários etc como veremos em aulas futuras. Vejamos alguns exemplos:"
      ]
    },
    {
      "cell_type": "code",
      "source": [
        "# Expressão numérica\n",
        "\n",
        "1500 + (1500*5)"
      ],
      "metadata": {
        "colab": {
          "base_uri": "https://localhost:8080/"
        },
        "id": "4Y4ZpgFQIn8-",
        "outputId": "c02ca879-8cd7-4347-ec0a-54cd85274c89"
      },
      "execution_count": null,
      "outputs": [
        {
          "output_type": "execute_result",
          "data": {
            "text/plain": [
              "9000"
            ]
          },
          "metadata": {},
          "execution_count": 84
        }
      ]
    },
    {
      "cell_type": "code",
      "source": [
        "# Expressão numérica\n",
        "\n",
        "(1+2)*3-4**2"
      ],
      "metadata": {
        "colab": {
          "base_uri": "https://localhost:8080/"
        },
        "id": "Q23AkexiIn00",
        "outputId": "24f4f61e-ea52-47e3-d116-9b299b72d810"
      },
      "execution_count": null,
      "outputs": [
        {
          "output_type": "execute_result",
          "data": {
            "text/plain": [
              "-7"
            ]
          },
          "metadata": {},
          "execution_count": 86
        }
      ]
    },
    {
      "cell_type": "markdown",
      "source": [
        "![unnamed.png](data:image/png;base64,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)"
      ],
      "metadata": {
        "id": "2YJuXOlJOirI"
      }
    },
    {
      "cell_type": "code",
      "source": [
        "#Equação Linearizada\n",
        "\n",
        "Area ="
      ],
      "metadata": {
        "id": "dmv7piAzOiaZ"
      },
      "execution_count": null,
      "outputs": []
    },
    {
      "cell_type": "markdown",
      "source": [
        "![unnamed (2).png](data:image/png;base64,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)"
      ],
      "metadata": {
        "id": "JNR4M-LyPTSE"
      }
    },
    {
      "cell_type": "code",
      "source": [
        "#Equação Linearizada\n",
        "\n"
      ],
      "metadata": {
        "id": "tRwtnyHlOz2h"
      },
      "execution_count": null,
      "outputs": []
    },
    {
      "cell_type": "markdown",
      "source": [
        "#### ***Exercícios de Fixação***"
      ],
      "metadata": {
        "id": "vS9yZA8nTB4i"
      }
    },
    {
      "cell_type": "markdown",
      "metadata": {
        "id": "a3fa892d"
      },
      "source": [
        " **1 -** Use  as células a seguir para calcular diretamente o valor das expressões:\n",
        "\n",
        "a) $2 + 5$\n",
        "\n",
        "b) $3 - 5 + 6 \\cdot 2$\n",
        "\n",
        "c) $\\frac{2 + 8}{5} \\cdot 3$\n",
        "\n",
        "d) $\\frac{\\left(2^{3} - \\frac{16}{4}\\right)^{2}}{2}$\n",
        "\n"
      ]
    },
    {
      "cell_type": "code",
      "source": [
        "# a)\n"
      ],
      "metadata": {
        "id": "HJDYuje7TfU0"
      },
      "execution_count": null,
      "outputs": []
    },
    {
      "cell_type": "code",
      "source": [
        "# b)\n"
      ],
      "metadata": {
        "id": "6CyhMWtxTfL0"
      },
      "execution_count": null,
      "outputs": []
    },
    {
      "cell_type": "code",
      "source": [
        "# c)\n"
      ],
      "metadata": {
        "id": "pDbhCHoATe7D"
      },
      "execution_count": null,
      "outputs": []
    },
    {
      "cell_type": "code",
      "source": [
        "# d)\n"
      ],
      "metadata": {
        "id": "SgX-JwM1Tevk"
      },
      "execution_count": null,
      "outputs": []
    },
    {
      "cell_type": "markdown",
      "source": [
        "**2 -** Faça um programa que leia um número Inteiro e mostre na tela o seu sucessor e seu antecessor."
      ],
      "metadata": {
        "id": "TbaNJRyZZnvv"
      }
    },
    {
      "cell_type": "code",
      "source": [
        "# Resposta\n"
      ],
      "metadata": {
        "id": "Vetmvjf8ZvFC"
      },
      "execution_count": null,
      "outputs": []
    },
    {
      "cell_type": "markdown",
      "source": [
        "**3 -** Crie um algoritmo que leia um número e mostre o seu dobro, triplo e raiz quadrada."
      ],
      "metadata": {
        "id": "xrHwpxRtZxxa"
      }
    },
    {
      "cell_type": "code",
      "source": [
        "# Resposta"
      ],
      "metadata": {
        "id": "cabCeeg3Z5bs"
      },
      "execution_count": null,
      "outputs": []
    },
    {
      "cell_type": "markdown",
      "source": [
        "**4 -**  Desenvolva um programa que leia as duas notas de um aluno, calcule e mostre a sua média."
      ],
      "metadata": {
        "id": "MKOL5FRhaAJM"
      }
    },
    {
      "cell_type": "code",
      "source": [
        "# Resposta\n"
      ],
      "metadata": {
        "id": "7BO_nWBlaEpd"
      },
      "execution_count": null,
      "outputs": []
    },
    {
      "cell_type": "markdown",
      "source": [
        "**5 -** Escreva um programa que leia um valor em metros e o exiba convertido em centímetros e milímetros."
      ],
      "metadata": {
        "id": "4Md9JwxsaGtk"
      }
    },
    {
      "cell_type": "code",
      "source": [
        "# Respostas\n"
      ],
      "metadata": {
        "id": "gae5fS43aPjY"
      },
      "execution_count": null,
      "outputs": []
    },
    {
      "cell_type": "markdown",
      "source": [
        "**6 -** Faça um programa que leia a largura e a altura de uma parede em metros, calcule a sua área e a quantidade de tinta necessária para pintá-la, sabendo que cada litro de tinta pinta uma área de 2 metros quadrados."
      ],
      "metadata": {
        "id": "WOo40K7UaONv"
      }
    },
    {
      "cell_type": "code",
      "source": [
        "# Resposta\n",
        "\n",
        "\n",
        "                                        # 1 L -------- 2 m^2\n",
        "                                        #  quant------------area m^2\n"
      ],
      "metadata": {
        "id": "pzPbJ3vfaYFA"
      },
      "execution_count": null,
      "outputs": []
    },
    {
      "cell_type": "markdown",
      "source": [
        "**7** - Faça um algoritmo que leia o preço de um produto e mostre seu novo preço, com 5% de desconto."
      ],
      "metadata": {
        "id": "HiMH0oxEcl7K"
      }
    },
    {
      "cell_type": "code",
      "source": [
        "# Resposta\n"
      ],
      "metadata": {
        "id": "LQ4VYzFscth8"
      },
      "execution_count": null,
      "outputs": []
    },
    {
      "cell_type": "markdown",
      "source": [
        "**8 -**  Escreva um programa que pergunte a quantidade de Km percorridos por um carro alugado e a quantidade de dias pelos quais ele foi alugado. Calcule o preço a pagar, sabendo que o carro custa R\\$60 por dia e R\\$0,15 por Km rodado.\n"
      ],
      "metadata": {
        "id": "e80l7Hoqcx5V"
      }
    },
    {
      "cell_type": "code",
      "source": [
        "# Resposta\n",
        "quant_Km = float(input('Digite a quantidade de Km percorridos:'))\n",
        "\n",
        "quant_Dias = int(input('Digite a quantidade de dias:'))\n",
        "\n",
        "preço = quant_Dias*60 + 0.15*quant_Km\n",
        "\n",
        "print(f'Preço a pagar = {preço} R$')"
      ],
      "metadata": {
        "id": "1jNRBRP8dHaQ"
      },
      "execution_count": null,
      "outputs": []
    },
    {
      "cell_type": "markdown",
      "metadata": {
        "id": "5aliJW1RQ7Yy"
      },
      "source": [
        "### <div style=\"margin-top: -20px;\">\n",
        "<hr style=\"border: 2px solid blue;\">\n",
        "\n",
        "<font color='blue'><span style=\"font-size: 18px;\"><strong> Algumas Funções Matemáticas</strong></span></font>\n",
        "\n",
        "<hr style=\"border: 2px solid blue;\">\n",
        "</div>"
      ]
    },
    {
      "cell_type": "markdown",
      "source": [
        "Para utilizar as funções matemáticas, é preciso importar **módulos**. Módulo, em Python, é um arquivo contendo definições e instruções. Um módulo pode definir funções, classes e variáveis. Basicamente, é uma maneira de organizar grandes códigos em arquivos menores e mais manejáveis, para tornar o código mais legível e reutilizável. Vejamos alguns exemplos de módulos."
      ],
      "metadata": {
        "id": "xltBhQgzg61m"
      }
    },
    {
      "cell_type": "markdown",
      "metadata": {
        "id": "fc634d58"
      },
      "source": [
        "#### <div style=\"margin-top: -20px;\">\n",
        "<hr style=\"border: 2px solid blue;\">\n",
        "\n",
        "<font color='blue'><span style=\"font-size: 18px;\"><strong> Módulo math</strong></span></font>\n",
        "\n",
        "<hr style=\"border: 2px solid blue;\">\n",
        "</div>"
      ]
    },
    {
      "cell_type": "markdown",
      "metadata": {
        "id": "e1093e11"
      },
      "source": [
        "O módulo <u>math</u> é um dos módulos padrões no Python que fornece funções matemáticas. Este módulo não precisa ser instalado separadamente porque ele é distribuído com o Python, então você pode importá-lo diretamente em seu programa."
      ]
    },
    {
      "cell_type": "code",
      "execution_count": null,
      "metadata": {
        "ExecuteTime": {
          "end_time": "2023-09-27T14:22:46.291676Z",
          "start_time": "2023-09-27T14:22:46.287850Z"
        },
        "id": "6def0005"
      },
      "outputs": [],
      "source": [
        "# Importando o módulo math\n",
        "import"
      ]
    },
    {
      "cell_type": "markdown",
      "source": [
        "Aqui estão alguns exemplos de funções disponíveis no módulo math:"
      ],
      "metadata": {
        "id": "PAfMBH3bks-n"
      }
    },
    {
      "cell_type": "markdown",
      "source": [
        "##### **math.sqrt(x)**\n",
        "\n",
        "Esta função retorna a raiz quadrada de  x ."
      ],
      "metadata": {
        "id": "uYSCk7y5kwq-"
      }
    },
    {
      "cell_type": "code",
      "source": [
        "# Calculando a raiz quadrada de um número qualquer\n",
        "import math\n",
        "\n",
        "a =\n",
        "b =\n",
        "\n",
        "print()"
      ],
      "metadata": {
        "id": "AcdL-LIAkt12"
      },
      "execution_count": null,
      "outputs": []
    },
    {
      "cell_type": "code",
      "source": [
        "from math import sqrt\n",
        "\n"
      ],
      "metadata": {
        "id": "-09oQZDGmPrl"
      },
      "execution_count": null,
      "outputs": []
    },
    {
      "cell_type": "markdown",
      "source": [
        "##### **math.pow(x,y)**\n",
        "\n",
        "Esta função retorna a potencia de x. Ela recebe dois argumentos: a base e o expoente, e retorna o resultado da base elevada ao expoente."
      ],
      "metadata": {
        "id": "MEQZZbltk9JQ"
      }
    },
    {
      "cell_type": "code",
      "source": [],
      "metadata": {
        "id": "38iQ-Vdon4Le"
      },
      "execution_count": null,
      "outputs": []
    },
    {
      "cell_type": "markdown",
      "source": [
        "#####  **math.sin(x), math.cos(x) e math.tan(x)**\n",
        "\n",
        "funções seno, cosseno e tangente de x (x em radianos)"
      ],
      "metadata": {
        "id": "UuYZTQ2WnDlL"
      }
    },
    {
      "cell_type": "code",
      "execution_count": null,
      "metadata": {
        "ExecuteTime": {
          "end_time": "2023-09-27T14:20:06.788568Z",
          "start_time": "2023-09-27T14:20:06.783478Z"
        },
        "id": "e617e87b"
      },
      "outputs": [],
      "source": [
        "# Importando o módulo math\n",
        "import math\n",
        "\n",
        "# Calculando o seno, o cosseno e a tangente de alguns ângulos (em radianos)\n",
        "s = math.sin(0)\n",
        "c = math.cos(math.pi)        # pi ------- 180°\n",
        "tg = math.tan(math.pi/4)\n",
        "\n",
        "# Imprimindo o resultado da potência\n",
        "print(s)\n",
        "print(c)\n",
        "print(tg)"
      ]
    },
    {
      "cell_type": "code",
      "source": [],
      "metadata": {
        "id": "JiKzYrxCnP6Z"
      },
      "execution_count": null,
      "outputs": []
    },
    {
      "cell_type": "code",
      "source": [],
      "metadata": {
        "id": "tgN8kJC4nPvj"
      },
      "execution_count": null,
      "outputs": []
    },
    {
      "cell_type": "code",
      "source": [],
      "metadata": {
        "id": "FucQke2MoCOx"
      },
      "execution_count": null,
      "outputs": []
    },
    {
      "cell_type": "markdown",
      "metadata": {
        "id": "0ce44683"
      },
      "source": [
        "##### **math.log(x,[ base])**\n",
        "\n",
        "Esta função retorna o logaritmo natural de x, ou o logaritmo de x na base fornecida."
      ]
    },
    {
      "cell_type": "code",
      "execution_count": null,
      "metadata": {
        "ExecuteTime": {
          "end_time": "2023-09-27T14:31:58.709160Z",
          "start_time": "2023-09-27T14:31:58.704626Z"
        },
        "id": "652fdff5"
      },
      "outputs": [],
      "source": [
        "# Importando o módulo math\n",
        "import math\n",
        "\n",
        "# Calculando o logaritmo de 100 na base 10 usando a função log do módulo math\n",
        "logaritmo = math.log(100, 10)\n",
        "\n",
        "# Imprimindo o valor do logaritmo\n",
        "print(logaritmo)"
      ]
    },
    {
      "cell_type": "code",
      "source": [],
      "metadata": {
        "id": "9Skxs2aZoKak"
      },
      "execution_count": null,
      "outputs": []
    },
    {
      "cell_type": "markdown",
      "source": [
        "##### **math.ceil(x), math.floor(x), math.trunc(x), math.hypot(x), math.factorial(x)**\n",
        "\n",
        "\n"
      ],
      "metadata": {
        "id": "3y6Wq2L_pJOQ"
      }
    },
    {
      "cell_type": "code",
      "source": [],
      "metadata": {
        "id": "TEJJvKl8pgYH"
      },
      "execution_count": null,
      "outputs": []
    },
    {
      "cell_type": "markdown",
      "source": [
        "#### ***Exercícios de Fixação***"
      ],
      "metadata": {
        "id": "lLVj55zdo32M"
      }
    },
    {
      "cell_type": "markdown",
      "source": [
        "##### **1)** Faça um programa que leia o comprimento do cateto oposto e do cateto adjacente de um triângulo retângulo. Calcule e mostre o comprimento da hipotenusa."
      ],
      "metadata": {
        "id": "3L5ufthdqo0M"
      }
    },
    {
      "cell_type": "code",
      "source": [
        "# Resposta\n"
      ],
      "metadata": {
        "id": "t0aUnk-0qbgU"
      },
      "execution_count": null,
      "outputs": []
    },
    {
      "cell_type": "markdown",
      "source": [
        "##### **2)**  Faça um programa que leia um ângulo qualquer e mostre na tela o valor do seno, cosseno e tangente desse ângulo."
      ],
      "metadata": {
        "id": "Ax3UnGPBN-Ig"
      }
    },
    {
      "cell_type": "code",
      "source": [
        "# Resposta\n"
      ],
      "metadata": {
        "id": "nK7pudN7qbQM"
      },
      "execution_count": null,
      "outputs": []
    },
    {
      "cell_type": "markdown",
      "source": [
        "##### **3)**  Peça ao usuário um número decimal e mostre:\n",
        "\n",
        "    O menor número inteiro maior ou igual a ele (**math.ceil**).\n",
        "\n",
        "    O maior número inteiro menor ou igual a ele (**math.floor**)."
      ],
      "metadata": {
        "id": "zgXBP-XLOIDJ"
      }
    },
    {
      "cell_type": "code",
      "source": [
        "# Resposta\n"
      ],
      "metadata": {
        "id": "mqFxT3gHqbEd"
      },
      "execution_count": null,
      "outputs": []
    },
    {
      "cell_type": "markdown",
      "source": [
        "##### **4)**  Escreva um programa que leia um número inteiro 𝑛 e calcule seu fatorial usando **math.factorial**."
      ],
      "metadata": {
        "id": "mq_OhUYqPJJW"
      }
    },
    {
      "cell_type": "code",
      "source": [
        "# Resposta\n"
      ],
      "metadata": {
        "id": "B-GvymJaQMJz"
      },
      "execution_count": null,
      "outputs": []
    },
    {
      "cell_type": "markdown",
      "source": [
        "##### **5)** Escreva um programa que leia o raio de um círculo e calcule sua área usando a fórmula: $A = \\pi r^2$. Utilize **math.pi** para o valor de 𝜋.\n",
        "\n"
      ],
      "metadata": {
        "id": "XbySM7--V2hI"
      }
    },
    {
      "cell_type": "code",
      "source": [
        "# Resposta\n",
        "\n"
      ],
      "metadata": {
        "id": "WhXx1aP3WPdn"
      },
      "execution_count": null,
      "outputs": []
    },
    {
      "cell_type": "markdown",
      "source": [
        "##### **6)** Peça ao usuário um ângulo em graus e converta para radianos usando **math.radians**. Depois, converta o resultado de volta para graus usando math.degrees."
      ],
      "metadata": {
        "id": "KGFjPiLIRT-x"
      }
    },
    {
      "cell_type": "code",
      "source": [
        "# Resposta\n",
        "\n"
      ],
      "metadata": {
        "id": "2WDxuNBFRcSx"
      },
      "execution_count": null,
      "outputs": []
    },
    {
      "cell_type": "markdown",
      "source": [
        "##### **7)** Crie um programa que resolva uma equação quadrática na forma **$ ax^2 + bx + c = 0$**. Use math.sqrt para calcular as raízes reais quando o discriminante **$Δ = b^2 - 4ac$** for maior ou igual a zero.\n",
        "\n"
      ],
      "metadata": {
        "id": "GhsloWqjQOSD"
      }
    },
    {
      "cell_type": "markdown",
      "source": [
        "![9768480add7616fa1fe2081ce3542378.webp](data:image/webp;base64,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)"
      ],
      "metadata": {
        "id": "FsIko3f4Ulbc"
      }
    },
    {
      "cell_type": "code",
      "source": [
        "# Resposta\n",
        "\n"
      ],
      "metadata": {
        "id": "BJcTIBaCRfsR"
      },
      "execution_count": null,
      "outputs": []
    },
    {
      "cell_type": "markdown",
      "metadata": {
        "id": "akF4p2nPXM9v"
      },
      "source": [
        "### <div style=\"margin-top: -20px;\">\n",
        "<hr style=\"border: 2px solid blue;\">\n",
        "\n",
        "<font color='blue'><span style=\"font-size: 18px;\"><strong> Estruturas de Decisão</strong></span></font>\n",
        "\n",
        "<hr style=\"border: 2px solid blue;\">\n",
        "</div>"
      ]
    },
    {
      "cell_type": "markdown",
      "source": [
        "#### As estruturas de decisão permitem alterar o curso do fluxo de execução de um programa, de acordo com o valor (Verdadeiro/Falso) de um teste lógico.\n",
        "\n",
        "Em python temos as seguintes estruturas de decisão mais usuais:\n",
        "\n",
        "**if** (se)\n",
        "\n",
        "**if..else** (se..senão)\n",
        "\n",
        "**if..elif..else** (se..senão.senão se)\n",
        "\n"
      ],
      "metadata": {
        "id": "P5TaOwCPs8YK"
      }
    },
    {
      "cell_type": "markdown",
      "source": [
        "\n",
        "\n",
        "##  *Estrutura if*\n",
        "O comando **if** é utilizado quando precisamos decidir se um trecho do programa deve ou não ser executado. Ele é associado a uma condição, e o trecho de código será executado se o valor da condição for verdadeiro.\n",
        "\n",
        "**Sintaxe:**\n",
        "\n",
        "        if<condicao>:\n",
        "              <Bloco de comandos>\n",
        "\n",
        "**Exemplo:**\n",
        "\n",
        "\n",
        "\n",
        "\n"
      ],
      "metadata": {
        "id": "K9qGsUHWvfsc"
      }
    },
    {
      "cell_type": "code",
      "source": [],
      "metadata": {
        "id": "xrWLQ5GlZQhU"
      },
      "execution_count": null,
      "outputs": []
    },
    {
      "cell_type": "code",
      "source": [
        "valor = int(input(\"Qual é a sua idade?\"))\n",
        "if valor < 18:\n",
        "    print(\"Você ainda não pode dirigir!\")\n",
        "if valor > 18:\n",
        "   print(\"Você pode dirigir!\")"
      ],
      "metadata": {
        "id": "2opbrOZIziok"
      },
      "execution_count": null,
      "outputs": []
    },
    {
      "cell_type": "markdown",
      "source": [
        "\n",
        "\n",
        "##  *Estrutura if..else*\n",
        "Nesta estrutura, um trecho do código será executado se a condição for verdadeira e outro se a condição for falsa.\n",
        "\n",
        "**Sintaxe:**\n",
        "\n",
        "\n",
        "\n",
        "```\n",
        "      if <condicao>:\n",
        "              <Bloco de comandos para condicao verdadeira>\n",
        "      else:\n",
        "              <Bloco de comandos para condicao falsa>\n",
        "```\n",
        "\n",
        "**Exemplo:**\n",
        "\n",
        "\n",
        "\n",
        "\n",
        "\n",
        "\n",
        "\n"
      ],
      "metadata": {
        "id": "ixtObDu8AyYb"
      }
    },
    {
      "cell_type": "code",
      "source": [
        "valor = int(input(\"Qual a sua idade?\"))\n",
        "if valor < 18:\n",
        "        print(\"Você não pode dirigir ainda!\")\n",
        "else:\n",
        "        print(\"Você é o cara!! Pode dirigir se possuir carteira de motorista!\")"
      ],
      "metadata": {
        "id": "OVo_4P3bCb8J"
      },
      "execution_count": null,
      "outputs": []
    },
    {
      "cell_type": "markdown",
      "source": [
        "\n",
        "\n",
        "> ## *Exercícios: Estruturas de decisão*\n",
        "\n",
        "**1-** Faça um programa que leia 2 notas de um aluno, calcule a média e imprima reprovado (para ser aprovado a média deve ser no mínimo 7).\n",
        "\n",
        "\n",
        "\n"
      ],
      "metadata": {
        "id": "Qvzxf54QIvVo"
      }
    },
    {
      "cell_type": "code",
      "source": [
        "# resposta"
      ],
      "metadata": {
        "id": "Jm0D4t0zJUPX"
      },
      "execution_count": null,
      "outputs": []
    },
    {
      "cell_type": "markdown",
      "source": [
        "**2-** Refaça o exercício 1, identificando o conceito **aprovado** (média superior a 7), **exame** (média entre 5 e 7) ou **reprovado** (média inferior a 5).\n",
        "\n"
      ],
      "metadata": {
        "id": "Ht9AmtfZJY2D"
      }
    },
    {
      "cell_type": "code",
      "source": [
        "# resposta"
      ],
      "metadata": {
        "id": "lF_4851UJ-mo"
      },
      "execution_count": null,
      "outputs": []
    },
    {
      "cell_type": "markdown",
      "source": [
        " **3-**Escreva um programa que leia a velocidade de um carro. Se ele ultrapassar 80Km/h, mostre uma mensagem dizendo que ele foi multado. A multa vai custar R$7,00 por cada Km acima do limite."
      ],
      "metadata": {
        "id": "06KhAR10Z8BC"
      }
    },
    {
      "cell_type": "code",
      "source": [
        "# Resposta\n"
      ],
      "metadata": {
        "id": "7NoM1jXkaIfA"
      },
      "execution_count": null,
      "outputs": []
    },
    {
      "cell_type": "markdown",
      "source": [
        "**4-** Escreva um programa que leia dois números e que pergunte qual operação você deseja realizar. Você deve poder calcular soma(+), subtração(-), multiplicação(*) e divisão(/). Exiba o resultado da operação solicitada."
      ],
      "metadata": {
        "id": "Xb37cyO5NiMH"
      }
    },
    {
      "cell_type": "code",
      "source": [
        "# Resposta"
      ],
      "metadata": {
        "id": "suQNL5rjOUQE"
      },
      "execution_count": null,
      "outputs": []
    },
    {
      "cell_type": "markdown",
      "source": [
        "**5-** Crie um programa que leia um número inteiro e mostre na tela se ele é PAR ou ÍMPAR."
      ],
      "metadata": {
        "id": "8VeGLa4NaLFB"
      }
    },
    {
      "cell_type": "code",
      "source": [
        "# Resposta\n"
      ],
      "metadata": {
        "id": "7dCMjCY5aTTQ"
      },
      "execution_count": null,
      "outputs": []
    },
    {
      "cell_type": "markdown",
      "source": [
        "**6-** Desenvolva um programa que pergunte a distância de uma viagem em Km. Calcule o preço da passagem, cobrando R\\$0,50 por Km para viagens de até 200Km e R\\$0,45 parta viagens mais longas."
      ],
      "metadata": {
        "id": "74EFhnkSaVRo"
      }
    },
    {
      "cell_type": "code",
      "source": [
        "# Resposta\n"
      ],
      "metadata": {
        "id": "1OaNg0j-Mzuv"
      },
      "execution_count": null,
      "outputs": []
    },
    {
      "cell_type": "markdown",
      "source": [
        "**7-** Faça um programa que leia três números inteiros e mostre qual é o maior."
      ],
      "metadata": {
        "id": "Ql-w5xfGM6ro"
      }
    },
    {
      "cell_type": "code",
      "source": [
        "# Resposta\n",
        "\n",
        "\n"
      ],
      "metadata": {
        "id": "OSLAP4MRNGAm"
      },
      "execution_count": null,
      "outputs": []
    },
    {
      "cell_type": "markdown",
      "source": [
        "**8-** Faça um programa que leia três números inteiros e mostre qual é o maior e o menor."
      ],
      "metadata": {
        "id": "FNeHh6azX0pl"
      }
    },
    {
      "cell_type": "code",
      "source": [
        "# Resposta\n",
        "\n"
      ],
      "metadata": {
        "id": "8hj2IVAuX3IA"
      },
      "execution_count": null,
      "outputs": []
    },
    {
      "cell_type": "markdown",
      "source": [
        "# Estrutura da Dados\n",
        "As estruturas de dados são fundamentais na ciência da computação e na programação, pois organizam e manipulam informações de forma eficiente. Em Python, uma linguagem de alto nível e versátil, temos acesso a diversas estruturas nativas, como listas, tuplas, dicionários e conjuntos, que tornam a implementação de soluções mais simples e poderosa. Este material explora os principais conceitos e uso dessas estruturas, destacando sua aplicação prática para otimizar código e resolver problemas complexos de forma organizada."
      ],
      "metadata": {
        "id": "2hogjf6H0xQL"
      }
    },
    {
      "cell_type": "markdown",
      "source": [
        "## *Listas*\n",
        "Lista é um conjunto sequencial de valores, onde cada valor é identificado através de um índice. O primeiro valor tem índice 0. Uma lista em Python é declarada da seguinte forma:\n",
        "\n",
        "\n",
        "\n",
        "```\n",
        "      Nome_Lista = [valor1, valor2, ..., valorN]\n",
        "```\n",
        "Uma lista pode ter valores de qualquer tipo, incluindo outras listas.\n",
        "\n",
        "**Exemplo:**\n",
        "\n",
        "\n",
        "\n"
      ],
      "metadata": {
        "id": "LPRtlmQ32rgn"
      }
    },
    {
      "cell_type": "code",
      "source": [
        "L = [3,'abacate', 9.7, [5,6,3], \"Python\" , (3,'j')]\n",
        "print (L[3][1])"
      ],
      "metadata": {
        "colab": {
          "base_uri": "https://localhost:8080/"
        },
        "id": "_sWMiMQz3tHh",
        "outputId": "ea9e207a-2b20-4dba-bfd2-4e7fc92d4baa"
      },
      "execution_count": null,
      "outputs": [
        {
          "output_type": "stream",
          "name": "stdout",
          "text": [
            "6\n"
          ]
        }
      ]
    },
    {
      "cell_type": "markdown",
      "source": [
        "Para alterar um elemento da lista, basta fazer uma atribuição de valor através do índice. O valor existente será substituído pelo novo valor.\n",
        "\n",
        "**Exemplo:**\n"
      ],
      "metadata": {
        "id": "xVqs7GkD5z1D"
      }
    },
    {
      "cell_type": "code",
      "source": [
        "L = [3,'abacate', 9.7, [5,6,3], \"Python\" , (3,'j')]\n",
        "L[3] = 'morango'\n",
        "print(L)"
      ],
      "metadata": {
        "colab": {
          "base_uri": "https://localhost:8080/"
        },
        "id": "NeaiRTBy6KRN",
        "outputId": "13c24dd8-e614-4d3b-8172-4a1769ea168e"
      },
      "execution_count": null,
      "outputs": [
        {
          "output_type": "stream",
          "name": "stdout",
          "text": [
            "[3, 'abacate', 9.7, 'morango', 'Python', (3, 'j')]\n"
          ]
        }
      ]
    },
    {
      "cell_type": "markdown",
      "source": [
        "A tentativa de acesso a um índice inexistente resultará em um erro.\n",
        "\n",
        "**Exemplo:**\n"
      ],
      "metadata": {
        "id": "twQ8hb816gkH"
      }
    },
    {
      "cell_type": "code",
      "source": [
        "L = [3,'abacate', 9.7, [5,6,3], \"Python\" , (3,'j')]\n",
        "L[7] = 'banana'\n",
        "print(L)"
      ],
      "metadata": {
        "colab": {
          "base_uri": "https://localhost:8080/",
          "height": 176
        },
        "id": "CBQz3FeX63h5",
        "outputId": "cbd70039-81f6-4fab-a780-8babc3e80def"
      },
      "execution_count": null,
      "outputs": [
        {
          "output_type": "error",
          "ename": "IndexError",
          "evalue": "list assignment index out of range",
          "traceback": [
            "\u001b[0;31m---------------------------------------------------------------------------\u001b[0m",
            "\u001b[0;31mIndexError\u001b[0m                                Traceback (most recent call last)",
            "\u001b[0;32m<ipython-input-25-a584007265d7>\u001b[0m in \u001b[0;36m<cell line: 2>\u001b[0;34m()\u001b[0m\n\u001b[1;32m      1\u001b[0m \u001b[0mL\u001b[0m \u001b[0;34m=\u001b[0m \u001b[0;34m[\u001b[0m\u001b[0;36m3\u001b[0m\u001b[0;34m,\u001b[0m\u001b[0;34m'abacate'\u001b[0m\u001b[0;34m,\u001b[0m \u001b[0;36m9.7\u001b[0m\u001b[0;34m,\u001b[0m \u001b[0;34m[\u001b[0m\u001b[0;36m5\u001b[0m\u001b[0;34m,\u001b[0m\u001b[0;36m6\u001b[0m\u001b[0;34m,\u001b[0m\u001b[0;36m3\u001b[0m\u001b[0;34m]\u001b[0m\u001b[0;34m,\u001b[0m \u001b[0;34m\"Python\"\u001b[0m \u001b[0;34m,\u001b[0m \u001b[0;34m(\u001b[0m\u001b[0;36m3\u001b[0m\u001b[0;34m,\u001b[0m\u001b[0;34m'j'\u001b[0m\u001b[0;34m)\u001b[0m\u001b[0;34m]\u001b[0m\u001b[0;34m\u001b[0m\u001b[0;34m\u001b[0m\u001b[0m\n\u001b[0;32m----> 2\u001b[0;31m \u001b[0mL\u001b[0m\u001b[0;34m[\u001b[0m\u001b[0;36m7\u001b[0m\u001b[0;34m]\u001b[0m \u001b[0;34m=\u001b[0m \u001b[0;34m'banana'\u001b[0m\u001b[0;34m\u001b[0m\u001b[0;34m\u001b[0m\u001b[0m\n\u001b[0m\u001b[1;32m      3\u001b[0m \u001b[0mprint\u001b[0m\u001b[0;34m(\u001b[0m\u001b[0mL\u001b[0m\u001b[0;34m)\u001b[0m\u001b[0;34m\u001b[0m\u001b[0;34m\u001b[0m\u001b[0m\n",
            "\u001b[0;31mIndexError\u001b[0m: list assignment index out of range"
          ]
        }
      ]
    },
    {
      "cell_type": "markdown",
      "source": [
        "## *Funções para manipulação de listas*\n",
        "A lista é uma estrutura **mutável**, ou seja, ela pode ser modificada. Na tabela a seguir estão algumas funções utilizadas para manipular listas.\n",
        "\n"
      ],
      "metadata": {
        "id": "3AnIvx8e7HwX"
      }
    },
    {
      "cell_type": "markdown",
      "source": [
        "## *Operações com listas*\n",
        "**Concatenação (+)**\n"
      ],
      "metadata": {
        "id": "yQ8wOy2v_Odp"
      }
    },
    {
      "cell_type": "code",
      "source": [
        "a = [1, 2, 3]\n",
        "b = [4, 5, 6]\n",
        "c = a + b\n",
        "print(c)"
      ],
      "metadata": {
        "colab": {
          "base_uri": "https://localhost:8080/"
        },
        "id": "_dYlMQBeAgKI",
        "outputId": "74037bee-92b2-4dd9-ca29-e8e7440178ec"
      },
      "execution_count": null,
      "outputs": [
        {
          "output_type": "stream",
          "name": "stdout",
          "text": [
            "[1, 2, 3, 4, 5, 6]\n"
          ]
        }
      ]
    },
    {
      "cell_type": "markdown",
      "source": [
        "**Repetição ( * )**\n",
        "\n"
      ],
      "metadata": {
        "id": "WamrjiXPAwMQ"
      }
    },
    {
      "cell_type": "code",
      "source": [
        "L = [0, 1, 2]\n",
        "L = L*4\n",
        "print (L)"
      ],
      "metadata": {
        "colab": {
          "base_uri": "https://localhost:8080/"
        },
        "id": "Qs3eQhYlA3A-",
        "outputId": "d4784f55-c36e-4bb2-dee5-74308f497bba"
      },
      "execution_count": null,
      "outputs": [
        {
          "output_type": "stream",
          "name": "stdout",
          "text": [
            "[0, 1, 2, 0, 1, 2, 0, 1, 2, 0, 1, 2]\n"
          ]
        }
      ]
    },
    {
      "cell_type": "markdown",
      "source": [
        "## *Fatiamento de listas*\n",
        "\n",
        "O fatiamento de listas é semelhante ao fatiamento de strings.\n",
        "\n",
        "**Exemplo 1:**\n"
      ],
      "metadata": {
        "id": "dvk5JxuJBbL-"
      }
    },
    {
      "cell_type": "code",
      "source": [
        "L = [3, 'abacate', 9.7, [5, 6, 3], \"Python\", (3, 'j')]\n",
        "L [1:4] #seleciona os elementos das posições 1,2,3"
      ],
      "metadata": {
        "colab": {
          "base_uri": "https://localhost:8080/"
        },
        "id": "edJALymKBtnt",
        "outputId": "225a077f-168c-4fd5-c1d5-5a7d95fe5789"
      },
      "execution_count": null,
      "outputs": [
        {
          "output_type": "execute_result",
          "data": {
            "text/plain": [
              "['abacate', 9.7, [5, 6, 3]]"
            ]
          },
          "metadata": {},
          "execution_count": 4
        }
      ]
    },
    {
      "cell_type": "markdown",
      "source": [
        "**Exemplo 2:**\n"
      ],
      "metadata": {
        "id": "RBqcOZ2VCve6"
      }
    },
    {
      "cell_type": "code",
      "source": [
        "L = [3, 'abacate', 9.7, [5, 6, 3], \"Python\", (3, 'j')]\n",
        "L [2:] #seleciona os elementos a partir da posição 2"
      ],
      "metadata": {
        "colab": {
          "base_uri": "https://localhost:8080/"
        },
        "id": "LK5bI0aXC4EK",
        "outputId": "afbae645-9039-4107-81d3-e1919ee31b30"
      },
      "execution_count": null,
      "outputs": [
        {
          "output_type": "execute_result",
          "data": {
            "text/plain": [
              "[9.7, [5, 6, 3], 'Python', (3, 'j')]"
            ]
          },
          "metadata": {},
          "execution_count": 5
        }
      ]
    },
    {
      "cell_type": "markdown",
      "source": [
        "**Exemplo 3:**\n"
      ],
      "metadata": {
        "id": "rJC194tnDIJR"
      }
    },
    {
      "cell_type": "code",
      "source": [
        "L = [3, 'abacate', 9.7, [5, 6, 3], \"Python\", (3, 'j')]\n",
        "L [:4] #seleciona os elementos até a posição 3"
      ],
      "metadata": {
        "colab": {
          "base_uri": "https://localhost:8080/"
        },
        "id": "tpIYJrgDDNSL",
        "outputId": "aa272544-8aab-4c41-c29b-c20b9e670153"
      },
      "execution_count": null,
      "outputs": [
        {
          "output_type": "execute_result",
          "data": {
            "text/plain": [
              "[3, 'abacate', 9.7, [5, 6, 3]]"
            ]
          },
          "metadata": {},
          "execution_count": 7
        }
      ]
    },
    {
      "cell_type": "markdown",
      "source": [
        "## *Criação de listas com range ()*\n",
        "\n",
        "A função range() define um intervalo de valores inteiros. Associada a list(), cria uma lista com os valores do intervalo.\n",
        "\n",
        "A função range() pode ter de 1 a 3 parâmetros.\n",
        "\n",
        "\n",
        "*   range(n) - gera um intervalo de **0 a n-1**   \n",
        "*   range(i, n) - gera um intervalo de **i a n-1**\n",
        "*   range(i, n, p) - gera um intervalo de **i a n-1** com intervalo  **p** entre os números.\n",
        "\n",
        "**Exemplos:**\n",
        "\n",
        "\n",
        "\n",
        "\n",
        "\n",
        "\n"
      ],
      "metadata": {
        "id": "qlL4DDupDbjW"
      }
    },
    {
      "cell_type": "code",
      "source": [
        "L1 = list(range(5))\n",
        "print(L1)"
      ],
      "metadata": {
        "colab": {
          "base_uri": "https://localhost:8080/"
        },
        "id": "jtoYMCy1FO93",
        "outputId": "83deb6ae-3923-4842-84dd-2ca446add8f7"
      },
      "execution_count": null,
      "outputs": [
        {
          "output_type": "stream",
          "name": "stdout",
          "text": [
            "[0, 1, 2, 3, 4]\n"
          ]
        }
      ]
    },
    {
      "cell_type": "code",
      "source": [
        "L2 = list(range(3,8))\n",
        "print(L2)"
      ],
      "metadata": {
        "colab": {
          "base_uri": "https://localhost:8080/"
        },
        "id": "5G2fbNPeFYe5",
        "outputId": "38114ec1-444f-49e2-f471-a5717f2dc6ee"
      },
      "execution_count": null,
      "outputs": [
        {
          "output_type": "stream",
          "name": "stdout",
          "text": [
            "[3, 4, 5, 6, 7]\n"
          ]
        }
      ]
    },
    {
      "cell_type": "code",
      "source": [
        "L3 = list(range(2,11,3))\n",
        "print(L3)"
      ],
      "metadata": {
        "colab": {
          "base_uri": "https://localhost:8080/"
        },
        "id": "pgAhg3wmFltK",
        "outputId": "0b683f72-a91b-4f2b-e9e6-5bd2a7f6945e"
      },
      "execution_count": null,
      "outputs": [
        {
          "output_type": "stream",
          "name": "stdout",
          "text": [
            "[2, 5, 8]\n"
          ]
        }
      ]
    },
    {
      "cell_type": "markdown",
      "source": [
        "## *Exercícios: Listas*\n",
        "\n",
        "**1-** Gere uma lista contendo os múltiplos de 3 entre 1 a 50.\n",
        "\n"
      ],
      "metadata": {
        "id": "WNnmM0-vFzGx"
      }
    },
    {
      "cell_type": "code",
      "source": [
        "# Sua resposta"
      ],
      "metadata": {
        "id": "DtHXXf7vGD4a"
      },
      "execution_count": null,
      "outputs": []
    },
    {
      "cell_type": "markdown",
      "source": [
        "# **Tuplas**\n",
        "\n",
        "Tupla, assim como a Lista, é um conjunto sequencial de valores, onde cada valor é identificado através de um índice. A principal diferença entre elas é que as tuplas são imutáveis, ou seja, seus elementos nãopodem ser alterados.\n",
        "\n",
        "Dentre as utilidades das tuplas, destacam-se as operações de empacotamento e desempacotamento de valores.\n",
        "\n",
        "Uma tupla em Python é declarada da seguinte forma:\n",
        "\n",
        "\n",
        "\n",
        "```\n",
        "      Nome_tupla = (valor1, valor2,..., valorN)\n",
        "```\n",
        "**Exemplo:**\n",
        "\n",
        "\n"
      ],
      "metadata": {
        "id": "Vt-RBruVGJ_g"
      }
    },
    {
      "cell_type": "code",
      "source": [
        "T = (1, 2, 3, 4, 5)\n",
        "print (T)\n",
        "print (T[3])\n",
        "t[3]"
      ],
      "metadata": {
        "colab": {
          "base_uri": "https://localhost:8080/",
          "height": 211
        },
        "id": "EQym__pgHiSa",
        "outputId": "b8b010b4-4fd5-4b87-e08c-5e7795b8c7f1"
      },
      "execution_count": null,
      "outputs": [
        {
          "output_type": "stream",
          "name": "stdout",
          "text": [
            "(1, 2, 3, 4, 5)\n",
            "4\n"
          ]
        },
        {
          "output_type": "error",
          "ename": "NameError",
          "evalue": "name 't' is not defined",
          "traceback": [
            "\u001b[0;31m---------------------------------------------------------------------------\u001b[0m",
            "\u001b[0;31mNameError\u001b[0m                                 Traceback (most recent call last)",
            "\u001b[0;32m<ipython-input-13-431217eea3ff>\u001b[0m in \u001b[0;36m<cell line: 4>\u001b[0;34m()\u001b[0m\n\u001b[1;32m      2\u001b[0m \u001b[0mprint\u001b[0m \u001b[0;34m(\u001b[0m\u001b[0mT\u001b[0m\u001b[0;34m)\u001b[0m\u001b[0;34m\u001b[0m\u001b[0;34m\u001b[0m\u001b[0m\n\u001b[1;32m      3\u001b[0m \u001b[0mprint\u001b[0m \u001b[0;34m(\u001b[0m\u001b[0mT\u001b[0m\u001b[0;34m[\u001b[0m\u001b[0;36m3\u001b[0m\u001b[0;34m]\u001b[0m\u001b[0;34m)\u001b[0m\u001b[0;34m\u001b[0m\u001b[0;34m\u001b[0m\u001b[0m\n\u001b[0;32m----> 4\u001b[0;31m \u001b[0mt\u001b[0m\u001b[0;34m[\u001b[0m\u001b[0;36m3\u001b[0m\u001b[0;34m]\u001b[0m\u001b[0;34m\u001b[0m\u001b[0;34m\u001b[0m\u001b[0m\n\u001b[0m",
            "\u001b[0;31mNameError\u001b[0m: name 't' is not defined"
          ]
        }
      ]
    },
    {
      "cell_type": "markdown",
      "source": [
        "Uma Ferramenta muita utilizada em tuplas é o **desempacotamento**, que permite attribuir os elementos armazenados em uma tupla a diversas variáveis.\n",
        "\n",
        "**Exemplo:**\n"
      ],
      "metadata": {
        "id": "4Y19zheCIGJy"
      }
    },
    {
      "cell_type": "code",
      "source": [
        "T = (10, 20, 30, 40, 50)\n",
        "a, b, c, d, e = T\n",
        "print(\"a =\" , a, \"b =\", b)\n",
        "print(\"d + e =\", d+e)"
      ],
      "metadata": {
        "colab": {
          "base_uri": "https://localhost:8080/"
        },
        "id": "9hLUh1e0IlXX",
        "outputId": "dfecc181-161f-467e-c25e-0696c89b332c"
      },
      "execution_count": null,
      "outputs": [
        {
          "output_type": "stream",
          "name": "stdout",
          "text": [
            "a = 10 b = 20\n",
            "d + e = 90\n"
          ]
        }
      ]
    },
    {
      "cell_type": "markdown",
      "source": [
        "## *Dicionários*\n",
        "\n",
        "Dicionário é um conjunto de valores, onde cada valor é associado a uma chave de acesso. Um  dicionário em Python é declarado da seguinte forma:\n",
        "\n",
        "\n",
        "\n",
        "```\n",
        "      Nome_dicionario = { chave1: valor1,\n",
        "                          chave2: valor2,\n",
        "                          chave3: valor3,\n",
        "                              .....\n",
        "                          chaveN : valorN}\n",
        "```\n",
        "\n"
      ],
      "metadata": {
        "id": "UnQEU_LOJf1Z"
      }
    },
    {
      "cell_type": "markdown",
      "source": [
        "# **Laços de Repetição**\n",
        "\n",
        "O Laço de Repetição é utilizada para executar uma mesma sequência de comandos várias vezes.\n",
        "\n",
        "A repetição está associada ou a uma condição, que indica se deve continuar ou não a repetição, ou a uma sequência de valores, que determina quantas vezes a sequência deve ser repetida. Os laços de repetição são conhecidas também como **(loops)**.\n",
        "\n"
      ],
      "metadata": {
        "id": "Bm_2-YqzLmVd"
      }
    },
    {
      "cell_type": "markdown",
      "source": [
        "## *Laço while*\n",
        "No laço while, o trecho de código está associado a uma condição. Enquanto a condição tiver valor verdadeiro, o trecho é executado. Quando a condição passa a ter valor falso a repetição termmina.\n",
        "\n",
        "Sintaxe:\n",
        "\n",
        "\n",
        "\n",
        "```\n",
        "      while <condicao>:\n",
        "            <Bloco de comandos>\n",
        "```\n",
        "**Exemplo 1:**\n",
        "\n"
      ],
      "metadata": {
        "id": "gw1Qi6NNbqyW"
      }
    },
    {
      "cell_type": "code",
      "source": [
        "# Digitar a senha correta:\n",
        "\n",
        "senha = \"54321\"\n",
        "leitura =\" \"\n",
        "while (leitura != senha):\n",
        "    leitura = input(\"Digite a senha: \")\n",
        "    if leitura == senha :\n",
        "        print('Acesso liberado ')\n",
        "    else:\n",
        "        print('Senha incorreta. Tente novamente')"
      ],
      "metadata": {
        "colab": {
          "base_uri": "https://localhost:8080/"
        },
        "id": "iGYxDocKSNen",
        "outputId": "c250d229-51ed-4116-9087-2ba57617d72a"
      },
      "execution_count": null,
      "outputs": [
        {
          "output_type": "stream",
          "name": "stdout",
          "text": [
            "Digite a senha: tbhij\n",
            "Senha incorreta. Tente novamente\n",
            "Digite a senha: 654321\n",
            "Senha incorreta. Tente novamente\n",
            "Digite a senha: 54321\n",
            "Acesso liberado \n"
          ]
        }
      ]
    },
    {
      "cell_type": "markdown",
      "source": [
        "**Exemplo 2:**\n"
      ],
      "metadata": {
        "id": "D13yM3XDT27H"
      }
    },
    {
      "cell_type": "code",
      "source": [
        "# Encontre a soma de 5 valores:\n",
        "# int ou float int = numeros inteiros  e float = números decimais.\n",
        "\n",
        "contador = 0\n",
        "somador = 0\n",
        "while contador < 5:\n",
        "    contador = contador + 1\n",
        "    valor = int(input('Digite o '+str(contador)+'º valor: '))\n",
        "    somador = somador + valor\n",
        "    print('Soma = ', somador)"
      ],
      "metadata": {
        "colab": {
          "base_uri": "https://localhost:8080/"
        },
        "id": "efOan871T8JC",
        "outputId": "5a06023f-fd15-4283-cb62-85d3234c8b73"
      },
      "execution_count": null,
      "outputs": [
        {
          "output_type": "stream",
          "name": "stdout",
          "text": [
            "Digite o 1º valor: 2\n",
            "Soma =  2\n",
            "Digite o 2º valor: 3\n",
            "Soma =  5\n",
            "Digite o 3º valor: 4\n",
            "Soma =  9\n",
            "Digite o 4º valor: 6\n",
            "Soma =  15\n",
            "Digite o 5º valor: 6\n",
            "Soma =  21\n"
          ]
        }
      ]
    },
    {
      "cell_type": "markdown",
      "source": [
        "## Laço for\n",
        "O laço **for** é a estrutura de estrutura de repetição mais utilizada em Python. Pode ser utlizado com uma sequência numérica (gerada com o comando **range**) ou associado a uma lista. O trecho de código da repetição é executado para cada valor da sequência numérica ou da lista.\n",
        "\n",
        "**Sintaxe:**\n",
        "\n",
        "\n",
        "```\n",
        "    for <variavel> in range (inicio, limite, passo):\n",
        "          <Bloco de comandos>\n",
        "ou\n",
        "    for <variavel> in <lista>:\n",
        "          <Bloco de comandos>\n",
        "```\n",
        "**Exemplo 1:**\n",
        "\n"
      ],
      "metadata": {
        "id": "cP6WWGYaW_NK"
      }
    },
    {
      "cell_type": "code",
      "source": [
        "# Encontrar a soma S = 1+4+7+10+13+16+19\n",
        "\n",
        "S=0\n",
        "for x in range(1,20,3):\n",
        "    S = S+x\n",
        "print('Soma = ',S)"
      ],
      "metadata": {
        "colab": {
          "base_uri": "https://localhost:8080/"
        },
        "id": "FOcj0Sx7YpXY",
        "outputId": "9afc8945-b6a8-4e52-964d-75601320e36b"
      },
      "execution_count": null,
      "outputs": [
        {
          "output_type": "stream",
          "name": "stdout",
          "text": [
            "Soma =  70\n"
          ]
        }
      ]
    },
    {
      "cell_type": "markdown",
      "source": [
        "**Exemplo 2:**\n"
      ],
      "metadata": {
        "id": "_qK7R0wHZbSv"
      }
    },
    {
      "cell_type": "code",
      "source": [
        "# As notas de um aluno estão armazenadas em uma lista. Calcular a média dessas notas.\n",
        "\n",
        "Lista_notas= {3.4, 6.6, 8, 9, 10, 9.5, 8.8, 4.3}\n",
        "soma=0\n",
        "for nota in Lista_notas:\n",
        "    soma = soma+nota\n",
        "média = soma/len(Lista_notas)\n",
        "print('Média = ', média)"
      ],
      "metadata": {
        "colab": {
          "base_uri": "https://localhost:8080/"
        },
        "id": "BpoOXyt-Zeif",
        "outputId": "4e79145d-de39-4241-d937-1e7a1925761d"
      },
      "execution_count": null,
      "outputs": [
        {
          "output_type": "stream",
          "name": "stdout",
          "text": [
            "Média =  7.449999999999999\n"
          ]
        }
      ]
    },
    {
      "cell_type": "markdown",
      "source": [
        "\n",
        "\n",
        "> ## *Exercícios: Laços de Repetição*\n",
        "**1-** Escreva um programa para encontrar a soma S = 3 + 6 + 9 + .... + 333.\n",
        "\n",
        "\n",
        "\n",
        "\n"
      ],
      "metadata": {
        "id": "yZZn9BM7aYuQ"
      }
    },
    {
      "cell_type": "code",
      "source": [
        "# Sua resposta"
      ],
      "metadata": {
        "id": "WRF-YQVSa_kh"
      },
      "execution_count": null,
      "outputs": []
    },
    {
      "cell_type": "markdown",
      "source": [
        "**2-** Escreva um código que leia um número de 1 a 10, e mostre a tabuada desse número.\n"
      ],
      "metadata": {
        "id": "Z1L2r4EIbC6f"
      }
    },
    {
      "cell_type": "code",
      "source": [
        "# Sua resposta"
      ],
      "metadata": {
        "id": "pGxZhGNebPhE"
      },
      "execution_count": null,
      "outputs": []
    },
    {
      "cell_type": "markdown",
      "source": [
        "# **Funções**\n",
        "Funções são pequenos trechos de código reutilizáveis. Elas permitem dar um nome a um bloco de comandos e executar esse bloco, a partir de qualquer lugar do programa.\n",
        "\n",
        "\n"
      ],
      "metadata": {
        "id": "Le8V1m-lcej_"
      }
    },
    {
      "cell_type": "markdown",
      "source": [
        "## *Como definir uma função*\n",
        "Funções são definidas usando a palavra-chave **def**, conforme a sintaxe a seguir:\n",
        "\n",
        "**Sintaxe:**\n",
        "\n",
        "\n",
        "```\n",
        "    def <nome_função>(<definição dos parâmetros>)\n",
        "          <Bloco de comandos da função>\n",
        "\n",
        "Obs: A definição dos parâmetros é opcional.\n",
        "```\n",
        "**Exemplo:**\n"
      ],
      "metadata": {
        "id": "EzRX_692d7rn"
      }
    },
    {
      "cell_type": "code",
      "source": [
        "# Definindo uma função simples:\n",
        "\n",
        "def hello():\n",
        "    print (\"Olá mundo!!!\")\n",
        "\n",
        "# Para usar a função, basta chamá-la pelo nome:\n",
        "# resposta:\n",
        "\n",
        "hello()"
      ],
      "metadata": {
        "colab": {
          "base_uri": "https://localhost:8080/"
        },
        "id": "Z4FeJ4ohfDPv",
        "outputId": "c3104fc2-dedc-42f4-fe61-fe5db2c1029e"
      },
      "execution_count": null,
      "outputs": [
        {
          "output_type": "stream",
          "name": "stdout",
          "text": [
            "Olá mundo!!!\n"
          ]
        }
      ]
    },
    {
      "cell_type": "markdown",
      "source": [
        "\n",
        "\n",
        "> ## *Parâmetros e Argumentos*\n",
        "Parâmetros são as variáveis que podem ser incluídas nos parênteses das funções. Quando a função é chamada são passados valores para essas variáveis. Esses valores são chamados argumentos. O corpo da função pode utilizar essas variáveis, cujos valores podem modificar o comportamento da função.\n",
        "\n",
        "**Exemplo:**\n"
      ],
      "metadata": {
        "id": "EkAOrD9EgbRK"
      }
    },
    {
      "cell_type": "code",
      "source": [
        "# Escrevendo função que imprima o maior entre 2 valores:\n",
        "def maior (x,y):\n",
        "    if x>y:\n",
        "        print(x)\n",
        "    else:\n",
        "        print(y)\n",
        "\n",
        "# Para testar é só usar 2 números.\n",
        "# Exemplo:\n",
        "\n",
        "maior(23,6)"
      ],
      "metadata": {
        "colab": {
          "base_uri": "https://localhost:8080/"
        },
        "id": "Xm393qBfhUkZ",
        "outputId": "870498fa-4a47-4f14-e964-e97336593294"
      },
      "execution_count": null,
      "outputs": [
        {
          "output_type": "stream",
          "name": "stdout",
          "text": [
            "23\n"
          ]
        }
      ]
    },
    {
      "cell_type": "markdown",
      "source": [
        "## *Escopo das Variáveis*\n",
        "\n",
        "Toda variável utilizada dentro de uma função tem escopo local, isto é, ela não será acessível por outras funções ou pelo programa principal. Se houver variável com o mesmo nome fora função, será uma outra variável, completamente independentes entre si.\n",
        "\n",
        "**Exemplo:**\n"
      ],
      "metadata": {
        "id": "1F49hTfBsfD5"
      }
    },
    {
      "cell_type": "code",
      "source": [
        "def soma(x,y):\n",
        "    total = x+y\n",
        "    print(\"Total soma = \",total)\n",
        "\n",
        "#programa principal\n",
        "total = 10\n",
        "soma(8,5)\n",
        "print(\"Total principal = \",total)"
      ],
      "metadata": {
        "colab": {
          "base_uri": "https://localhost:8080/"
        },
        "id": "hW9sRMp8trAd",
        "outputId": "25a80cd1-f751-4adc-872d-4636b03c342b"
      },
      "execution_count": null,
      "outputs": [
        {
          "output_type": "stream",
          "name": "stdout",
          "text": [
            "Total soma =  13\n",
            "Total principal =  10\n"
          ]
        }
      ]
    },
    {
      "cell_type": "markdown",
      "source": [
        "Para uma variável ser compartilhada entre diversas funções e o programa principal, ela deve ser definida como **variável global**. PAra isto, utiliza-se a instrução **global** para declarar a variável em todas as funções para as quais ela deva estar acessível. O mesmo vale para o programa principal.\n",
        "\n",
        "**Exemplo:**\n"
      ],
      "metadata": {
        "id": "6KPpaCFTukkO"
      }
    },
    {
      "cell_type": "code",
      "source": [
        "def soma(x,y):\n",
        "    global total\n",
        "    total = x+y\n",
        "    print(\"Total soma = \",total)\n",
        "\n",
        "#programa principal\n",
        "global total\n",
        "total = 10\n",
        "soma(8,5)\n",
        "print(\"Total principal = \",total)"
      ],
      "metadata": {
        "colab": {
          "base_uri": "https://localhost:8080/"
        },
        "id": "F99WxNiOvPqZ",
        "outputId": "04799fbb-5d33-4474-fb82-52ebc87f3f6e"
      },
      "execution_count": null,
      "outputs": [
        {
          "output_type": "stream",
          "name": "stdout",
          "text": [
            "Total soma =  13\n",
            "Total principal =  13\n"
          ]
        }
      ]
    },
    {
      "cell_type": "markdown",
      "source": [
        "## *Retorno de Valores*\n",
        "\n",
        "O comando **return** é usado para retornar um valor de uma função e encerrá-la. Caso não seja declarado um valor retorno, a função retorna o valor **None** (que significa nada, sem valor).\n",
        "\n",
        "**Exemplo:**"
      ],
      "metadata": {
        "id": "wBwLQOEBwRqI"
      }
    },
    {
      "cell_type": "code",
      "source": [
        "def soma(x,y):\n",
        "    total = x+y\n",
        "    return total\n",
        "\n",
        "#programa principal\n",
        "s=soma(8,5)\n",
        "print(\"soma = \",s)"
      ],
      "metadata": {
        "colab": {
          "base_uri": "https://localhost:8080/"
        },
        "id": "lwuN707bw0wS",
        "outputId": "e7e8bf0e-0480-4284-91e6-9cb7b7a4b20d"
      },
      "execution_count": null,
      "outputs": [
        {
          "output_type": "stream",
          "name": "stdout",
          "text": [
            "soma =  13\n"
          ]
        }
      ]
    },
    {
      "cell_type": "markdown",
      "source": [
        "*Observações:*\n",
        "\n",
        "a) O valor da variável total, calculado na função soma, retornou da função e foi atribuído à variável s.\n",
        "\n",
        "b) O comando após o **return** foi ignorado.\n"
      ],
      "metadata": {
        "id": "zKVKzPV0xNR8"
      }
    },
    {
      "cell_type": "markdown",
      "source": [
        "## *Valor Padrão*\n",
        "\n",
        "É possível definir um valor padrão para os parâmetros da função. Neste caso, quando o valor é omitido na chamada da função, a variável assume o valor padrão.\n",
        "\n",
        "**Exemplo:**\n"
      ],
      "metadata": {
        "id": "l6DB9Cr3xs9J"
      }
    },
    {
      "cell_type": "code",
      "source": [
        "def calcula_juros(valor, taxa=10):\n",
        "    juros = valor*taxa/100\n",
        "    return juros"
      ],
      "metadata": {
        "id": "DI9VFazkyFyR"
      },
      "execution_count": null,
      "outputs": []
    },
    {
      "cell_type": "markdown",
      "source": [
        "## *Exercícios: Funções**\n",
        "\n",
        "**1-** Crie uma função que receba como parâmetro uma lista, com valores de qualquer tipo. A função deve imprimir todos os elementos da lista numerando-os.\n",
        "\n"
      ],
      "metadata": {
        "id": "NakDZI_Fy9DQ"
      }
    },
    {
      "cell_type": "code",
      "source": [
        " # Sua resposta"
      ],
      "metadata": {
        "id": "YwhL4b-5zm4b"
      },
      "execution_count": null,
      "outputs": []
    },
    {
      "cell_type": "markdown",
      "source": [
        "**2-** Crie uma função que receba como parâmetro uma lista com valores numéricos e retorne a média desses valores.\n",
        "\n"
      ],
      "metadata": {
        "id": "QRy-k52Tzq82"
      }
    },
    {
      "cell_type": "code",
      "source": [
        "# Sua resposta"
      ],
      "metadata": {
        "id": "vh9hpUDZz4bM"
      },
      "execution_count": null,
      "outputs": []
    },
    {
      "cell_type": "markdown",
      "source": [
        "# Referências\n",
        "\n",
        "MENEZES, Coutinho N N. *INTRODUÇÃO À PROGRAMAÇÃO COM PYTHON*. 3 EDIÇÃO.: novatec, 2020.\n",
        "\n",
        "https://colab.research.google.com/drive/\n",
        "1SIZ93pwbG-I7hC-Osfx5L8btK9ILE0OM#scrollTo=kC5s5HRcEsSM\n",
        "\n",
        "https://colab.research.google.com/github/ProfAllanIFBA/Curso_Python_Com_Jupyter_Notebook\n"
      ],
      "metadata": {
        "id": "w5hEPYS4RUa9"
      }
    }
  ]
}